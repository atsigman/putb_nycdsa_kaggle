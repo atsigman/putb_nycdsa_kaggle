{
 "cells": [
  {
   "cell_type": "code",
   "execution_count": 24,
   "metadata": {},
   "outputs": [],
   "source": [
    "# Initializing\n",
    "\n",
    "# data processing. pandas as alias pd\n",
    "import pandas as pd \n",
    "# linear algebra. numpy as alias np\n",
    "import numpy as np \n",
    "\n",
    "# If you're working with a notebook, don't forget to use Matplotlib magic! \n",
    "%matplotlib inline\n",
    "# matlab-style plotting\n",
    "import matplotlib.pyplot as plt \n",
    "import seaborn as sns\n",
    "color = sns.color_palette()\n",
    "# Set the Seaborn theme if desired\n",
    "sns.set_style(\"darkgrid\")\n",
    "\n",
    "# ignore sklearn & seaborn warnings\n",
    "import warnings\n",
    "def ignore_warn(*args, **kwargs):\n",
    "    pass\n",
    "warnings.warn = ignore_warn \n",
    "\n",
    "#for some statistics\n",
    "from scipy import stats\n",
    "from scipy.stats import norm, skew  #ex. sns(fit = norm)\n",
    "\n",
    "\n",
    "# Format scientific notation from pandas aggregation\n",
    "pd.set_option('display.float_format', lambda x: '%.3f' % x)\n",
    "pd.set_option('display.max_columns', 500)\n",
    "pd.set_option('display.width', 1000) "
   ]
  },
  {
   "cell_type": "code",
   "execution_count": 25,
   "metadata": {},
   "outputs": [],
   "source": [
    "df_dummies = pd.read_csv('data/all_data.csv')\n",
    "df_no_dummies = pd.read_csv('data/all_data_no_dummies.csv') "
   ]
  },
  {
   "cell_type": "code",
   "execution_count": 26,
   "metadata": {},
   "outputs": [],
   "source": [
    "targets = pd.read_csv('data/y_train.csv') "
   ]
  },
  {
   "cell_type": "code",
   "execution_count": 48,
   "metadata": {},
   "outputs": [],
   "source": [
    "from sklearn.model_selection import GridSearchCV, train_test_split \n",
    "\n",
    "from sklearn import linear_model as lm \n",
    "from sklearn.ensemble import GradientBoostingRegressor as gbr, RandomForestRegressor as rfr\n",
    "\n",
    "from sklearn.metrics import mean_squared_error  \n",
    "\n",
    "#rmse error: \n",
    "def rmse(y, y_pred):\n",
    "    return np.sqrt(mean_squared_error(y, y_pred))"
   ]
  },
  {
   "cell_type": "markdown",
   "metadata": {},
   "source": [
    "### Split all_data into train and test: "
   ]
  },
  {
   "cell_type": "code",
   "execution_count": 52,
   "metadata": {},
   "outputs": [],
   "source": [
    "ntrain = targets.shape[0] \n",
    "x_d = df_dummies[:ntrain] \n",
    "x_nd = df_no_dummies[:ntrain] \n",
    "targets_log = targets.apply(np.log)\n"
   ]
  },
  {
   "cell_type": "code",
   "execution_count": 44,
   "metadata": {},
   "outputs": [],
   "source": [
    "from sklearn.preprocessing import StandardScaler \n",
    "\n",
    "scaler = StandardScaler()\n",
    "scaler.fit(x_d)\n",
    "x_d_std = scaler.transform(x_d)\n"
   ]
  },
  {
   "cell_type": "markdown",
   "metadata": {},
   "source": [
    "### Split x_ and x_nd + targets into train and test using train_test_split: "
   ]
  },
  {
   "cell_type": "code",
   "execution_count": 58,
   "metadata": {},
   "outputs": [],
   "source": [
    "x_d_train, x_d_test, y_d_train, y_d_test = train_test_split(x_d_std, targets_log, test_size = 0.2, random_state = 42) \n",
    "x_nd_train, x_nd_test, y_nd_train, y_nd_test = train_test_split(x_nd, targets_log, test_size = 0.2, random_state = 42)  \n"
   ]
  },
  {
   "cell_type": "markdown",
   "metadata": {},
   "source": [
    "## MODELLING"
   ]
  },
  {
   "cell_type": "markdown",
   "metadata": {},
   "source": [
    "### 1. Multiple Linear Regression: "
   ]
  },
  {
   "cell_type": "code",
   "execution_count": 59,
   "metadata": {},
   "outputs": [
    {
     "name": "stdout",
     "output_type": "stream",
     "text": [
      "RMSE train: 0.17318243900299812\n",
      "RMSE test : 15562705841228.213\n",
      "R^2 score: 0.8014776983376941\n"
     ]
    }
   ],
   "source": [
    "lm_model =lm.LinearRegression()\n",
    "lm_model.fit(x_d_train, y_d_train)\n",
    "\n",
    "#RMS error \n",
    "print(\"RMSE train: {}\".format(rmse(y_d_train, lm_model.predict(x_d_train)))) \n",
    "print(\"RMSE test : {}\".format(rmse(y_d_test,  lm_model.predict(x_d_test)))) \n",
    "print('R^2 score: {}'.format(lm_model.score(x_d_train, y_d_train)))\n",
    "\n",
    "\n"
   ]
  },
  {
   "cell_type": "markdown",
   "metadata": {},
   "source": [
    "### 2. Ridge/Lasso/Elastic Net : Penalised LR "
   ]
  },
  {
   "cell_type": "code",
   "execution_count": 62,
   "metadata": {},
   "outputs": [
    {
     "name": "stdout",
     "output_type": "stream",
     "text": [
      "Best params: {'alpha': 206.913808111479}\n",
      "Best score : 0.7509540568316588\n",
      "RMSE train: 0.1742420492610361\n",
      "RMSE test : 0.18741398863428388\n",
      "R^2 score: 0.7990409640247749\n"
     ]
    }
   ],
   "source": [
    "#1. ridge: \n",
    "\n",
    "grid_param = [{'alpha': np.logspace(-4, 4, 20)}]\n",
    "\n",
    "gs = GridSearchCV(estimator=lm.Ridge(random_state=42), param_grid=grid_param, cv=5)\n",
    "\n",
    "gs.fit(x_d_std, targets_log)\n",
    "\n",
    "#cv_results_, grid_scores_ (to obsolete), best_estimator_, best_params_, best_score_\n",
    "print('Best params: {}'.format(gs.best_params_))\n",
    "print('Best score : {}'.format(gs.best_score_))\n",
    "#print('')\n",
    "model = gs.best_estimator_\n",
    "print(\"RMSE train: {}\".format(rmse(y_d_train, model.predict(x_d_train))))\n",
    "print(\"RMSE test : {}\".format(rmse(y_d_test,  model.predict(x_d_test))))\n",
    "print('R^2 score: {}'.format(model.score(x_d_train, y_d_train))) "
   ]
  },
  {
   "cell_type": "code",
   "execution_count": null,
   "metadata": {},
   "outputs": [],
   "source": [
    "#2. Lasso: \n",
    "\n"
   ]
  }
 ],
 "metadata": {
  "kernelspec": {
   "display_name": "Python 3",
   "language": "python",
   "name": "python3"
  },
  "language_info": {
   "codemirror_mode": {
    "name": "ipython",
    "version": 3
   },
   "file_extension": ".py",
   "mimetype": "text/x-python",
   "name": "python",
   "nbconvert_exporter": "python",
   "pygments_lexer": "ipython3",
   "version": "3.6.4"
  }
 },
 "nbformat": 4,
 "nbformat_minor": 2
}
