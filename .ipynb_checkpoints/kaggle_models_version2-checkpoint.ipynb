{
 "cells": [
  {
   "cell_type": "code",
   "execution_count": 83,
   "metadata": {},
   "outputs": [],
   "source": [
    "# Initializing\n",
    "\n",
    "\n",
    "import pandas as pd \n",
    "\n",
    "import numpy as np \n",
    "\n",
    "\n",
    "%matplotlib inline\n",
    "\n",
    "import matplotlib.pyplot as plt \n",
    "import seaborn as sns\n",
    "color = sns.color_palette()\n",
    "\n",
    "sns.set_style(\"darkgrid\")\n",
    "\n",
    "# ignore sklearn & seaborn warnings\n",
    "import warnings\n",
    "def ignore_warn(*args, **kwargs):\n",
    "    pass\n",
    "warnings.warn = ignore_warn \n",
    "\n",
    "\n",
    "from scipy import stats\n",
    "from scipy.stats import norm, skew  #ex. sns(fit = norm)\n",
    "\n",
    "\n",
    "# Format scientific notation from pandas aggregation\n",
    "pd.set_option('display.float_format', lambda x: '%.3f' % x)\n",
    "pd.set_option('display.max_columns', 500)\n",
    "pd.set_option('display.width', 1000) "
   ]
  },
  {
   "cell_type": "code",
   "execution_count": 84,
   "metadata": {},
   "outputs": [],
   "source": [
    "df_dummies = pd.read_csv('data/csv_versions/version2/all_data.csv')\n",
    "df_no_dummies = pd.read_csv('data/csv_versions/version2/all_data_no_dummies.csv') "
   ]
  },
  {
   "cell_type": "code",
   "execution_count": 85,
   "metadata": {},
   "outputs": [],
   "source": [
    "targets = pd.read_csv('data/y_train.csv') "
   ]
  },
  {
   "cell_type": "code",
   "execution_count": 86,
   "metadata": {},
   "outputs": [],
   "source": [
    "from sklearn.model_selection import GridSearchCV, train_test_split \n",
    "\n",
    "from sklearn import linear_model as lm \n",
    "from sklearn.ensemble import GradientBoostingRegressor, RandomForestRegressor \n",
    "\n",
    "from sklearn.metrics import mean_squared_error  \n",
    "\n",
    "#rms error: \n",
    "def rmse(y, y_pred):\n",
    "    return np.sqrt(mean_squared_error(y, y_pred))   "
   ]
  },
  {
   "cell_type": "markdown",
   "metadata": {},
   "source": [
    "### Split all_data into train and test: "
   ]
  },
  {
   "cell_type": "code",
   "execution_count": 87,
   "metadata": {},
   "outputs": [],
   "source": [
    "ntrain = targets.shape[0] \n",
    "x_d = df_dummies[:ntrain]\n",
    "x_d_kag_test = df_dummies[ntrain:]\n",
    "x_nd = df_no_dummies[:ntrain]\n",
    "x_nd__kag_test = df_no_dummies[ntrain:]\n",
    "targets_log = targets.apply(np.log)\n"
   ]
  },
  {
   "cell_type": "code",
   "execution_count": 88,
   "metadata": {},
   "outputs": [
    {
     "data": {
      "text/plain": [
       "(1459, 108)"
      ]
     },
     "execution_count": 88,
     "metadata": {},
     "output_type": "execute_result"
    }
   ],
   "source": [
    "x_d_kag_test.shape"
   ]
  },
  {
   "cell_type": "code",
   "execution_count": 89,
   "metadata": {},
   "outputs": [
    {
     "data": {
      "text/plain": [
       "VinylSd    512\n",
       "HdBoard    220\n",
       "MetalSd    219\n",
       "Wd Sdng    205\n",
       "Plywood    108\n",
       "CemntBd     57\n",
       "BrkFace     50\n",
       "WdShing     26\n",
       "Stucco      24\n",
       "AsbShng     20\n",
       "BrkComm      2\n",
       "Stone        2\n",
       "ImStucc      1\n",
       "CBlock       1\n",
       "AsphShn      1\n",
       "Name: Exterior1st, dtype: int64"
      ]
     },
     "execution_count": 89,
     "metadata": {},
     "output_type": "execute_result"
    }
   ],
   "source": [
    "x_nd.Exterior1st.value_counts() "
   ]
  },
  {
   "cell_type": "code",
   "execution_count": 40,
   "metadata": {},
   "outputs": [
    {
     "data": {
      "text/plain": [
       "NAmes      226\n",
       "CollgCr    150\n",
       "OldTown    113\n",
       "Edwards     98\n",
       "Somerst     86\n",
       "Gilbert     79\n",
       "NridgHt     74\n",
       "Sawyer      74\n",
       "NWAmes      73\n",
       "SawyerW     59\n",
       "BrkSide     58\n",
       "Crawfor     50\n",
       "Mitchel     49\n",
       "NoRidge     38\n",
       "IDOTRR      37\n",
       "Timber      37\n",
       "ClearCr     28\n",
       "SWISU       25\n",
       "StoneBr     22\n",
       "MeadowV     17\n",
       "Blmngtn     17\n",
       "BrDale      16\n",
       "Veenker     11\n",
       "NPkVill      9\n",
       "Blueste      2\n",
       "Name: Neighborhood, dtype: int64"
      ]
     },
     "execution_count": 40,
     "metadata": {},
     "output_type": "execute_result"
    }
   ],
   "source": [
    "x_nd.Neighborhood.value_counts() #NAmes "
   ]
  },
  {
   "cell_type": "code",
   "execution_count": 41,
   "metadata": {},
   "outputs": [
    {
     "data": {
      "text/plain": [
       "CBlock    635\n",
       "PConc     634\n",
       "BrkTil    146\n",
       "Slab       24\n",
       "Stone       6\n",
       "Wood        3\n",
       "Name: Foundation, dtype: int64"
      ]
     },
     "execution_count": 41,
     "metadata": {},
     "output_type": "execute_result"
    }
   ],
   "source": [
    "x_nd.Foundation.value_counts() #CBlock"
   ]
  },
  {
   "cell_type": "code",
   "execution_count": 42,
   "metadata": {},
   "outputs": [
    {
     "data": {
      "text/plain": [
       "1Story    723\n",
       "2Story    437\n",
       "1.5Fin    154\n",
       "SLvl       64\n",
       "SFoyer     37\n",
       "1.5Unf     14\n",
       "2.5Unf     11\n",
       "2.5Fin      8\n",
       "Name: HouseStyle, dtype: int64"
      ]
     },
     "execution_count": 42,
     "metadata": {},
     "output_type": "execute_result"
    }
   ],
   "source": [
    "x_nd.HouseStyle.value_counts() #1Story"
   ]
  },
  {
   "cell_type": "code",
   "execution_count": 43,
   "metadata": {},
   "outputs": [
    {
     "data": {
      "text/plain": [
       "Reg    922\n",
       "IR1    477\n",
       "IR2     40\n",
       "IR3      9\n",
       "Name: LotShape, dtype: int64"
      ]
     },
     "execution_count": 43,
     "metadata": {},
     "output_type": "execute_result"
    }
   ],
   "source": [
    "x_nd.LotShape.value_counts() #Reg "
   ]
  },
  {
   "cell_type": "code",
   "execution_count": 98,
   "metadata": {},
   "outputs": [
    {
     "data": {
      "image/png": "[encoded data removed]",
      "text/plain": [
       "<matplotlib.figure.Figure at 0x1171c2048>"
      ]
     },
     "metadata": {},
     "output_type": "display_data"
    },
    {
     "data": {
      "image/png": "[encoded data removed]",
      "text/plain": [
       "<matplotlib.figure.Figure at 0x1172705f8>"
      ]
     },
     "metadata": {},
     "output_type": "display_data"
    },
    {
     "data": {
      "image/png": "[encoded data removed]",
      "text/plain": [
       "<matplotlib.figure.Figure at 0x1155586d8>"
      ]
     },
     "metadata": {},
     "output_type": "display_data"
    },
    {
     "data": {
      "image/png": "[encoded data removed]",
      "text/plain": [
       "<matplotlib.figure.Figure at 0x1153056a0>"
      ]
     },
     "metadata": {},
     "output_type": "display_data"
    },
    {
     "data": {
      "image/png": "[encoded data removed]",
      "text/plain": [
       "<matplotlib.figure.Figure at 0x1149810b8>"
      ]
     },
     "metadata": {},
     "output_type": "display_data"
    },
    {
     "data": {
      "image/png": "[encoded data removed]",
      "text/plain": [
       "<matplotlib.figure.Figure at 0x11738cc50>"
      ]
     },
     "metadata": {},
     "output_type": "display_data"
    },
    {
     "data": {
      "image/png": "[encoded data removed]",
      "text/plain": [
       "<matplotlib.figure.Figure at 0x114a19b38>"
      ]
     },
     "metadata": {},
     "output_type": "display_data"
    },
    {
     "data": {
      "image/png": "[encoded data removed]",
      "text/plain": [
       "<matplotlib.figure.Figure at 0x117270e48>"
      ]
     },
     "metadata": {},
     "output_type": "display_data"
    }
   ],
   "source": [
    "for i, col in enumerate(x_nd.select_dtypes(['object']).columns):\n",
    "    plt.figure(i)\n",
    "    ax = sns.countplot(x = col, data = x_nd)\n",
    "    plt.xticks(rotation=45)\n",
    "    plt.show() "
   ]
  },
  {
   "cell_type": "code",
   "execution_count": 99,
   "metadata": {},
   "outputs": [],
   "source": [
    "#drop dominant columns for dummified variables \n",
    "\n",
    "x_d_dom_drop = x_d.drop(['Alley_None', 'Exterior1st_VinylSd', 'Foundation_CBlock', 'GarageType_Attchd',  'HouseStyle_1Story', 'MasVnrType_None', 'MiscFeature_None','Neighborhood_NAmes'], axis = 1)  "
   ]
  },
  {
   "cell_type": "code",
   "execution_count": 100,
   "metadata": {},
   "outputs": [],
   "source": [
    "from sklearn.preprocessing import StandardScaler \n",
    "\n",
    "scaler = StandardScaler()\n",
    "scaler.fit(x_d_dom_drop)\n",
    "x_d_std = scaler.transform(x_d_dom_drop)\n",
    "\n",
    "x_d_std = pd.DataFrame(x_d_std) \n"
   ]
  },
  {
   "cell_type": "code",
   "execution_count": 101,
   "metadata": {},
   "outputs": [],
   "source": [
    "x_d_kag_dom_drop = x_d_kag_test.drop(['Alley_None', 'Exterior1st_VinylSd', 'Foundation_CBlock', 'GarageType_Attchd','HouseStyle_1Story', 'MasVnrType_None', 'MiscFeature_None','Neighborhood_NAmes'], axis = 1)  "
   ]
  },
  {
   "cell_type": "code",
   "execution_count": 102,
   "metadata": {},
   "outputs": [],
   "source": [
    "scaler.fit(x_d_kag_dom_drop)\n",
    "x_d_kag_std = scaler.transform(x_d_kag_dom_drop)\n",
    "\n",
    "x_d_kag_std = pd.DataFrame(x_d_kag_std)  "
   ]
  },
  {
   "cell_type": "markdown",
   "metadata": {},
   "source": [
    "### Split x_d_std and targets into train and test using train_test_split: "
   ]
  },
  {
   "cell_type": "code",
   "execution_count": 103,
   "metadata": {},
   "outputs": [],
   "source": [
    "x_d_train, x_d_test, y_d_train, y_d_test = train_test_split(x_d_std, targets_log, test_size = 0.2, random_state = 42) \n"
   ]
  },
  {
   "cell_type": "markdown",
   "metadata": {},
   "source": [
    "## MODELLING"
   ]
  },
  {
   "cell_type": "markdown",
   "metadata": {},
   "source": [
    "### 1. Multiple Linear Regression: "
   ]
  },
  {
   "cell_type": "code",
   "execution_count": 104,
   "metadata": {},
   "outputs": [
    {
     "name": "stdout",
     "output_type": "stream",
     "text": [
      "RMSE train: 0.10866685310392617\n",
      "RMSE test : 0.15003593259612694\n",
      "R^2 score: 0.9218379791720993\n"
     ]
    }
   ],
   "source": [
    "lm_model =lm.LinearRegression()\n",
    "lm_model.fit(x_d_train, y_d_train)\n",
    "\n",
    "#RMS error \n",
    "print(\"RMSE train: {}\".format(rmse(y_d_train, lm_model.predict(x_d_train)))) \n",
    "print(\"RMSE test : {}\".format(rmse(y_d_test,  lm_model.predict(x_d_test)))) \n",
    "print('R^2 score: {}'.format(lm_model.score(x_d_train, y_d_train)))\n",
    "\n",
    "\n"
   ]
  },
  {
   "cell_type": "markdown",
   "metadata": {},
   "source": [
    "### 2. Ridge/Lasso/Elastic Net : Penalised LR "
   ]
  },
  {
   "cell_type": "code",
   "execution_count": 105,
   "metadata": {},
   "outputs": [
    {
     "name": "stdout",
     "output_type": "stream",
     "text": [
      "Best params: {'alpha': 0.01}\n",
      "Best score : 0.8844034339701139\n",
      "RMSE train: 0.11017850008840399\n",
      "RMSE test : 0.13913322967876882\n",
      "R^2 score: 0.9196482555172825\n"
     ]
    }
   ],
   "source": [
    "#1. ridge: \n",
    "\n",
    "grid_param = [{'alpha': np.linspace(1e-3,1e-2,50)}]\n",
    "\n",
    "gs = GridSearchCV(estimator=lm.Ridge(random_state=42), param_grid=grid_param, cv=5)\n",
    "\n",
    "gs.fit(x_d_std, targets_log)\n",
    "\n",
    "#cv_results_, grid_scores_ (to obsolete), best_estimator_, best_params_, best_score_\n",
    "print('Best params: {}'.format(gs.best_params_))\n",
    "print('Best score : {}'.format(gs.best_score_))\n",
    "#print('')\n",
    "model = gs.best_estimator_\n",
    "print(\"RMSE train: {}\".format(rmse(y_d_train, model.predict(x_d_train))))\n",
    "print(\"RMSE test : {}\".format(rmse(y_d_test,  model.predict(x_d_test))))\n",
    "print('R^2 score: {}'.format(model.score(x_d_train, y_d_train))) "
   ]
  },
  {
   "cell_type": "code",
   "execution_count": 166,
   "metadata": {},
   "outputs": [
    {
     "data": {
      "text/plain": [
       "(1459, 65)"
      ]
     },
     "execution_count": 166,
     "metadata": {},
     "output_type": "execute_result"
    }
   ],
   "source": [
    "x_d_kag_std.shape"
   ]
  },
  {
   "cell_type": "markdown",
   "metadata": {},
   "source": [
    "### Kaggle Test Submission 1: Predict on test set using Ridge regression"
   ]
  },
  {
   "cell_type": "code",
   "execution_count": 193,
   "metadata": {},
   "outputs": [],
   "source": [
    "y_pred_ridge = model.predict(x_d_kag_std)  \n",
    "y_pred_ridge = pd.DataFrame(y_pred_ridge) \n",
    "y_pred_ridge[0] = y_pred_ridge[0].apply(lambda x: np.exp(x)) \n",
    "y_pred_ridge = y_pred_ridge.reset_index() \n",
    "y_pred_ridge.columns = ['Id', 'SalePrice']\n",
    "y_pred_ridge['Id'] = y_pred_ridge['Id'].apply(lambda x: x + 1461) \n",
    "y_pred_ridge.set_index('Id', inplace = True)\n",
    "y_pred_ridge.to_csv('data/kaggle_ridge_submission1.csv') #0.14729 "
   ]
  },
  {
   "cell_type": "code",
   "execution_count": 106,
   "metadata": {},
   "outputs": [
    {
     "name": "stdout",
     "output_type": "stream",
     "text": [
      "Best params: {'alpha': 0.0037473684210526316}\n",
      "Best score : 0.8895540948664006\n",
      "RMSE train: 0.11468871627696595\n",
      "RMSE test : 0.1418132982967078\n"
     ]
    }
   ],
   "source": [
    "#2. Lasso: \n",
    "\n",
    "grid_param = [{'alpha': np.linspace(1e-4,1e-2,20)}] \n",
    "\n",
    "gs = GridSearchCV(estimator=lm.Lasso(random_state= 42, normalize=False), param_grid=grid_param, cv=5)\n",
    "\n",
    "gs.fit(x_d_std, targets_log)\n",
    "\n",
    "#cv_results_, grid_scores_ (to obsolete), best_estimator_, best_params_, best_score_\n",
    "print('Best params: {}'.format(gs.best_params_))\n",
    "print('Best score : {}'.format(gs.best_score_))\n",
    "#print('')\n",
    "model = gs.best_estimator_\n",
    "print(\"RMSE train: {}\".format(rmse(y_d_train, model.predict(x_d_train))))\n",
    "print(\"RMSE test : {}\".format(rmse(y_d_test,  model.predict(x_d_test)))) \n"
   ]
  },
  {
   "cell_type": "code",
   "execution_count": 107,
   "metadata": {},
   "outputs": [
    {
     "name": "stdout",
     "output_type": "stream",
     "text": [
      "The intercept is 12.0156\n",
      "The slopes are \n",
      "0     0.003\n",
      "1    -0.005\n",
      "2     0.028\n",
      "3    -0.009\n",
      "4    -0.000\n",
      "5    -0.001\n",
      "6    -0.000\n",
      "7    -0.000\n",
      "8     0.000\n",
      "9    -0.002\n",
      "10    0.017\n",
      "11    0.006\n",
      "12    0.007\n",
      "13    0.002\n",
      "14   -0.000\n",
      "15    0.000\n",
      "16   -0.000\n",
      "17    0.065\n",
      "18   -0.016\n",
      "19    0.088\n",
      "20   -0.013\n",
      "21    0.021\n",
      "22    0.013\n",
      "23   -0.000\n",
      "24   -0.000\n",
      "25    0.010\n",
      "26    0.006\n",
      "27    0.098\n",
      "28    0.000\n",
      "29    0.001\n",
      "      ...  \n",
      "70   -0.000\n",
      "71    0.000\n",
      "72   -0.000\n",
      "73   -0.000\n",
      "74   -0.000\n",
      "75   -0.001\n",
      "76   -0.000\n",
      "77   -0.000\n",
      "78   -0.012\n",
      "79    0.003\n",
      "80    0.004\n",
      "81   -0.000\n",
      "82    0.024\n",
      "83   -0.004\n",
      "84    0.000\n",
      "85   -0.018\n",
      "86   -0.014\n",
      "87   -0.002\n",
      "88   -0.000\n",
      "89   -0.000\n",
      "90    0.001\n",
      "91    0.006\n",
      "92   -0.011\n",
      "93    0.000\n",
      "94   -0.000\n",
      "95   -0.002\n",
      "96    0.003\n",
      "97    0.005\n",
      "98    0.000\n",
      "99    0.005\n",
      "Length: 100, dtype: float64\n"
     ]
    }
   ],
   "source": [
    "model.fit(x_d_std, targets_log)\n",
    "print('The intercept is %.4f' %(model.intercept_))\n",
    "lassoCoef = pd.Series(model.coef_, index=x_d_std.columns)\n",
    "print('The slopes are \\n%s' %(lassoCoef))  "
   ]
  },
  {
   "cell_type": "code",
   "execution_count": null,
   "metadata": {},
   "outputs": [],
   "source": [
    "#3: Elastic Net \n",
    "\n",
    "grid_param = [{'alpha': np.linspace(1e-4,1e-2,20), 'l1_ratio': np.linspace(0.015, 1, 20)}]\n",
    "\n",
    "# Confirmed that setting scoring='neg_mean_squared_error' is the same result as using the default \"R2\" score.\n",
    "gs = GridSearchCV(estimator=lm.ElasticNet(random_state=42), param_grid=grid_param, cv=5)\n",
    "\n",
    "gs.fit(x_d_std, targets_log) \n",
    "\n",
    "#cv_results_, grid_scores_ (to obsolete), best_estimator_, best_params_, best_score_\n",
    "print('Best params: {}'.format(gs.best_params_))\n",
    "print('Best score : {}'.format(gs.best_score_)) \n",
    "#print('')\n",
    "model = gs.best_estimator_\n",
    "print(\"RMSE train: {}\".format(rmse(y_d_train, model.predict(x_d_train))))\n",
    "print(\"RMSE test : {}\".format(rmse(y_d_test, model.predict(x_d_test))))  "
   ]
  },
  {
   "cell_type": "code",
   "execution_count": 137,
   "metadata": {},
   "outputs": [
    {
     "data": {
      "text/plain": [
       "0.3384615384615385"
      ]
     },
     "execution_count": 137,
     "metadata": {},
     "output_type": "execute_result"
    }
   ],
   "source": [
    "#proportion of coeffs > 1e-6 out of all coeffs \n",
    "\n",
    "sum(model.coef_ > 1e-6) / model.coef_.shape[0]  "
   ]
  },
  {
   "cell_type": "markdown",
   "metadata": {},
   "source": [
    "Preparation for tree-based models: encode nominal categorical variables in x_nd df: "
   ]
  },
  {
   "cell_type": "code",
   "execution_count": 111,
   "metadata": {},
   "outputs": [
    {
     "data": {
      "text/plain": [
       "Index(['Unnamed: 0', 'ExterQual', 'Exterior1st', 'Fireplaces', 'Foundation', 'GarageArea', 'GrLivArea', 'HeatingQC', 'HouseStyle', 'KitchenQual', 'LotShape', 'Neighborhood', 'OverallQual', 'TotRmsAbvGrd', 'Num_Bathrooms', 'HouseSF', 'YearRemodAgg'], dtype='object')"
      ]
     },
     "execution_count": 111,
     "metadata": {},
     "output_type": "execute_result"
    }
   ],
   "source": [
    "x_nd.columns"
   ]
  },
  {
   "cell_type": "code",
   "execution_count": 112,
   "metadata": {},
   "outputs": [
    {
     "data": {
      "text/html": [
       "<div>\n",
       "<style scoped>\n",
       "    .dataframe tbody tr th:only-of-type {\n",
       "        vertical-align: middle;\n",
       "    }\n",
       "\n",
       "    .dataframe tbody tr th {\n",
       "        vertical-align: top;\n",
       "    }\n",
       "\n",
       "    .dataframe thead th {\n",
       "        text-align: right;\n",
       "    }\n",
       "</style>\n",
       "<table border=\"1\" class=\"dataframe\">\n",
       "  <thead>\n",
       "    <tr style=\"text-align: right;\">\n",
       "      <th></th>\n",
       "      <th>Exterior1st</th>\n",
       "      <th>Foundation</th>\n",
       "      <th>HouseStyle</th>\n",
       "      <th>LotShape</th>\n",
       "      <th>Neighborhood</th>\n",
       "    </tr>\n",
       "  </thead>\n",
       "  <tbody>\n",
       "    <tr>\n",
       "      <th>0</th>\n",
       "      <td>VinylSd</td>\n",
       "      <td>PConc</td>\n",
       "      <td>2Story</td>\n",
       "      <td>Reg</td>\n",
       "      <td>CollgCr</td>\n",
       "    </tr>\n",
       "    <tr>\n",
       "      <th>1</th>\n",
       "      <td>MetalSd</td>\n",
       "      <td>CBlock</td>\n",
       "      <td>1Story</td>\n",
       "      <td>Reg</td>\n",
       "      <td>Veenker</td>\n",
       "    </tr>\n",
       "    <tr>\n",
       "      <th>2</th>\n",
       "      <td>VinylSd</td>\n",
       "      <td>PConc</td>\n",
       "      <td>2Story</td>\n",
       "      <td>IR1</td>\n",
       "      <td>CollgCr</td>\n",
       "    </tr>\n",
       "    <tr>\n",
       "      <th>3</th>\n",
       "      <td>Wd Sdng</td>\n",
       "      <td>BrkTil</td>\n",
       "      <td>2Story</td>\n",
       "      <td>IR1</td>\n",
       "      <td>Crawfor</td>\n",
       "    </tr>\n",
       "    <tr>\n",
       "      <th>4</th>\n",
       "      <td>VinylSd</td>\n",
       "      <td>PConc</td>\n",
       "      <td>2Story</td>\n",
       "      <td>IR1</td>\n",
       "      <td>NoRidge</td>\n",
       "    </tr>\n",
       "    <tr>\n",
       "      <th>5</th>\n",
       "      <td>VinylSd</td>\n",
       "      <td>Wood</td>\n",
       "      <td>1.5Fin</td>\n",
       "      <td>IR1</td>\n",
       "      <td>Mitchel</td>\n",
       "    </tr>\n",
       "    <tr>\n",
       "      <th>6</th>\n",
       "      <td>VinylSd</td>\n",
       "      <td>PConc</td>\n",
       "      <td>1Story</td>\n",
       "      <td>Reg</td>\n",
       "      <td>Somerst</td>\n",
       "    </tr>\n",
       "    <tr>\n",
       "      <th>7</th>\n",
       "      <td>HdBoard</td>\n",
       "      <td>CBlock</td>\n",
       "      <td>2Story</td>\n",
       "      <td>IR1</td>\n",
       "      <td>NWAmes</td>\n",
       "    </tr>\n",
       "    <tr>\n",
       "      <th>8</th>\n",
       "      <td>BrkFace</td>\n",
       "      <td>BrkTil</td>\n",
       "      <td>1.5Fin</td>\n",
       "      <td>Reg</td>\n",
       "      <td>OldTown</td>\n",
       "    </tr>\n",
       "    <tr>\n",
       "      <th>9</th>\n",
       "      <td>MetalSd</td>\n",
       "      <td>BrkTil</td>\n",
       "      <td>1.5Unf</td>\n",
       "      <td>Reg</td>\n",
       "      <td>BrkSide</td>\n",
       "    </tr>\n",
       "    <tr>\n",
       "      <th>10</th>\n",
       "      <td>HdBoard</td>\n",
       "      <td>CBlock</td>\n",
       "      <td>1Story</td>\n",
       "      <td>Reg</td>\n",
       "      <td>Sawyer</td>\n",
       "    </tr>\n",
       "    <tr>\n",
       "      <th>11</th>\n",
       "      <td>WdShing</td>\n",
       "      <td>PConc</td>\n",
       "      <td>2Story</td>\n",
       "      <td>IR1</td>\n",
       "      <td>NridgHt</td>\n",
       "    </tr>\n",
       "    <tr>\n",
       "      <th>12</th>\n",
       "      <td>HdBoard</td>\n",
       "      <td>CBlock</td>\n",
       "      <td>1Story</td>\n",
       "      <td>IR2</td>\n",
       "      <td>Sawyer</td>\n",
       "    </tr>\n",
       "    <tr>\n",
       "      <th>13</th>\n",
       "      <td>VinylSd</td>\n",
       "      <td>PConc</td>\n",
       "      <td>1Story</td>\n",
       "      <td>IR1</td>\n",
       "      <td>CollgCr</td>\n",
       "    </tr>\n",
       "    <tr>\n",
       "      <th>14</th>\n",
       "      <td>MetalSd</td>\n",
       "      <td>CBlock</td>\n",
       "      <td>1Story</td>\n",
       "      <td>IR1</td>\n",
       "      <td>NAmes</td>\n",
       "    </tr>\n",
       "    <tr>\n",
       "      <th>15</th>\n",
       "      <td>Wd Sdng</td>\n",
       "      <td>BrkTil</td>\n",
       "      <td>1.5Unf</td>\n",
       "      <td>Reg</td>\n",
       "      <td>BrkSide</td>\n",
       "    </tr>\n",
       "    <tr>\n",
       "      <th>16</th>\n",
       "      <td>Wd Sdng</td>\n",
       "      <td>CBlock</td>\n",
       "      <td>1Story</td>\n",
       "      <td>IR1</td>\n",
       "      <td>NAmes</td>\n",
       "    </tr>\n",
       "    <tr>\n",
       "      <th>17</th>\n",
       "      <td>MetalSd</td>\n",
       "      <td>Slab</td>\n",
       "      <td>1Story</td>\n",
       "      <td>Reg</td>\n",
       "      <td>Sawyer</td>\n",
       "    </tr>\n",
       "    <tr>\n",
       "      <th>18</th>\n",
       "      <td>VinylSd</td>\n",
       "      <td>PConc</td>\n",
       "      <td>1Story</td>\n",
       "      <td>Reg</td>\n",
       "      <td>SawyerW</td>\n",
       "    </tr>\n",
       "    <tr>\n",
       "      <th>19</th>\n",
       "      <td>BrkFace</td>\n",
       "      <td>CBlock</td>\n",
       "      <td>1Story</td>\n",
       "      <td>Reg</td>\n",
       "      <td>NAmes</td>\n",
       "    </tr>\n",
       "    <tr>\n",
       "      <th>20</th>\n",
       "      <td>VinylSd</td>\n",
       "      <td>PConc</td>\n",
       "      <td>2Story</td>\n",
       "      <td>IR1</td>\n",
       "      <td>NridgHt</td>\n",
       "    </tr>\n",
       "    <tr>\n",
       "      <th>21</th>\n",
       "      <td>Wd Sdng</td>\n",
       "      <td>PConc</td>\n",
       "      <td>1.5Unf</td>\n",
       "      <td>Reg</td>\n",
       "      <td>IDOTRR</td>\n",
       "    </tr>\n",
       "    <tr>\n",
       "      <th>22</th>\n",
       "      <td>VinylSd</td>\n",
       "      <td>PConc</td>\n",
       "      <td>1Story</td>\n",
       "      <td>Reg</td>\n",
       "      <td>CollgCr</td>\n",
       "    </tr>\n",
       "    <tr>\n",
       "      <th>23</th>\n",
       "      <td>CemntBd</td>\n",
       "      <td>PConc</td>\n",
       "      <td>1Story</td>\n",
       "      <td>Reg</td>\n",
       "      <td>MeadowV</td>\n",
       "    </tr>\n",
       "    <tr>\n",
       "      <th>24</th>\n",
       "      <td>Plywood</td>\n",
       "      <td>CBlock</td>\n",
       "      <td>1Story</td>\n",
       "      <td>IR1</td>\n",
       "      <td>Sawyer</td>\n",
       "    </tr>\n",
       "    <tr>\n",
       "      <th>25</th>\n",
       "      <td>VinylSd</td>\n",
       "      <td>PConc</td>\n",
       "      <td>1Story</td>\n",
       "      <td>Reg</td>\n",
       "      <td>NridgHt</td>\n",
       "    </tr>\n",
       "    <tr>\n",
       "      <th>26</th>\n",
       "      <td>Wd Sdng</td>\n",
       "      <td>CBlock</td>\n",
       "      <td>1Story</td>\n",
       "      <td>Reg</td>\n",
       "      <td>NAmes</td>\n",
       "    </tr>\n",
       "    <tr>\n",
       "      <th>27</th>\n",
       "      <td>VinylSd</td>\n",
       "      <td>PConc</td>\n",
       "      <td>1Story</td>\n",
       "      <td>Reg</td>\n",
       "      <td>NridgHt</td>\n",
       "    </tr>\n",
       "    <tr>\n",
       "      <th>28</th>\n",
       "      <td>MetalSd</td>\n",
       "      <td>CBlock</td>\n",
       "      <td>1Story</td>\n",
       "      <td>IR1</td>\n",
       "      <td>NAmes</td>\n",
       "    </tr>\n",
       "    <tr>\n",
       "      <th>29</th>\n",
       "      <td>MetalSd</td>\n",
       "      <td>BrkTil</td>\n",
       "      <td>1Story</td>\n",
       "      <td>IR1</td>\n",
       "      <td>BrkSide</td>\n",
       "    </tr>\n",
       "    <tr>\n",
       "      <th>...</th>\n",
       "      <td>...</td>\n",
       "      <td>...</td>\n",
       "      <td>...</td>\n",
       "      <td>...</td>\n",
       "      <td>...</td>\n",
       "    </tr>\n",
       "    <tr>\n",
       "      <th>1418</th>\n",
       "      <td>Plywood</td>\n",
       "      <td>CBlock</td>\n",
       "      <td>1Story</td>\n",
       "      <td>IR1</td>\n",
       "      <td>NPkVill</td>\n",
       "    </tr>\n",
       "    <tr>\n",
       "      <th>1419</th>\n",
       "      <td>Wd Sdng</td>\n",
       "      <td>BrkTil</td>\n",
       "      <td>1Story</td>\n",
       "      <td>Reg</td>\n",
       "      <td>OldTown</td>\n",
       "    </tr>\n",
       "    <tr>\n",
       "      <th>1420</th>\n",
       "      <td>VinylSd</td>\n",
       "      <td>PConc</td>\n",
       "      <td>2Story</td>\n",
       "      <td>IR1</td>\n",
       "      <td>Gilbert</td>\n",
       "    </tr>\n",
       "    <tr>\n",
       "      <th>1421</th>\n",
       "      <td>BrkFace</td>\n",
       "      <td>CBlock</td>\n",
       "      <td>1Story</td>\n",
       "      <td>Reg</td>\n",
       "      <td>Mitchel</td>\n",
       "    </tr>\n",
       "    <tr>\n",
       "      <th>1422</th>\n",
       "      <td>Wd Sdng</td>\n",
       "      <td>CBlock</td>\n",
       "      <td>1Story</td>\n",
       "      <td>Reg</td>\n",
       "      <td>NAmes</td>\n",
       "    </tr>\n",
       "    <tr>\n",
       "      <th>1423</th>\n",
       "      <td>HdBoard</td>\n",
       "      <td>PConc</td>\n",
       "      <td>1Story</td>\n",
       "      <td>Reg</td>\n",
       "      <td>NAmes</td>\n",
       "    </tr>\n",
       "    <tr>\n",
       "      <th>1424</th>\n",
       "      <td>VinylSd</td>\n",
       "      <td>PConc</td>\n",
       "      <td>1Story</td>\n",
       "      <td>Reg</td>\n",
       "      <td>NridgHt</td>\n",
       "    </tr>\n",
       "    <tr>\n",
       "      <th>1425</th>\n",
       "      <td>MetalSd</td>\n",
       "      <td>CBlock</td>\n",
       "      <td>1Story</td>\n",
       "      <td>Reg</td>\n",
       "      <td>OldTown</td>\n",
       "    </tr>\n",
       "    <tr>\n",
       "      <th>1426</th>\n",
       "      <td>HdBoard</td>\n",
       "      <td>CBlock</td>\n",
       "      <td>SLvl</td>\n",
       "      <td>Reg</td>\n",
       "      <td>NWAmes</td>\n",
       "    </tr>\n",
       "    <tr>\n",
       "      <th>1427</th>\n",
       "      <td>MetalSd</td>\n",
       "      <td>BrkTil</td>\n",
       "      <td>2.5Fin</td>\n",
       "      <td>IR1</td>\n",
       "      <td>Crawfor</td>\n",
       "    </tr>\n",
       "    <tr>\n",
       "      <th>1428</th>\n",
       "      <td>VinylSd</td>\n",
       "      <td>PConc</td>\n",
       "      <td>1Story</td>\n",
       "      <td>Reg</td>\n",
       "      <td>CollgCr</td>\n",
       "    </tr>\n",
       "    <tr>\n",
       "      <th>1429</th>\n",
       "      <td>VinylSd</td>\n",
       "      <td>PConc</td>\n",
       "      <td>2Story</td>\n",
       "      <td>Reg</td>\n",
       "      <td>Somerst</td>\n",
       "    </tr>\n",
       "    <tr>\n",
       "      <th>1430</th>\n",
       "      <td>Wd Sdng</td>\n",
       "      <td>BrkTil</td>\n",
       "      <td>1.5Unf</td>\n",
       "      <td>Reg</td>\n",
       "      <td>BrkSide</td>\n",
       "    </tr>\n",
       "    <tr>\n",
       "      <th>1431</th>\n",
       "      <td>VinylSd</td>\n",
       "      <td>PConc</td>\n",
       "      <td>1Story</td>\n",
       "      <td>Reg</td>\n",
       "      <td>CollgCr</td>\n",
       "    </tr>\n",
       "    <tr>\n",
       "      <th>1432</th>\n",
       "      <td>VinylSd</td>\n",
       "      <td>CBlock</td>\n",
       "      <td>SFoyer</td>\n",
       "      <td>Reg</td>\n",
       "      <td>Sawyer</td>\n",
       "    </tr>\n",
       "    <tr>\n",
       "      <th>1433</th>\n",
       "      <td>HdBoard</td>\n",
       "      <td>CBlock</td>\n",
       "      <td>1Story</td>\n",
       "      <td>IR1</td>\n",
       "      <td>Mitchel</td>\n",
       "    </tr>\n",
       "    <tr>\n",
       "      <th>1434</th>\n",
       "      <td>VinylSd</td>\n",
       "      <td>PConc</td>\n",
       "      <td>2Story</td>\n",
       "      <td>Reg</td>\n",
       "      <td>CollgCr</td>\n",
       "    </tr>\n",
       "    <tr>\n",
       "      <th>1435</th>\n",
       "      <td>MetalSd</td>\n",
       "      <td>CBlock</td>\n",
       "      <td>2Story</td>\n",
       "      <td>Reg</td>\n",
       "      <td>Edwards</td>\n",
       "    </tr>\n",
       "    <tr>\n",
       "      <th>1436</th>\n",
       "      <td>CemntBd</td>\n",
       "      <td>CBlock</td>\n",
       "      <td>SFoyer</td>\n",
       "      <td>Reg</td>\n",
       "      <td>MeadowV</td>\n",
       "    </tr>\n",
       "    <tr>\n",
       "      <th>1437</th>\n",
       "      <td>VinylSd</td>\n",
       "      <td>CBlock</td>\n",
       "      <td>2Story</td>\n",
       "      <td>Reg</td>\n",
       "      <td>NAmes</td>\n",
       "    </tr>\n",
       "    <tr>\n",
       "      <th>1438</th>\n",
       "      <td>CemntBd</td>\n",
       "      <td>PConc</td>\n",
       "      <td>1Story</td>\n",
       "      <td>Reg</td>\n",
       "      <td>Somerst</td>\n",
       "    </tr>\n",
       "    <tr>\n",
       "      <th>1439</th>\n",
       "      <td>VinylSd</td>\n",
       "      <td>PConc</td>\n",
       "      <td>SLvl</td>\n",
       "      <td>Reg</td>\n",
       "      <td>Edwards</td>\n",
       "    </tr>\n",
       "    <tr>\n",
       "      <th>1440</th>\n",
       "      <td>VinylSd</td>\n",
       "      <td>PConc</td>\n",
       "      <td>1Story</td>\n",
       "      <td>Reg</td>\n",
       "      <td>Mitchel</td>\n",
       "    </tr>\n",
       "    <tr>\n",
       "      <th>1441</th>\n",
       "      <td>VinylSd</td>\n",
       "      <td>PConc</td>\n",
       "      <td>1Story</td>\n",
       "      <td>Reg</td>\n",
       "      <td>Somerst</td>\n",
       "    </tr>\n",
       "    <tr>\n",
       "      <th>1442</th>\n",
       "      <td>VinylSd</td>\n",
       "      <td>PConc</td>\n",
       "      <td>2Story</td>\n",
       "      <td>Reg</td>\n",
       "      <td>Gilbert</td>\n",
       "    </tr>\n",
       "    <tr>\n",
       "      <th>1443</th>\n",
       "      <td>Plywood</td>\n",
       "      <td>CBlock</td>\n",
       "      <td>1Story</td>\n",
       "      <td>Reg</td>\n",
       "      <td>NWAmes</td>\n",
       "    </tr>\n",
       "    <tr>\n",
       "      <th>1444</th>\n",
       "      <td>CemntBd</td>\n",
       "      <td>Stone</td>\n",
       "      <td>2Story</td>\n",
       "      <td>Reg</td>\n",
       "      <td>Crawfor</td>\n",
       "    </tr>\n",
       "    <tr>\n",
       "      <th>1445</th>\n",
       "      <td>MetalSd</td>\n",
       "      <td>CBlock</td>\n",
       "      <td>1Story</td>\n",
       "      <td>Reg</td>\n",
       "      <td>NAmes</td>\n",
       "    </tr>\n",
       "    <tr>\n",
       "      <th>1446</th>\n",
       "      <td>HdBoard</td>\n",
       "      <td>CBlock</td>\n",
       "      <td>1Story</td>\n",
       "      <td>Reg</td>\n",
       "      <td>Edwards</td>\n",
       "    </tr>\n",
       "    <tr>\n",
       "      <th>1447</th>\n",
       "      <td>VinylSd</td>\n",
       "      <td>CBlock</td>\n",
       "      <td>1Story</td>\n",
       "      <td>Reg</td>\n",
       "      <td>NAmes</td>\n",
       "    </tr>\n",
       "  </tbody>\n",
       "</table>\n",
       "<p>1448 rows × 5 columns</p>\n",
       "</div>"
      ],
      "text/plain": [
       "     Exterior1st Foundation HouseStyle LotShape Neighborhood\n",
       "0        VinylSd      PConc     2Story      Reg      CollgCr\n",
       "1        MetalSd     CBlock     1Story      Reg      Veenker\n",
       "2        VinylSd      PConc     2Story      IR1      CollgCr\n",
       "3        Wd Sdng     BrkTil     2Story      IR1      Crawfor\n",
       "4        VinylSd      PConc     2Story      IR1      NoRidge\n",
       "5        VinylSd       Wood     1.5Fin      IR1      Mitchel\n",
       "6        VinylSd      PConc     1Story      Reg      Somerst\n",
       "7        HdBoard     CBlock     2Story      IR1       NWAmes\n",
       "8        BrkFace     BrkTil     1.5Fin      Reg      OldTown\n",
       "9        MetalSd     BrkTil     1.5Unf      Reg      BrkSide\n",
       "10       HdBoard     CBlock     1Story      Reg       Sawyer\n",
       "11       WdShing      PConc     2Story      IR1      NridgHt\n",
       "12       HdBoard     CBlock     1Story      IR2       Sawyer\n",
       "13       VinylSd      PConc     1Story      IR1      CollgCr\n",
       "14       MetalSd     CBlock     1Story      IR1        NAmes\n",
       "15       Wd Sdng     BrkTil     1.5Unf      Reg      BrkSide\n",
       "16       Wd Sdng     CBlock     1Story      IR1        NAmes\n",
       "17       MetalSd       Slab     1Story      Reg       Sawyer\n",
       "18       VinylSd      PConc     1Story      Reg      SawyerW\n",
       "19       BrkFace     CBlock     1Story      Reg        NAmes\n",
       "20       VinylSd      PConc     2Story      IR1      NridgHt\n",
       "21       Wd Sdng      PConc     1.5Unf      Reg       IDOTRR\n",
       "22       VinylSd      PConc     1Story      Reg      CollgCr\n",
       "23       CemntBd      PConc     1Story      Reg      MeadowV\n",
       "24       Plywood     CBlock     1Story      IR1       Sawyer\n",
       "25       VinylSd      PConc     1Story      Reg      NridgHt\n",
       "26       Wd Sdng     CBlock     1Story      Reg        NAmes\n",
       "27       VinylSd      PConc     1Story      Reg      NridgHt\n",
       "28       MetalSd     CBlock     1Story      IR1        NAmes\n",
       "29       MetalSd     BrkTil     1Story      IR1      BrkSide\n",
       "...          ...        ...        ...      ...          ...\n",
       "1418     Plywood     CBlock     1Story      IR1      NPkVill\n",
       "1419     Wd Sdng     BrkTil     1Story      Reg      OldTown\n",
       "1420     VinylSd      PConc     2Story      IR1      Gilbert\n",
       "1421     BrkFace     CBlock     1Story      Reg      Mitchel\n",
       "1422     Wd Sdng     CBlock     1Story      Reg        NAmes\n",
       "1423     HdBoard      PConc     1Story      Reg        NAmes\n",
       "1424     VinylSd      PConc     1Story      Reg      NridgHt\n",
       "1425     MetalSd     CBlock     1Story      Reg      OldTown\n",
       "1426     HdBoard     CBlock       SLvl      Reg       NWAmes\n",
       "1427     MetalSd     BrkTil     2.5Fin      IR1      Crawfor\n",
       "1428     VinylSd      PConc     1Story      Reg      CollgCr\n",
       "1429     VinylSd      PConc     2Story      Reg      Somerst\n",
       "1430     Wd Sdng     BrkTil     1.5Unf      Reg      BrkSide\n",
       "1431     VinylSd      PConc     1Story      Reg      CollgCr\n",
       "1432     VinylSd     CBlock     SFoyer      Reg       Sawyer\n",
       "1433     HdBoard     CBlock     1Story      IR1      Mitchel\n",
       "1434     VinylSd      PConc     2Story      Reg      CollgCr\n",
       "1435     MetalSd     CBlock     2Story      Reg      Edwards\n",
       "1436     CemntBd     CBlock     SFoyer      Reg      MeadowV\n",
       "1437     VinylSd     CBlock     2Story      Reg        NAmes\n",
       "1438     CemntBd      PConc     1Story      Reg      Somerst\n",
       "1439     VinylSd      PConc       SLvl      Reg      Edwards\n",
       "1440     VinylSd      PConc     1Story      Reg      Mitchel\n",
       "1441     VinylSd      PConc     1Story      Reg      Somerst\n",
       "1442     VinylSd      PConc     2Story      Reg      Gilbert\n",
       "1443     Plywood     CBlock     1Story      Reg       NWAmes\n",
       "1444     CemntBd      Stone     2Story      Reg      Crawfor\n",
       "1445     MetalSd     CBlock     1Story      Reg        NAmes\n",
       "1446     HdBoard     CBlock     1Story      Reg      Edwards\n",
       "1447     VinylSd     CBlock     1Story      Reg        NAmes\n",
       "\n",
       "[1448 rows x 5 columns]"
      ]
     },
     "execution_count": 112,
     "metadata": {},
     "output_type": "execute_result"
    }
   ],
   "source": [
    "#drop first column, and determine which columns are nominal categorical \n",
    "\n",
    "x_nd = x_nd.drop('Unnamed: 0', axis = 1)\n",
    "x_nd.select_dtypes(['object']) "
   ]
  },
  {
   "cell_type": "code",
   "execution_count": 113,
   "metadata": {},
   "outputs": [],
   "source": [
    "from sklearn.preprocessing import LabelEncoder"
   ]
  },
  {
   "cell_type": "markdown",
   "metadata": {},
   "source": [
    "'''\n",
    "HouseSF', 0.2725794204816994),\n",
    " ('OverallQual', 0.18367601255210747),\n",
    " ('KitchenQual', 0.12356260364685952),\n",
    " ('YearRemodAgg', 0.09478348853681917),\n",
    " ('HouseStyle', 0.07907912271330644),\n",
    " ('Neighborhood', 0.05854045717122344),\n",
    " ('Num_Bathrooms', 0.05841803302668867)\n",
    "''' "
   ]
  },
  {
   "cell_type": "code",
   "execution_count": 114,
   "metadata": {},
   "outputs": [],
   "source": [
    "#use LabelEncode to encode categorical vars \n",
    "\n",
    "lencoder = LabelEncoder()\n",
    "\n",
    "exterior1st_labels  =lencoder.fit_transform(x_nd.Exterior1st).reshape((-1,1))\n",
    "#foundation_labels = lencoder.fit_transform(x_nd.Foundation).reshape((-1,1))  \n",
    "housestyle_labels    = lencoder.fit_transform(x_nd.HouseStyle).reshape((-1,1))\n",
    "#lotshape_labels   = lencoder.fit_transform(x_nd.LotShape).reshape((-1,1))\n",
    "neighborhood_labels= lencoder.fit_transform(x_nd.Neighborhood).reshape((-1,1)) "
   ]
  },
  {
   "cell_type": "code",
   "execution_count": 115,
   "metadata": {},
   "outputs": [],
   "source": [
    "#create list numerical + encoded nominal categorical features \n",
    "\n",
    "num_cols = ['KitchenQual','OverallQual', 'Num_Bathrooms', 'HouseSF', 'YearRemodAgg']\n",
    "x_nd_le = [neighborhood_labels]\n",
    "for col in num_cols: \n",
    "    x_nd_le.append(x_nd[col].reshape((-1, 1))) \n",
    "    "
   ]
  },
  {
   "cell_type": "code",
   "execution_count": 68,
   "metadata": {},
   "outputs": [
    {
     "data": {
      "text/plain": [
       "[array([[ 5],\n",
       "        [24],\n",
       "        [ 5],\n",
       "        ...,\n",
       "        [12],\n",
       "        [ 7],\n",
       "        [12]]), array([[3],\n",
       "        [2],\n",
       "        [3],\n",
       "        ...,\n",
       "        [3],\n",
       "        [2],\n",
       "        [2]]), array([[7],\n",
       "        [6],\n",
       "        [7],\n",
       "        ...,\n",
       "        [5],\n",
       "        [5],\n",
       "        [5]]), array([[4.],\n",
       "        [3.],\n",
       "        [4.],\n",
       "        ...,\n",
       "        [2.],\n",
       "        [3.],\n",
       "        [1.]]), array([[3114.],\n",
       "        [2984.],\n",
       "        [3314.],\n",
       "        ...,\n",
       "        [2396.],\n",
       "        [2788.],\n",
       "        [2508.]]), array([[2003. ],\n",
       "        [1976. ],\n",
       "        [2001.5],\n",
       "        ...,\n",
       "        [1973. ],\n",
       "        [1965. ],\n",
       "        [1961. ]])]"
      ]
     },
     "execution_count": 68,
     "metadata": {},
     "output_type": "execute_result"
    }
   ],
   "source": [
    "x_nd_le"
   ]
  },
  {
   "cell_type": "code",
   "execution_count": 116,
   "metadata": {},
   "outputs": [],
   "source": [
    "#concatenate features (including encoded nominal categorical variables)-> new dataframe \n",
    "\n",
    "x_nd_le = np.concatenate(x_nd_le, axis = 1)\n",
    "x_nd_le = pd.DataFrame(x_nd_le)  \n",
    "x_nd_le.columns = ['neighborhood', 'kitchenqual', 'overallqual', 'num_bathrooms', 'housesf', 'year_remod_agg'] "
   ]
  },
  {
   "cell_type": "code",
   "execution_count": 117,
   "metadata": {},
   "outputs": [
    {
     "data": {
      "text/html": [
       "<div>\n",
       "<style scoped>\n",
       "    .dataframe tbody tr th:only-of-type {\n",
       "        vertical-align: middle;\n",
       "    }\n",
       "\n",
       "    .dataframe tbody tr th {\n",
       "        vertical-align: top;\n",
       "    }\n",
       "\n",
       "    .dataframe thead th {\n",
       "        text-align: right;\n",
       "    }\n",
       "</style>\n",
       "<table border=\"1\" class=\"dataframe\">\n",
       "  <thead>\n",
       "    <tr style=\"text-align: right;\">\n",
       "      <th></th>\n",
       "      <th>neighborhood</th>\n",
       "      <th>kitchenqual</th>\n",
       "      <th>overallqual</th>\n",
       "      <th>num_bathrooms</th>\n",
       "      <th>housesf</th>\n",
       "      <th>year_remod_agg</th>\n",
       "    </tr>\n",
       "  </thead>\n",
       "  <tbody>\n",
       "    <tr>\n",
       "      <th>0</th>\n",
       "      <td>5.000</td>\n",
       "      <td>3.000</td>\n",
       "      <td>7.000</td>\n",
       "      <td>4.000</td>\n",
       "      <td>3114.000</td>\n",
       "      <td>2003.000</td>\n",
       "    </tr>\n",
       "    <tr>\n",
       "      <th>1</th>\n",
       "      <td>24.000</td>\n",
       "      <td>2.000</td>\n",
       "      <td>6.000</td>\n",
       "      <td>3.000</td>\n",
       "      <td>2984.000</td>\n",
       "      <td>1976.000</td>\n",
       "    </tr>\n",
       "    <tr>\n",
       "      <th>2</th>\n",
       "      <td>5.000</td>\n",
       "      <td>3.000</td>\n",
       "      <td>7.000</td>\n",
       "      <td>4.000</td>\n",
       "      <td>3314.000</td>\n",
       "      <td>2001.500</td>\n",
       "    </tr>\n",
       "    <tr>\n",
       "      <th>3</th>\n",
       "      <td>6.000</td>\n",
       "      <td>3.000</td>\n",
       "      <td>7.000</td>\n",
       "      <td>2.000</td>\n",
       "      <td>3115.000</td>\n",
       "      <td>1942.500</td>\n",
       "    </tr>\n",
       "    <tr>\n",
       "      <th>4</th>\n",
       "      <td>15.000</td>\n",
       "      <td>3.000</td>\n",
       "      <td>8.000</td>\n",
       "      <td>4.000</td>\n",
       "      <td>4179.000</td>\n",
       "      <td>2000.000</td>\n",
       "    </tr>\n",
       "  </tbody>\n",
       "</table>\n",
       "</div>"
      ],
      "text/plain": [
       "   neighborhood  kitchenqual  overallqual  num_bathrooms  housesf  year_remod_agg\n",
       "0         5.000        3.000        7.000          4.000 3114.000        2003.000\n",
       "1        24.000        2.000        6.000          3.000 2984.000        1976.000\n",
       "2         5.000        3.000        7.000          4.000 3314.000        2001.500\n",
       "3         6.000        3.000        7.000          2.000 3115.000        1942.500\n",
       "4        15.000        3.000        8.000          4.000 4179.000        2000.000"
      ]
     },
     "execution_count": 117,
     "metadata": {},
     "output_type": "execute_result"
    }
   ],
   "source": [
    "x_nd_le.head()"
   ]
  },
  {
   "cell_type": "code",
   "execution_count": 119,
   "metadata": {},
   "outputs": [],
   "source": [
    "#train_test split of non-dummified dataframe \n",
    "\n",
    "x_nd_train, x_nd_test, y_nd_train, y_nd_test = train_test_split(x_nd_le, targets_log, test_size = 0.2, random_state = 42)  \n"
   ]
  },
  {
   "cell_type": "markdown",
   "metadata": {},
   "source": [
    "### 3. Random Forest "
   ]
  },
  {
   "cell_type": "code",
   "execution_count": 120,
   "metadata": {},
   "outputs": [
    {
     "name": "stdout",
     "output_type": "stream",
     "text": [
      "The training error is: 0.04859\n",
      "The test     error is: 0.28646\n"
     ]
    }
   ],
   "source": [
    "\n",
    "#test random forest regressor with default parameters: \n",
    "\n",
    "randomForest = RandomForestRegressor()\n",
    "\n",
    "# fit RF model on training set\n",
    "randomForest.set_params(random_state=42)\n",
    "\n",
    "randomForest.fit(x_nd_train, y_nd_train)  \n",
    "\n",
    "print(\"The training error is: %.5f\" % (1- randomForest.score(x_nd_train, y_nd_train))) \n",
    "print(\"The test     error is: %.5f\" % (1 - randomForest.score(x_nd_test, y_nd_test)))   "
   ]
  },
  {
   "cell_type": "code",
   "execution_count": 121,
   "metadata": {},
   "outputs": [],
   "source": [
    "grid_para_forest = {\n",
    "    'n_estimators': range(80, 200, 10),\n",
    "    'max_depth': range(3,12),\n",
    "    'max_features': ['sqrt', 'auto']\n",
    "}  "
   ]
  },
  {
   "cell_type": "code",
   "execution_count": 122,
   "metadata": {},
   "outputs": [],
   "source": [
    "gs = GridSearchCV(estimator = RandomForestRegressor(\\\n",
    "                                    min_samples_split=5,\\\n",
    "                                    #max_depth = 10,\\\n",
    "                                    min_samples_leaf=1,\\\n",
    "                                    random_state=42,\\\n",
    "                                    n_jobs=-1),\\\n",
    "                  param_grid = grid_para_forest, n_jobs=-1, cv=5)   "
   ]
  },
  {
   "cell_type": "code",
   "execution_count": 123,
   "metadata": {},
   "outputs": [
    {
     "data": {
      "text/plain": [
       "GridSearchCV(cv=5, error_score='raise-deprecating',\n",
       "             estimator=RandomForestRegressor(bootstrap=True, criterion='mse',\n",
       "                                             max_depth=None,\n",
       "                                             max_features='auto',\n",
       "                                             max_leaf_nodes=None,\n",
       "                                             min_impurity_decrease=0.0,\n",
       "                                             min_impurity_split=None,\n",
       "                                             min_samples_leaf=1,\n",
       "                                             min_samples_split=5,\n",
       "                                             min_weight_fraction_leaf=0.0,\n",
       "                                             n_estimators='warn', n_jobs=-1,\n",
       "                                             oob_score=False, random_state=42,\n",
       "                                             verbose=0, warm_start=False),\n",
       "             iid='warn', n_jobs=-1,\n",
       "             param_grid={'max_depth': range(3, 12),\n",
       "                         'max_features': ['sqrt', 'auto'],\n",
       "                         'n_estimators': range(80, 200, 10)},\n",
       "             pre_dispatch='2*n_jobs', refit=True, return_train_score=False,\n",
       "             scoring=None, verbose=0)"
      ]
     },
     "execution_count": 123,
     "metadata": {},
     "output_type": "execute_result"
    }
   ],
   "source": [
    "gs.fit(x_nd_train, y_nd_train)  "
   ]
  },
  {
   "cell_type": "code",
   "execution_count": 298,
   "metadata": {},
   "outputs": [
    {
     "name": "stdout",
     "output_type": "stream",
     "text": [
      "Best params: {'max_depth': 8, 'max_features': 'sqrt', 'n_estimators': 90}\n",
      "Best score : 0.7694308012689799\n"
     ]
    }
   ],
   "source": [
    "print('Best params: {}'.format(gs.best_params_))\n",
    "print('Best score : {}'.format(gs.best_score_))   "
   ]
  },
  {
   "cell_type": "code",
   "execution_count": 124,
   "metadata": {},
   "outputs": [
    {
     "name": "stdout",
     "output_type": "stream",
     "text": [
      "RMSE train: 0.1370776203002676\n",
      "RMSE test : 0.19620686829323788\n"
     ]
    }
   ],
   "source": [
    "forest_final = gs.best_estimator_\n",
    "print(\"RMSE train: {}\".format(rmse(y_d_train, forest_final.predict(x_nd_train)))) #0.1044\n",
    "print(\"RMSE test : {}\".format(rmse(y_d_test,  forest_final.predict(x_nd_test)))) #0.1962  "
   ]
  },
  {
   "cell_type": "code",
   "execution_count": 125,
   "metadata": {},
   "outputs": [
    {
     "data": {
      "text/plain": [
       "[('housesf', 0.4007116462865751),\n",
       " ('overallqual', 0.2153847488979508),\n",
       " ('year_remod_agg', 0.14127826204855218),\n",
       " ('kitchenqual', 0.11586024082597046),\n",
       " ('num_bathrooms', 0.08905445677203017),\n",
       " ('neighborhood', 0.03771064516892126)]"
      ]
     },
     "execution_count": 125,
     "metadata": {},
     "output_type": "execute_result"
    }
   ],
   "source": [
    "\n",
    "forest_feature_importance = forest_final.feature_importances_\n",
    "\n",
    "forest_sorted_features = sorted(list(zip(x_nd_le.columns, forest_feature_importance)), key = lambda kv: kv[1], reverse = True) \n",
    "\n",
    "forest_sorted_features "
   ]
  },
  {
   "cell_type": "code",
   "execution_count": 126,
   "metadata": {},
   "outputs": [
    {
     "data": {
      "text/plain": [
       "Text(0.5,1,'Feature Importance: Random Forest')"
      ]
     },
     "execution_count": 126,
     "metadata": {},
     "output_type": "execute_result"
    },
    {
     "data": {
      "image/png": "[encoded data removed]",
      "text/plain": [
       "<matplotlib.figure.Figure at 0x11567d7b8>"
      ]
     },
     "metadata": {},
     "output_type": "display_data"
    }
   ],
   "source": [
    "#graph feature importances of top 25 features \n",
    "\n",
    "a, b = zip(*forest_sorted_features)\n",
    "importance_score = pd.DataFrame({'feature':a, 'score':b})\n",
    "importance_score.plot.barh(x='feature', y='score', legend=None)\n",
    "plt.title('Feature Importance: Random Forest')"
   ]
  },
  {
   "cell_type": "markdown",
   "metadata": {},
   "source": [
    "### 4. GBM"
   ]
  },
  {
   "cell_type": "code",
   "execution_count": 127,
   "metadata": {},
   "outputs": [],
   "source": [
    "gbm = GradientBoostingRegressor()  "
   ]
  },
  {
   "cell_type": "code",
   "execution_count": 128,
   "metadata": {
    "scrolled": true
   },
   "outputs": [
    {
     "name": "stdout",
     "output_type": "stream",
     "text": [
      "The training error is: 0.14498\n",
      "The test     error is: 0.27532\n"
     ]
    }
   ],
   "source": [
    "gbm_1 = gbm.fit(x_nd_train, y_nd_train) \n",
    "\n",
    "print(\"The training error is: %.5f\" % (1- gbm.score(x_nd_train, y_nd_train))) \n",
    "print(\"The test     error is: %.5f\" % (1 - gbm.score(x_nd_test, y_nd_test)))   "
   ]
  },
  {
   "cell_type": "code",
   "execution_count": 221,
   "metadata": {},
   "outputs": [
    {
     "ename": "KeyboardInterrupt",
     "evalue": "",
     "output_type": "error",
     "traceback": [
      "\u001b[0;31m---------------------------------------------------------------------------\u001b[0m",
      "\u001b[0;31mKeyboardInterrupt\u001b[0m                         Traceback (most recent call last)",
      "\u001b[0;32m<ipython-input-221-8c99927d0b55>\u001b[0m in \u001b[0;36m<module>\u001b[0;34m()\u001b[0m\n\u001b[1;32m      4\u001b[0m \u001b[0;34m\u001b[0m\u001b[0m\n\u001b[1;32m      5\u001b[0m \u001b[0mgbm\u001b[0m\u001b[0;34m.\u001b[0m\u001b[0mset_params\u001b[0m\u001b[0;34m(\u001b[0m\u001b[0mlearning_rate\u001b[0m \u001b[0;34m=\u001b[0m \u001b[0;36m1\u001b[0m\u001b[0;34m,\u001b[0m \u001b[0mn_estimators\u001b[0m\u001b[0;34m=\u001b[0m\u001b[0mn_estimators\u001b[0m\u001b[0;34m,\u001b[0m \u001b[0mmax_depth\u001b[0m\u001b[0;34m=\u001b[0m\u001b[0;36m3\u001b[0m\u001b[0;34m)\u001b[0m\u001b[0;34m\u001b[0m\u001b[0m\n\u001b[0;32m----> 6\u001b[0;31m \u001b[0mgbm\u001b[0m\u001b[0;34m.\u001b[0m\u001b[0mfit\u001b[0m\u001b[0;34m(\u001b[0m\u001b[0mx_nd_train\u001b[0m\u001b[0;34m,\u001b[0m \u001b[0my_nd_train\u001b[0m\u001b[0;34m)\u001b[0m\u001b[0;34m\u001b[0m\u001b[0m\n\u001b[0m\u001b[1;32m      7\u001b[0m \u001b[0mgen\u001b[0m \u001b[0;34m=\u001b[0m \u001b[0mgbm\u001b[0m\u001b[0;34m.\u001b[0m\u001b[0mstaged_predict\u001b[0m\u001b[0;34m(\u001b[0m\u001b[0mx_nd_train\u001b[0m\u001b[0;34m)\u001b[0m\u001b[0;34m\u001b[0m\u001b[0m\n\u001b[1;32m      8\u001b[0m \u001b[0mr2_rate1\u001b[0m \u001b[0;34m=\u001b[0m \u001b[0;34m[\u001b[0m\u001b[0;34m]\u001b[0m\u001b[0;34m\u001b[0m\u001b[0m\n",
      "\u001b[0;32m/Library/Frameworks/Python.framework/Versions/3.6/lib/python3.6/site-packages/sklearn/ensemble/gradient_boosting.py\u001b[0m in \u001b[0;36mfit\u001b[0;34m(self, X, y, sample_weight, monitor)\u001b[0m\n\u001b[1;32m   1544\u001b[0m         n_stages = self._fit_stages(\n\u001b[1;32m   1545\u001b[0m             \u001b[0mX\u001b[0m\u001b[0;34m,\u001b[0m \u001b[0my\u001b[0m\u001b[0;34m,\u001b[0m \u001b[0mraw_predictions\u001b[0m\u001b[0;34m,\u001b[0m \u001b[0msample_weight\u001b[0m\u001b[0;34m,\u001b[0m \u001b[0mself\u001b[0m\u001b[0;34m.\u001b[0m\u001b[0m_rng\u001b[0m\u001b[0;34m,\u001b[0m \u001b[0mX_val\u001b[0m\u001b[0;34m,\u001b[0m \u001b[0my_val\u001b[0m\u001b[0;34m,\u001b[0m\u001b[0;34m\u001b[0m\u001b[0m\n\u001b[0;32m-> 1546\u001b[0;31m             sample_weight_val, begin_at_stage, monitor, X_idx_sorted)\n\u001b[0m\u001b[1;32m   1547\u001b[0m \u001b[0;34m\u001b[0m\u001b[0m\n\u001b[1;32m   1548\u001b[0m         \u001b[0;31m# change shape of arrays after fit (early-stopping or additional ests)\u001b[0m\u001b[0;34m\u001b[0m\u001b[0;34m\u001b[0m\u001b[0m\n",
      "\u001b[0;32m/Library/Frameworks/Python.framework/Versions/3.6/lib/python3.6/site-packages/sklearn/ensemble/gradient_boosting.py\u001b[0m in \u001b[0;36m_fit_stages\u001b[0;34m(self, X, y, raw_predictions, sample_weight, random_state, X_val, y_val, sample_weight_val, begin_at_stage, monitor, X_idx_sorted)\u001b[0m\n\u001b[1;32m   1599\u001b[0m             \u001b[0;32mif\u001b[0m \u001b[0mdo_oob\u001b[0m\u001b[0;34m:\u001b[0m\u001b[0;34m\u001b[0m\u001b[0m\n\u001b[1;32m   1600\u001b[0m                 sample_mask = _random_sample_mask(n_samples, n_inbag,\n\u001b[0;32m-> 1601\u001b[0;31m                                                   random_state)\n\u001b[0m\u001b[1;32m   1602\u001b[0m                 \u001b[0;31m# OOB score before adding this stage\u001b[0m\u001b[0;34m\u001b[0m\u001b[0;34m\u001b[0m\u001b[0m\n\u001b[1;32m   1603\u001b[0m                 old_oob_score = loss_(y[~sample_mask],\n",
      "\u001b[0;31mKeyboardInterrupt\u001b[0m: "
     ]
    }
   ],
   "source": [
    "from sklearn.metrics import r2_score \n",
    "n_estimators = 50100\n",
    "steps = range(100, 50100, 1000)\n",
    "\n",
    "gbm.set_params(learning_rate = 1, n_estimators=n_estimators, max_depth=3)\n",
    "gbm.fit(x_nd_train, y_nd_train)\n",
    "gen = gbm.staged_predict(x_nd_train)\n",
    "r2_rate1 = []\n",
    "for n in range(n_estimators):\n",
    "           predicted_targets = next(gen)\n",
    "           if n not in steps: continue\n",
    "           r2_rate1.append(r2_score(predicted_targets, y_nd_train))    "
   ]
  },
  {
   "cell_type": "code",
   "execution_count": 186,
   "metadata": {},
   "outputs": [],
   "source": [
    "from sklearn.metrics import r2_score \n",
    "n_estimators = 50100\n",
    "steps = range(100, 50100, 1000)\n",
    "\n",
    "gbm.set_params(learning_rate = 0.1, n_estimators=n_estimators, max_depth=3)\n",
    "gbm.fit(x_nd_train, y_nd_train)\n",
    "gen = gbm.staged_predict(x_nd_train)\n",
    "r2_rate01 = []\n",
    "for n in range(n_estimators):\n",
    "           predicted_targets = next(gen)\n",
    "           if n not in steps: continue\n",
    "           r2_rate01.append(r2_score(predicted_targets, y_nd_train))    "
   ]
  },
  {
   "cell_type": "code",
   "execution_count": 130,
   "metadata": {},
   "outputs": [],
   "source": [
    "from sklearn.metrics import r2_score \n",
    "n_estimators = 50100\n",
    "steps = range(100, 50100, 1000)\n",
    "\n",
    "gbm.set_params(learning_rate = 0.01, n_estimators=n_estimators, max_depth=3)\n",
    "gbm.fit(x_nd_train, y_nd_train)\n",
    "gen = gbm.staged_predict(x_nd_train)\n",
    "r2_rate001 = []\n",
    "for n in range(n_estimators):\n",
    "           predicted_targets = next(gen)\n",
    "           if n not in steps: continue\n",
    "           r2_rate001.append(r2_score(predicted_targets, y_nd_train))    "
   ]
  },
  {
   "cell_type": "code",
   "execution_count": 188,
   "metadata": {},
   "outputs": [
    {
     "data": {
      "text/plain": [
       "<matplotlib.legend.Legend at 0x11f015630>"
      ]
     },
     "execution_count": 188,
     "metadata": {},
     "output_type": "execute_result"
    },
    {
     "data": {
      "image/png": "[encoded data removed]",
      "text/plain": [
       "<matplotlib.figure.Figure at 0x11adb1d68>"
      ]
     },
     "metadata": {},
     "output_type": "display_data"
    }
   ],
   "source": [
    "plt.plot(steps, r2_rate1,  label=r'R^2 curve for learning_rate = 1')\n",
    "plt.plot(steps, r2_rate01, label=r'R^2 curve for learning_rate = 0.1')\n",
    "plt.plot(steps, r2_rate001, label=r'R^2 curve for learning_rate = 0.01')\n",
    "plt.legend(loc=4) "
   ]
  },
  {
   "cell_type": "code",
   "execution_count": 131,
   "metadata": {},
   "outputs": [],
   "source": [
    "n_estimators = 3000\n",
    "gbm.set_params(learning_rate=0.005, max_depth=5, max_features = 'sqrt', subsample = 0.9,  n_estimators=n_estimators, min_samples_split=7,\n",
    "min_samples_leaf=10)\n",
    "\n",
    "train_r2 = []\n",
    "test_r2  = []\n",
    "steps = range(100, 3000, 100)\n",
    "\n",
    "gbm.fit(x_nd_train,y_nd_train)\n",
    "gen_train = gbm.staged_predict(x_nd_train) #generators \n",
    "gen_test  = gbm.staged_predict(x_nd_test)\n",
    "\n",
    "for n in range(n_estimators):\n",
    "           predicted_train = next(gen_train)\n",
    "           predicted_test  = next(gen_test)\n",
    "           if n not in steps: continue\n",
    "           train_r2.append(r2_score(predicted_train, y_nd_train))\n",
    "           test_r2.append(r2_score(predicted_test, y_nd_test))        "
   ]
  },
  {
   "cell_type": "code",
   "execution_count": 132,
   "metadata": {},
   "outputs": [
    {
     "data": {
      "text/plain": [
       "<matplotlib.legend.Legend at 0x11bdcc240>"
      ]
     },
     "execution_count": 132,
     "metadata": {},
     "output_type": "execute_result"
    },
    {
     "data": {
      "image/png": "[encoded data removed]",
      "text/plain": [
       "<matplotlib.figure.Figure at 0x11735f9b0>"
      ]
     },
     "metadata": {},
     "output_type": "display_data"
    }
   ],
   "source": [
    "plt.plot(steps, train_r2, label='train set $R^2$')\n",
    "plt.plot(steps, test_r2, label='test set $R^2$')\n",
    "plt.legend(loc=7) "
   ]
  },
  {
   "cell_type": "code",
   "execution_count": 133,
   "metadata": {},
   "outputs": [
    {
     "name": "stdout",
     "output_type": "stream",
     "text": [
      "0.8626162626357716 0.6999483231117389\n"
     ]
    }
   ],
   "source": [
    "print(max(train_r2),max(test_r2))"
   ]
  },
  {
   "cell_type": "code",
   "execution_count": 134,
   "metadata": {},
   "outputs": [
    {
     "name": "stdout",
     "output_type": "stream",
     "text": [
      "RMSE train: 0.13002871788240775\n",
      "RMSE test : 0.19345663414983644\n"
     ]
    }
   ],
   "source": [
    "print(\"RMSE train: {}\".format(rmse(y_nd_train, gbm.predict(x_nd_train))))\n",
    "print(\"RMSE test : {}\".format(rmse(y_nd_test,  gbm.predict(x_nd_test)))) "
   ]
  },
  {
   "cell_type": "code",
   "execution_count": 293,
   "metadata": {},
   "outputs": [
    {
     "data": {
      "text/plain": [
       "[('housesf', 0.3997754496291378),\n",
       " ('overallqual', 0.24452923889272618),\n",
       " ('year_remod_agg', 0.14314877171759016),\n",
       " ('kitchenqual', 0.08674165118042029),\n",
       " ('num_bathrooms', 0.08266537505836453),\n",
       " ('neighborhood', 0.04313951352176089)]"
      ]
     },
     "execution_count": 293,
     "metadata": {},
     "output_type": "execute_result"
    }
   ],
   "source": [
    "gbm_feature_importance = gbm.feature_importances_\n",
    "\n",
    "gbm_sorted_features = sorted(list(zip(x_nd_le.columns, gbm_feature_importance)), key = lambda kv: kv[1], reverse = True) \n",
    "\n",
    "gbm_sorted_features "
   ]
  },
  {
   "cell_type": "code",
   "execution_count": 304,
   "metadata": {},
   "outputs": [],
   "source": [
    "grid_para_gbm = {\n",
    "    'max_depth': range(3,10),\n",
    "    'max_features': ['sqrt', 'auto'], \n",
    "    'min_samples_split':range(3,21,3), \n",
    "    'min_samples_leaf': np.arange(1,10,1),\n",
    "    'subsample':[0.6,0.7,0.75,0.8,0.85,0.9], \n",
    "    'learning_rate': [0.005, 0.01, 0.05, 0.1]   \n",
    "}  "
   ]
  },
  {
   "cell_type": "code",
   "execution_count": 305,
   "metadata": {},
   "outputs": [],
   "source": [
    "gs = GridSearchCV(estimator = GradientBoostingRegressor(n_estimators = 500), param_grid = grid_para_gbm, n_jobs = -1, cv = 5)   "
   ]
  },
  {
   "cell_type": "code",
   "execution_count": 306,
   "metadata": {},
   "outputs": [
    {
     "ename": "KeyboardInterrupt",
     "evalue": "",
     "output_type": "error",
     "traceback": [
      "\u001b[0;31m---------------------------------------------------------------------------\u001b[0m",
      "\u001b[0;31mKeyboardInterrupt\u001b[0m                         Traceback (most recent call last)",
      "\u001b[0;32m<ipython-input-306-01f918571eae>\u001b[0m in \u001b[0;36m<module>\u001b[0;34m()\u001b[0m\n\u001b[0;32m----> 1\u001b[0;31m \u001b[0mgs\u001b[0m\u001b[0;34m.\u001b[0m\u001b[0mfit\u001b[0m\u001b[0;34m(\u001b[0m\u001b[0mx_nd_train\u001b[0m\u001b[0;34m,\u001b[0m \u001b[0my_nd_train\u001b[0m\u001b[0;34m)\u001b[0m\u001b[0;34m\u001b[0m\u001b[0m\n\u001b[0m",
      "\u001b[0;32m/Library/Frameworks/Python.framework/Versions/3.6/lib/python3.6/site-packages/sklearn/model_selection/_search.py\u001b[0m in \u001b[0;36mfit\u001b[0;34m(self, X, y, groups, **fit_params)\u001b[0m\n\u001b[1;32m    685\u001b[0m                 \u001b[0;32mreturn\u001b[0m \u001b[0mresults\u001b[0m\u001b[0;34m\u001b[0m\u001b[0m\n\u001b[1;32m    686\u001b[0m \u001b[0;34m\u001b[0m\u001b[0m\n\u001b[0;32m--> 687\u001b[0;31m             \u001b[0mself\u001b[0m\u001b[0;34m.\u001b[0m\u001b[0m_run_search\u001b[0m\u001b[0;34m(\u001b[0m\u001b[0mevaluate_candidates\u001b[0m\u001b[0;34m)\u001b[0m\u001b[0;34m\u001b[0m\u001b[0m\n\u001b[0m\u001b[1;32m    688\u001b[0m \u001b[0;34m\u001b[0m\u001b[0m\n\u001b[1;32m    689\u001b[0m         \u001b[0;31m# For multi-metric evaluation, store the best_index_, best_params_ and\u001b[0m\u001b[0;34m\u001b[0m\u001b[0;34m\u001b[0m\u001b[0m\n",
      "\u001b[0;32m/Library/Frameworks/Python.framework/Versions/3.6/lib/python3.6/site-packages/sklearn/model_selection/_search.py\u001b[0m in \u001b[0;36m_run_search\u001b[0;34m(self, evaluate_candidates)\u001b[0m\n\u001b[1;32m   1146\u001b[0m     \u001b[0;32mdef\u001b[0m \u001b[0m_run_search\u001b[0m\u001b[0;34m(\u001b[0m\u001b[0mself\u001b[0m\u001b[0;34m,\u001b[0m \u001b[0mevaluate_candidates\u001b[0m\u001b[0;34m)\u001b[0m\u001b[0;34m:\u001b[0m\u001b[0;34m\u001b[0m\u001b[0m\n\u001b[1;32m   1147\u001b[0m         \u001b[0;34m\"\"\"Search all candidates in param_grid\"\"\"\u001b[0m\u001b[0;34m\u001b[0m\u001b[0m\n\u001b[0;32m-> 1148\u001b[0;31m         \u001b[0mevaluate_candidates\u001b[0m\u001b[0;34m(\u001b[0m\u001b[0mParameterGrid\u001b[0m\u001b[0;34m(\u001b[0m\u001b[0mself\u001b[0m\u001b[0;34m.\u001b[0m\u001b[0mparam_grid\u001b[0m\u001b[0;34m)\u001b[0m\u001b[0;34m)\u001b[0m\u001b[0;34m\u001b[0m\u001b[0m\n\u001b[0m\u001b[1;32m   1149\u001b[0m \u001b[0;34m\u001b[0m\u001b[0m\n\u001b[1;32m   1150\u001b[0m \u001b[0;34m\u001b[0m\u001b[0m\n",
      "\u001b[0;32m/Library/Frameworks/Python.framework/Versions/3.6/lib/python3.6/site-packages/sklearn/model_selection/_search.py\u001b[0m in \u001b[0;36mevaluate_candidates\u001b[0;34m(candidate_params)\u001b[0m\n\u001b[1;32m    664\u001b[0m                                \u001b[0;32mfor\u001b[0m \u001b[0mparameters\u001b[0m\u001b[0;34m,\u001b[0m \u001b[0;34m(\u001b[0m\u001b[0mtrain\u001b[0m\u001b[0;34m,\u001b[0m \u001b[0mtest\u001b[0m\u001b[0;34m)\u001b[0m\u001b[0;34m\u001b[0m\u001b[0m\n\u001b[1;32m    665\u001b[0m                                in product(candidate_params,\n\u001b[0;32m--> 666\u001b[0;31m                                           cv.split(X, y, groups)))\n\u001b[0m\u001b[1;32m    667\u001b[0m \u001b[0;34m\u001b[0m\u001b[0m\n\u001b[1;32m    668\u001b[0m                 \u001b[0;32mif\u001b[0m \u001b[0mlen\u001b[0m\u001b[0;34m(\u001b[0m\u001b[0mout\u001b[0m\u001b[0;34m)\u001b[0m \u001b[0;34m<\u001b[0m \u001b[0;36m1\u001b[0m\u001b[0;34m:\u001b[0m\u001b[0;34m\u001b[0m\u001b[0m\n",
      "\u001b[0;32m/Library/Frameworks/Python.framework/Versions/3.6/lib/python3.6/site-packages/joblib/parallel.py\u001b[0m in \u001b[0;36m__call__\u001b[0;34m(self, iterable)\u001b[0m\n\u001b[1;32m    787\u001b[0m                 \u001b[0;31m# consumption.\u001b[0m\u001b[0;34m\u001b[0m\u001b[0;34m\u001b[0m\u001b[0m\n\u001b[1;32m    788\u001b[0m                 \u001b[0mself\u001b[0m\u001b[0;34m.\u001b[0m\u001b[0m_iterating\u001b[0m \u001b[0;34m=\u001b[0m \u001b[0;32mFalse\u001b[0m\u001b[0;34m\u001b[0m\u001b[0m\n\u001b[0;32m--> 789\u001b[0;31m             \u001b[0mself\u001b[0m\u001b[0;34m.\u001b[0m\u001b[0mretrieve\u001b[0m\u001b[0;34m(\u001b[0m\u001b[0;34m)\u001b[0m\u001b[0;34m\u001b[0m\u001b[0m\n\u001b[0m\u001b[1;32m    790\u001b[0m             \u001b[0;31m# Make sure that we get a last message telling us we are done\u001b[0m\u001b[0;34m\u001b[0m\u001b[0;34m\u001b[0m\u001b[0m\n\u001b[1;32m    791\u001b[0m             \u001b[0melapsed_time\u001b[0m \u001b[0;34m=\u001b[0m \u001b[0mtime\u001b[0m\u001b[0;34m.\u001b[0m\u001b[0mtime\u001b[0m\u001b[0;34m(\u001b[0m\u001b[0;34m)\u001b[0m \u001b[0;34m-\u001b[0m \u001b[0mself\u001b[0m\u001b[0;34m.\u001b[0m\u001b[0m_start_time\u001b[0m\u001b[0;34m\u001b[0m\u001b[0m\n",
      "\u001b[0;32m/Library/Frameworks/Python.framework/Versions/3.6/lib/python3.6/site-packages/joblib/parallel.py\u001b[0m in \u001b[0;36mretrieve\u001b[0;34m(self)\u001b[0m\n\u001b[1;32m    697\u001b[0m             \u001b[0;32mtry\u001b[0m\u001b[0;34m:\u001b[0m\u001b[0;34m\u001b[0m\u001b[0m\n\u001b[1;32m    698\u001b[0m                 \u001b[0;32mif\u001b[0m \u001b[0mgetattr\u001b[0m\u001b[0;34m(\u001b[0m\u001b[0mself\u001b[0m\u001b[0;34m.\u001b[0m\u001b[0m_backend\u001b[0m\u001b[0;34m,\u001b[0m \u001b[0;34m'supports_timeout'\u001b[0m\u001b[0;34m,\u001b[0m \u001b[0;32mFalse\u001b[0m\u001b[0;34m)\u001b[0m\u001b[0;34m:\u001b[0m\u001b[0;34m\u001b[0m\u001b[0m\n\u001b[0;32m--> 699\u001b[0;31m                     \u001b[0mself\u001b[0m\u001b[0;34m.\u001b[0m\u001b[0m_output\u001b[0m\u001b[0;34m.\u001b[0m\u001b[0mextend\u001b[0m\u001b[0;34m(\u001b[0m\u001b[0mjob\u001b[0m\u001b[0;34m.\u001b[0m\u001b[0mget\u001b[0m\u001b[0;34m(\u001b[0m\u001b[0mtimeout\u001b[0m\u001b[0;34m=\u001b[0m\u001b[0mself\u001b[0m\u001b[0;34m.\u001b[0m\u001b[0mtimeout\u001b[0m\u001b[0;34m)\u001b[0m\u001b[0;34m)\u001b[0m\u001b[0;34m\u001b[0m\u001b[0m\n\u001b[0m\u001b[1;32m    700\u001b[0m                 \u001b[0;32melse\u001b[0m\u001b[0;34m:\u001b[0m\u001b[0;34m\u001b[0m\u001b[0m\n\u001b[1;32m    701\u001b[0m                     \u001b[0mself\u001b[0m\u001b[0;34m.\u001b[0m\u001b[0m_output\u001b[0m\u001b[0;34m.\u001b[0m\u001b[0mextend\u001b[0m\u001b[0;34m(\u001b[0m\u001b[0mjob\u001b[0m\u001b[0;34m.\u001b[0m\u001b[0mget\u001b[0m\u001b[0;34m(\u001b[0m\u001b[0;34m)\u001b[0m\u001b[0;34m)\u001b[0m\u001b[0;34m\u001b[0m\u001b[0m\n",
      "\u001b[0;32m/Library/Frameworks/Python.framework/Versions/3.6/lib/python3.6/multiprocessing/pool.py\u001b[0m in \u001b[0;36mget\u001b[0;34m(self, timeout)\u001b[0m\n\u001b[1;32m    636\u001b[0m \u001b[0;34m\u001b[0m\u001b[0m\n\u001b[1;32m    637\u001b[0m     \u001b[0;32mdef\u001b[0m \u001b[0mget\u001b[0m\u001b[0;34m(\u001b[0m\u001b[0mself\u001b[0m\u001b[0;34m,\u001b[0m \u001b[0mtimeout\u001b[0m\u001b[0;34m=\u001b[0m\u001b[0;32mNone\u001b[0m\u001b[0;34m)\u001b[0m\u001b[0;34m:\u001b[0m\u001b[0;34m\u001b[0m\u001b[0m\n\u001b[0;32m--> 638\u001b[0;31m         \u001b[0mself\u001b[0m\u001b[0;34m.\u001b[0m\u001b[0mwait\u001b[0m\u001b[0;34m(\u001b[0m\u001b[0mtimeout\u001b[0m\u001b[0;34m)\u001b[0m\u001b[0;34m\u001b[0m\u001b[0m\n\u001b[0m\u001b[1;32m    639\u001b[0m         \u001b[0;32mif\u001b[0m \u001b[0;32mnot\u001b[0m \u001b[0mself\u001b[0m\u001b[0;34m.\u001b[0m\u001b[0mready\u001b[0m\u001b[0;34m(\u001b[0m\u001b[0;34m)\u001b[0m\u001b[0;34m:\u001b[0m\u001b[0;34m\u001b[0m\u001b[0m\n\u001b[1;32m    640\u001b[0m             \u001b[0;32mraise\u001b[0m \u001b[0mTimeoutError\u001b[0m\u001b[0;34m\u001b[0m\u001b[0m\n",
      "\u001b[0;32m/Library/Frameworks/Python.framework/Versions/3.6/lib/python3.6/multiprocessing/pool.py\u001b[0m in \u001b[0;36mwait\u001b[0;34m(self, timeout)\u001b[0m\n\u001b[1;32m    633\u001b[0m \u001b[0;34m\u001b[0m\u001b[0m\n\u001b[1;32m    634\u001b[0m     \u001b[0;32mdef\u001b[0m \u001b[0mwait\u001b[0m\u001b[0;34m(\u001b[0m\u001b[0mself\u001b[0m\u001b[0;34m,\u001b[0m \u001b[0mtimeout\u001b[0m\u001b[0;34m=\u001b[0m\u001b[0;32mNone\u001b[0m\u001b[0;34m)\u001b[0m\u001b[0;34m:\u001b[0m\u001b[0;34m\u001b[0m\u001b[0m\n\u001b[0;32m--> 635\u001b[0;31m         \u001b[0mself\u001b[0m\u001b[0;34m.\u001b[0m\u001b[0m_event\u001b[0m\u001b[0;34m.\u001b[0m\u001b[0mwait\u001b[0m\u001b[0;34m(\u001b[0m\u001b[0mtimeout\u001b[0m\u001b[0;34m)\u001b[0m\u001b[0;34m\u001b[0m\u001b[0m\n\u001b[0m\u001b[1;32m    636\u001b[0m \u001b[0;34m\u001b[0m\u001b[0m\n\u001b[1;32m    637\u001b[0m     \u001b[0;32mdef\u001b[0m \u001b[0mget\u001b[0m\u001b[0;34m(\u001b[0m\u001b[0mself\u001b[0m\u001b[0;34m,\u001b[0m \u001b[0mtimeout\u001b[0m\u001b[0;34m=\u001b[0m\u001b[0;32mNone\u001b[0m\u001b[0;34m)\u001b[0m\u001b[0;34m:\u001b[0m\u001b[0;34m\u001b[0m\u001b[0m\n",
      "\u001b[0;32m/Library/Frameworks/Python.framework/Versions/3.6/lib/python3.6/threading.py\u001b[0m in \u001b[0;36mwait\u001b[0;34m(self, timeout)\u001b[0m\n\u001b[1;32m    549\u001b[0m             \u001b[0msignaled\u001b[0m \u001b[0;34m=\u001b[0m \u001b[0mself\u001b[0m\u001b[0;34m.\u001b[0m\u001b[0m_flag\u001b[0m\u001b[0;34m\u001b[0m\u001b[0m\n\u001b[1;32m    550\u001b[0m             \u001b[0;32mif\u001b[0m \u001b[0;32mnot\u001b[0m \u001b[0msignaled\u001b[0m\u001b[0;34m:\u001b[0m\u001b[0;34m\u001b[0m\u001b[0m\n\u001b[0;32m--> 551\u001b[0;31m                 \u001b[0msignaled\u001b[0m \u001b[0;34m=\u001b[0m \u001b[0mself\u001b[0m\u001b[0;34m.\u001b[0m\u001b[0m_cond\u001b[0m\u001b[0;34m.\u001b[0m\u001b[0mwait\u001b[0m\u001b[0;34m(\u001b[0m\u001b[0mtimeout\u001b[0m\u001b[0;34m)\u001b[0m\u001b[0;34m\u001b[0m\u001b[0m\n\u001b[0m\u001b[1;32m    552\u001b[0m             \u001b[0;32mreturn\u001b[0m \u001b[0msignaled\u001b[0m\u001b[0;34m\u001b[0m\u001b[0m\n\u001b[1;32m    553\u001b[0m \u001b[0;34m\u001b[0m\u001b[0m\n",
      "\u001b[0;32m/Library/Frameworks/Python.framework/Versions/3.6/lib/python3.6/threading.py\u001b[0m in \u001b[0;36mwait\u001b[0;34m(self, timeout)\u001b[0m\n\u001b[1;32m    293\u001b[0m         \u001b[0;32mtry\u001b[0m\u001b[0;34m:\u001b[0m    \u001b[0;31m# restore state no matter what (e.g., KeyboardInterrupt)\u001b[0m\u001b[0;34m\u001b[0m\u001b[0m\n\u001b[1;32m    294\u001b[0m             \u001b[0;32mif\u001b[0m \u001b[0mtimeout\u001b[0m \u001b[0;32mis\u001b[0m \u001b[0;32mNone\u001b[0m\u001b[0;34m:\u001b[0m\u001b[0;34m\u001b[0m\u001b[0m\n\u001b[0;32m--> 295\u001b[0;31m                 \u001b[0mwaiter\u001b[0m\u001b[0;34m.\u001b[0m\u001b[0macquire\u001b[0m\u001b[0;34m(\u001b[0m\u001b[0;34m)\u001b[0m\u001b[0;34m\u001b[0m\u001b[0m\n\u001b[0m\u001b[1;32m    296\u001b[0m                 \u001b[0mgotit\u001b[0m \u001b[0;34m=\u001b[0m \u001b[0;32mTrue\u001b[0m\u001b[0;34m\u001b[0m\u001b[0m\n\u001b[1;32m    297\u001b[0m             \u001b[0;32melse\u001b[0m\u001b[0;34m:\u001b[0m\u001b[0;34m\u001b[0m\u001b[0m\n",
      "\u001b[0;31mKeyboardInterrupt\u001b[0m: "
     ]
    }
   ],
   "source": [
    "gs.fit(x_nd_train, y_nd_train) "
   ]
  },
  {
   "cell_type": "code",
   "execution_count": null,
   "metadata": {},
   "outputs": [],
   "source": [
    "print('Best params: {}'.format(gs.best_params_))\n",
    "print('Best score : {}'.format(gs.best_score_))\n",
    "print('')\n",
    "model = gs.best_estimator_\n",
    "print(\"RMSE train: {}\".format(rmse(y_nd_train, model.predict(x_nd_train))))\n",
    "print(\"RMSE test : {}\".format(rmse(y_nd_test,  model.predict(x_nd_test))))"
   ]
  },
  {
   "cell_type": "markdown",
   "metadata": {},
   "source": [
    "### 5. SVR"
   ]
  },
  {
   "cell_type": "code",
   "execution_count": 307,
   "metadata": {},
   "outputs": [],
   "source": [
    "from sklearn.svm import SVR"
   ]
  },
  {
   "cell_type": "code",
   "execution_count": null,
   "metadata": {},
   "outputs": [],
   "source": [
    "svr = SVR()\n",
    "svr.set_params(kernel='rbf') \n",
    "\n",
    "paramDict = {'C': np.linspace(1, 100, 20), 'gamma': np.linspace(1e-4, 1e-2, 10)}\n",
    "svr_grid = GridSearchCV(svr, paramDict, cv=5, return_train_score = True)\n",
    "svr_grid.fit(x_d_train, y_d_train) \n",
    "\n"
   ]
  },
  {
   "cell_type": "code",
   "execution_count": 329,
   "metadata": {},
   "outputs": [
    {
     "data": {
      "text/plain": [
       "0.4215911969172941"
      ]
     },
     "execution_count": 329,
     "metadata": {},
     "output_type": "execute_result"
    }
   ],
   "source": [
    "svr_grid.best_params_ \n",
    "svr_grid.best_score_"
   ]
  },
  {
   "cell_type": "code",
   "execution_count": 330,
   "metadata": {},
   "outputs": [
    {
     "data": {
      "text/plain": [
       "0.8974298508940413"
      ]
     },
     "execution_count": 330,
     "metadata": {},
     "output_type": "execute_result"
    }
   ],
   "source": [
    "svr_best = svr_grid.best_estimator_\n",
    "svr_best.fit(x_d_train,y_d_train)\n",
    "svr_best.score(x_d_train, y_d_train)"
   ]
  },
  {
   "cell_type": "code",
   "execution_count": 331,
   "metadata": {},
   "outputs": [
    {
     "name": "stdout",
     "output_type": "stream",
     "text": [
      "RMSE train: 0.12379148817191436\n",
      "RMSE test : 0.2949315596484075\n"
     ]
    }
   ],
   "source": [
    "print(\"RMSE train: {}\".format(rmse(y_d_train, svr_best.predict(x_d_train))))\n",
    "print(\"RMSE test : {}\".format(rmse(y_d_test, svr_best.predict(x_d_test))))"
   ]
  },
  {
   "cell_type": "markdown",
   "metadata": {},
   "source": [
    "### 6. Stacking: "
   ]
  },
  {
   "cell_type": "markdown",
   "metadata": {},
   "source": [
    "### Stack base models: "
   ]
  },
  {
   "cell_type": "code",
   "execution_count": 22,
   "metadata": {},
   "outputs": [],
   "source": [
    "from mlxtend.regressor import StackingRegressor\n",
    "\n",
    "\n"
   ]
  },
  {
   "cell_type": "code",
   "execution_count": 6,
   "metadata": {},
   "outputs": [],
   "source": []
  },
  {
   "cell_type": "code",
   "execution_count": 77,
   "metadata": {},
   "outputs": [],
   "source": [
    "models = [\n",
    "    # linear model\n",
    " \n",
    "    #lm.ElasticNet(alpha = 0.01, l1_ratio = 0.32605263157894737, random_state=42),\n",
    "    \n",
    "    lm.Ridge(alpha = 0.01, random_state = 42), \n",
    " \n",
    "     #conservative random forest model\n",
    "    RandomForestRegressor(\\\n",
    "                        max_depth=5,\\\n",
    "                        max_features='sqrt',\\\n",
    "                        n_estimators=1000,\\\n",
    "                        random_state=42,\\\n",
    "                        n_jobs=-1),\n",
    "    \n",
    "#     RandomForestRegressor(\\\n",
    "#                         max_features= 8,\\\n",
    "#                         n_estimators=200,\\\n",
    "#                         min_samples_split=5,\\\n",
    "#                         min_samples_leaf=1,\\\n",
    "#                         random_state= 42,\\\n",
    "#                         n_jobs=-1),\n",
    "#     RandomForestRegressor(\\\n",
    "#                         max_depth=None,\\\n",
    "#                         max_features=8,\\\n",
    "#                         n_estimators=170,\\\n",
    "#                         random_state=42,\\\n",
    "#                         n_jobs=-1),\n",
    "    \n",
    "    #conservative gbm model\n",
    "    GradientBoostingRegressor(\\\n",
    "                        learning_rate=0.005,\\\n",
    "                        n_estimators=3000,\\\n",
    "                        max_depth=2,\\\n",
    "                        min_samples_split=40,\\\n",
    "                        min_samples_leaf=10,\\\n",
    "                        max_features=8,\\\n",
    "                        subsample=0.8,\\\n",
    "                        random_state=42),\n",
    "    \n",
    "#     GradientBoostingRegressor(\\\n",
    "#                         learning_rate=0.005,\\\n",
    "#                         n_estimators=3000,\\\n",
    "#                         max_depth=5,\\\n",
    "#                         min_samples_split=7,\\\n",
    "#                         min_samples_leaf=1,\\\n",
    "#                         max_features='sqrt',\\\n",
    "#                         subsample=0.8,\\\n",
    "#                         random_state= 42)\n",
    "    \n",
    "#     GradientBoostingRegressor(\\\n",
    "#                         learning_rate=0.01,\\\n",
    "#                         n_estimators=2000,\\\n",
    "#                         max_depth=5,\\\n",
    "#                         min_samples_split=28,\\\n",
    "#                         min_samples_leaf=3,\\\n",
    "#                         max_features=63,\\\n",
    "#                         subsample=0.8,\\\n",
    "#                         random_state=rs_const)\n",
    "    ]\n",
    "\n",
    "meta_model = lm.LinearRegression(normalize=False) "
   ]
  },
  {
   "cell_type": "code",
   "execution_count": 78,
   "metadata": {},
   "outputs": [],
   "source": [
    "stack_reg = StackingRegressor(regressors= models, \n",
    "                           meta_regressor=meta_model) "
   ]
  },
  {
   "cell_type": "code",
   "execution_count": 79,
   "metadata": {},
   "outputs": [
    {
     "data": {
      "text/plain": [
       "array([[11.60672661],\n",
       "       [11.70245887],\n",
       "       [11.93452657],\n",
       "       ...,\n",
       "       [12.22047054],\n",
       "       [12.48720369],\n",
       "       [12.08838825]])"
      ]
     },
     "execution_count": 79,
     "metadata": {},
     "output_type": "execute_result"
    }
   ],
   "source": [
    "\n",
    "stack_reg.fit(x_d_train, y_d_train)\n",
    "stack_reg.predict(x_d_train)  "
   ]
  },
  {
   "cell_type": "code",
   "execution_count": 80,
   "metadata": {},
   "outputs": [
    {
     "name": "stdout",
     "output_type": "stream",
     "text": [
      "RMSE train: 0.11308471534902924\n",
      "RMSE test: 0.1476073909840703\n"
     ]
    }
   ],
   "source": [
    "print(\"RMSE train: {}\".format(rmse(y_d_train, stack_reg.predict(x_d_train))))\n",
    "print(\"RMSE test: {}\".format(rmse(y_d_test, stack_reg.predict(x_d_test)))) \n",
    "\n",
    "# train: 0.113\n",
    "#test: 0.1476"
   ]
  },
  {
   "cell_type": "code",
   "execution_count": 48,
   "metadata": {},
   "outputs": [],
   "source": [
    "y_pred_stack = stack_reg.predict(x_d_kag_std)  \n",
    "y_pred_stack = pd.DataFrame(y_pred_stack) \n",
    "y_pred_stack[0] = y_pred_stack[0].apply(lambda x: np.exp(x)) \n",
    "y_pred_stack = y_pred_stack.reset_index() \n",
    "y_pred_stack.columns = ['Id', 'SalePrice']\n",
    "y_pred_stack['Id'] = y_pred_stack['Id'].apply(lambda x: x + 1461) \n",
    "y_pred_stack.set_index('Id', inplace = True)\n",
    "y_pred_stack.to_csv('data/kaggle_ridge_submission2.csv') "
   ]
  },
  {
   "cell_type": "code",
   "execution_count": null,
   "metadata": {},
   "outputs": [],
   "source": []
  }
 ],
 "metadata": {
  "kernelspec": {
   "display_name": "Python 3",
   "language": "python",
   "name": "python3"
  },
  "language_info": {
   "codemirror_mode": {
    "name": "ipython",
    "version": 3
   },
   "file_extension": ".py",
   "mimetype": "text/x-python",
   "name": "python",
   "nbconvert_exporter": "python",
   "pygments_lexer": "ipython3",
   "version": "3.6.4"
  }
 },
 "nbformat": 4,
 "nbformat_minor": 2
}
