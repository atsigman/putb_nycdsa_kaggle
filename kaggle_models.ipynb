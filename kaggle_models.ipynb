{
 "cells": [
  {
   "cell_type": "code",
   "execution_count": 1,
   "metadata": {},
   "outputs": [],
   "source": [
    "# Initializing\n",
    "\n",
    "\n",
    "import pandas as pd \n",
    "\n",
    "import numpy as np \n",
    "\n",
    "\n",
    "%matplotlib inline\n",
    "\n",
    "import matplotlib.pyplot as plt \n",
    "import seaborn as sns\n",
    "color = sns.color_palette()\n",
    "\n",
    "sns.set_style(\"darkgrid\")\n",
    "\n",
    "# ignore sklearn & seaborn warnings\n",
    "import warnings\n",
    "def ignore_warn(*args, **kwargs):\n",
    "    pass\n",
    "warnings.warn = ignore_warn \n",
    "\n",
    "\n",
    "from scipy import stats\n",
    "from scipy.stats import norm, skew  #ex. sns(fit = norm)\n",
    "\n",
    "\n",
    "# Format scientific notation from pandas aggregation\n",
    "pd.set_option('display.float_format', lambda x: '%.3f' % x)\n",
    "pd.set_option('display.max_columns', 500)\n",
    "pd.set_option('display.width', 1000) "
   ]
  },
  {
   "cell_type": "code",
   "execution_count": 164,
   "metadata": {},
   "outputs": [],
   "source": [
    "df_dummies = pd.read_csv('data/all_data.csv')\n",
    "df_no_dummies = pd.read_csv('data/all_data_no_dummies.csv') "
   ]
  },
  {
   "cell_type": "code",
   "execution_count": 3,
   "metadata": {},
   "outputs": [],
   "source": [
    "targets = pd.read_csv('data/y_train.csv') "
   ]
  },
  {
   "cell_type": "code",
   "execution_count": 46,
   "metadata": {},
   "outputs": [],
   "source": [
    "from sklearn.model_selection import GridSearchCV, train_test_split \n",
    "\n",
    "from sklearn import linear_model as lm \n",
    "from sklearn.ensemble import GradientBoostingRegressor, RandomForestRegressor \n",
    "\n",
    "from sklearn.metrics import mean_squared_error  \n",
    "\n",
    "#rmse error: \n",
    "def rmse(y, y_pred):\n",
    "    return np.sqrt(mean_squared_error(y, y_pred))  "
   ]
  },
  {
   "cell_type": "markdown",
   "metadata": {},
   "source": [
    "### Split all_data into train and test: "
   ]
  },
  {
   "cell_type": "code",
   "execution_count": 165,
   "metadata": {},
   "outputs": [],
   "source": [
    "ntrain = targets.shape[0] \n",
    "x_d = df_dummies[:ntrain] \n",
    "x_nd = df_no_dummies[:ntrain] \n",
    "targets_log = targets.apply(np.log)\n"
   ]
  },
  {
   "cell_type": "code",
   "execution_count": 6,
   "metadata": {},
   "outputs": [],
   "source": [
    "from sklearn.preprocessing import StandardScaler \n",
    "\n",
    "scaler = StandardScaler()\n",
    "scaler.fit(x_d)\n",
    "x_d_std = scaler.transform(x_d)\n",
    "\n"
   ]
  },
  {
   "cell_type": "markdown",
   "metadata": {},
   "source": [
    "### Split x_d_std and targets into train and test using train_test_split: "
   ]
  },
  {
   "cell_type": "code",
   "execution_count": 7,
   "metadata": {},
   "outputs": [],
   "source": [
    "x_d_train, x_d_test, y_d_train, y_d_test = train_test_split(x_d_std, targets_log, test_size = 0.2, random_state = 42) \n"
   ]
  },
  {
   "cell_type": "markdown",
   "metadata": {},
   "source": [
    "## MODELLING"
   ]
  },
  {
   "cell_type": "markdown",
   "metadata": {},
   "source": [
    "### 1. Multiple Linear Regression: "
   ]
  },
  {
   "cell_type": "code",
   "execution_count": 59,
   "metadata": {},
   "outputs": [
    {
     "name": "stdout",
     "output_type": "stream",
     "text": [
      "RMSE train: 0.17318243900299812\n",
      "RMSE test : 15562705841228.213\n",
      "R^2 score: 0.8014776983376941\n"
     ]
    }
   ],
   "source": [
    "lm_model =lm.LinearRegression()\n",
    "lm_model.fit(x_d_train, y_d_train)\n",
    "\n",
    "#RMS error \n",
    "print(\"RMSE train: {}\".format(rmse(y_d_train, lm_model.predict(x_d_train)))) \n",
    "print(\"RMSE test : {}\".format(rmse(y_d_test,  lm_model.predict(x_d_test)))) \n",
    "print('R^2 score: {}'.format(lm_model.score(x_d_train, y_d_train)))\n",
    "\n",
    "\n"
   ]
  },
  {
   "cell_type": "markdown",
   "metadata": {},
   "source": [
    "### 2. Ridge/Lasso/Elastic Net : Penalised LR "
   ]
  },
  {
   "cell_type": "code",
   "execution_count": 70,
   "metadata": {},
   "outputs": [
    {
     "name": "stdout",
     "output_type": "stream",
     "text": [
      "Best params: {'alpha': 20.0}\n",
      "Best score : 0.7480641187701964\n",
      "RMSE train: 0.17316473428517343\n",
      "RMSE test : 0.18610748181507164\n",
      "R^2 score: 0.8015182867679322\n"
     ]
    }
   ],
   "source": [
    "#1. ridge: \n",
    "\n",
    "grid_param = [{'alpha': np.linspace(1e-3,20,20)}]\n",
    "\n",
    "gs = GridSearchCV(estimator=lm.Ridge(random_state=42), param_grid=grid_param, cv=5)\n",
    "\n",
    "gs.fit(x_d_std, targets_log)\n",
    "\n",
    "#cv_results_, grid_scores_ (to obsolete), best_estimator_, best_params_, best_score_\n",
    "print('Best params: {}'.format(gs.best_params_))\n",
    "print('Best score : {}'.format(gs.best_score_))\n",
    "#print('')\n",
    "model = gs.best_estimator_\n",
    "print(\"RMSE train: {}\".format(rmse(y_d_train, model.predict(x_d_train))))\n",
    "print(\"RMSE test : {}\".format(rmse(y_d_test,  model.predict(x_d_test))))\n",
    "print('R^2 score: {}'.format(model.score(x_d_train, y_d_train))) "
   ]
  },
  {
   "cell_type": "code",
   "execution_count": 73,
   "metadata": {},
   "outputs": [
    {
     "name": "stdout",
     "output_type": "stream",
     "text": [
      "Best params: {'alpha': 0.001}\n",
      "Best score : 0.7493747517752001\n",
      "RMSE train: 0.17342910634294778\n",
      "RMSE test : 0.18603750059370833\n"
     ]
    }
   ],
   "source": [
    "#2. Lasso: \n",
    "\n",
    "grid_param = [{'alpha': np.linspace(1e-3,20,20)}] \n",
    "\n",
    "gs = GridSearchCV(estimator=lm.Lasso(random_state= 42, normalize=False), param_grid=grid_param, cv=5)\n",
    "\n",
    "gs.fit(x_d_std, targets_log)\n",
    "\n",
    "#cv_results_, grid_scores_ (to obsolete), best_estimator_, best_params_, best_score_\n",
    "print('Best params: {}'.format(gs.best_params_))\n",
    "print('Best score : {}'.format(gs.best_score_))\n",
    "#print('')\n",
    "model = gs.best_estimator_\n",
    "print(\"RMSE train: {}\".format(rmse(y_d_train, model.predict(x_d_train))))\n",
    "print(\"RMSE test : {}\".format(rmse(y_d_test,  model.predict(x_d_test)))) \n"
   ]
  },
  {
   "cell_type": "code",
   "execution_count": 75,
   "metadata": {},
   "outputs": [
    {
     "name": "stdout",
     "output_type": "stream",
     "text": [
      "The intercept is 5.6668\n",
      "The slopes are \n",
      "ExterQual              -0.000\n",
      "Fireplaces              0.041\n",
      "GarageArea              0.000\n",
      "GrLivArea               0.000\n",
      "HeatingQC               0.014\n",
      "KitchenQual             0.036\n",
      "OverallQual             0.063\n",
      "TotRmsAbvGrd            0.000\n",
      "Num_Bathrooms           0.034\n",
      "HouseSF                 0.000\n",
      "YearRemodAgg            0.003\n",
      "Exterior1st_AsbShng    -0.016\n",
      "Exterior1st_AsphShn    -0.000\n",
      "Exterior1st_BrkComm    -0.000\n",
      "Exterior1st_BrkFace     0.027\n",
      "Exterior1st_CBlock     -0.000\n",
      "Exterior1st_CemntBd    -0.000\n",
      "Exterior1st_HdBoard     0.008\n",
      "Exterior1st_ImStucc     0.000\n",
      "Exterior1st_MetalSd     0.003\n",
      "Exterior1st_Plywood    -0.005\n",
      "Exterior1st_Stone       0.000\n",
      "Exterior1st_Stucco      0.007\n",
      "Exterior1st_VinylSd    -0.011\n",
      "Exterior1st_Wd Sdng     0.000\n",
      "Exterior1st_WdShing    -0.000\n",
      "Foundation_BrkTil      -0.000\n",
      "Foundation_CBlock       0.000\n",
      "Foundation_PConc        0.000\n",
      "Foundation_Slab        -0.000\n",
      "                        ...  \n",
      "HouseStyle_SLvl         0.000\n",
      "LotShape_IR1           -0.000\n",
      "LotShape_IR2            0.045\n",
      "LotShape_IR3            0.000\n",
      "LotShape_Reg           -0.005\n",
      "Neighborhood_Blmngtn   -0.000\n",
      "Neighborhood_Blueste   -0.000\n",
      "Neighborhood_BrDale    -0.100\n",
      "Neighborhood_BrkSide    0.023\n",
      "Neighborhood_ClearCr    0.060\n",
      "Neighborhood_CollgCr    0.000\n",
      "Neighborhood_Crawfor    0.088\n",
      "Neighborhood_Edwards   -0.008\n",
      "Neighborhood_Gilbert   -0.000\n",
      "Neighborhood_IDOTRR    -0.136\n",
      "Neighborhood_MeadowV   -0.094\n",
      "Neighborhood_Mitchel    0.000\n",
      "Neighborhood_NAmes      0.018\n",
      "Neighborhood_NPkVill    0.000\n",
      "Neighborhood_NWAmes    -0.009\n",
      "Neighborhood_NoRidge    0.000\n",
      "Neighborhood_NridgHt    0.032\n",
      "Neighborhood_OldTown   -0.038\n",
      "Neighborhood_SWISU     -0.000\n",
      "Neighborhood_Sawyer     0.000\n",
      "Neighborhood_SawyerW   -0.009\n",
      "Neighborhood_Somerst   -0.000\n",
      "Neighborhood_StoneBr    0.024\n",
      "Neighborhood_Timber     0.022\n",
      "Neighborhood_Veenker    0.000\n",
      "Length: 69, dtype: float64\n"
     ]
    }
   ],
   "source": [
    "model.fit(x_d, targets_log)\n",
    "print('The intercept is %.4f' %(model.intercept_))\n",
    "lassoCoef = pd.Series(model.coef_, index=x_d.columns)\n",
    "print('The slopes are \\n%s' %(lassoCoef))  "
   ]
  },
  {
   "cell_type": "code",
   "execution_count": 76,
   "metadata": {},
   "outputs": [
    {
     "name": "stdout",
     "output_type": "stream",
     "text": [
      "Best params: {'alpha': 0.001, 'l1_ratio': 1.0}\n",
      "Best score : 0.7493747517752001\n",
      "RMSE train: 0.17342910634294778\n",
      "RMSE test : 0.18603750059370833\n"
     ]
    }
   ],
   "source": [
    "#3: Elastic Net \n",
    "\n",
    "grid_param = [{'alpha': np.linspace(1e-3,20,20), 'l1_ratio': np.linspace(0.015, 1, 20)}]\n",
    "\n",
    "# Confirmed that setting scoring='neg_mean_squared_error' is the same result as using the default \"R2\" score.\n",
    "gs = GridSearchCV(estimator=lm.ElasticNet(random_state=42), param_grid=grid_param, cv=5)\n",
    "\n",
    "gs.fit(x_d_std, targets_log) \n",
    "\n",
    "#cv_results_, grid_scores_ (to obsolete), best_estimator_, best_params_, best_score_\n",
    "print('Best params: {}'.format(gs.best_params_))\n",
    "print('Best score : {}'.format(gs.best_score_)) \n",
    "#print('')\n",
    "model = gs.best_estimator_\n",
    "print(\"RMSE train: {}\".format(rmse(y_d_train, model.predict(x_d_train))))\n",
    "print(\"RMSE test : {}\".format(rmse(y_d_test, model.predict(x_d_test))))  "
   ]
  },
  {
   "cell_type": "code",
   "execution_count": 77,
   "metadata": {},
   "outputs": [
    {
     "data": {
      "text/plain": [
       "0.4782608695652174"
      ]
     },
     "execution_count": 77,
     "metadata": {},
     "output_type": "execute_result"
    }
   ],
   "source": [
    "#proportion of coeffs > 1e-6 out of all coeffs \n",
    "\n",
    "sum(model.coef_ > 1e-6) / model.coef_.shape[0] "
   ]
  },
  {
   "cell_type": "markdown",
   "metadata": {},
   "source": [
    "Preparation for tree-based models: encode nominal categorical variables in x_nd df: "
   ]
  },
  {
   "cell_type": "code",
   "execution_count": 166,
   "metadata": {},
   "outputs": [
    {
     "data": {
      "text/plain": [
       "Index(['Unnamed: 0', 'ExterQual', 'Exterior1st', 'Fireplaces', 'Foundation', 'GarageArea', 'GrLivArea', 'HeatingQC', 'HouseStyle', 'KitchenQual', 'LotShape', 'Neighborhood', 'OverallQual', 'TotRmsAbvGrd', 'Num_Bathrooms', 'HouseSF', 'YearRemodAgg'], dtype='object')"
      ]
     },
     "execution_count": 166,
     "metadata": {},
     "output_type": "execute_result"
    }
   ],
   "source": [
    "x_nd.columns"
   ]
  },
  {
   "cell_type": "code",
   "execution_count": 167,
   "metadata": {},
   "outputs": [
    {
     "data": {
      "text/html": [
       "<div>\n",
       "<style scoped>\n",
       "    .dataframe tbody tr th:only-of-type {\n",
       "        vertical-align: middle;\n",
       "    }\n",
       "\n",
       "    .dataframe tbody tr th {\n",
       "        vertical-align: top;\n",
       "    }\n",
       "\n",
       "    .dataframe thead th {\n",
       "        text-align: right;\n",
       "    }\n",
       "</style>\n",
       "<table border=\"1\" class=\"dataframe\">\n",
       "  <thead>\n",
       "    <tr style=\"text-align: right;\">\n",
       "      <th></th>\n",
       "      <th>Exterior1st</th>\n",
       "      <th>Foundation</th>\n",
       "      <th>HouseStyle</th>\n",
       "      <th>LotShape</th>\n",
       "      <th>Neighborhood</th>\n",
       "    </tr>\n",
       "  </thead>\n",
       "  <tbody>\n",
       "    <tr>\n",
       "      <th>0</th>\n",
       "      <td>VinylSd</td>\n",
       "      <td>PConc</td>\n",
       "      <td>2Story</td>\n",
       "      <td>Reg</td>\n",
       "      <td>CollgCr</td>\n",
       "    </tr>\n",
       "    <tr>\n",
       "      <th>1</th>\n",
       "      <td>MetalSd</td>\n",
       "      <td>CBlock</td>\n",
       "      <td>1Story</td>\n",
       "      <td>Reg</td>\n",
       "      <td>Veenker</td>\n",
       "    </tr>\n",
       "    <tr>\n",
       "      <th>2</th>\n",
       "      <td>VinylSd</td>\n",
       "      <td>PConc</td>\n",
       "      <td>2Story</td>\n",
       "      <td>IR1</td>\n",
       "      <td>CollgCr</td>\n",
       "    </tr>\n",
       "    <tr>\n",
       "      <th>3</th>\n",
       "      <td>Wd Sdng</td>\n",
       "      <td>BrkTil</td>\n",
       "      <td>2Story</td>\n",
       "      <td>IR1</td>\n",
       "      <td>Crawfor</td>\n",
       "    </tr>\n",
       "    <tr>\n",
       "      <th>4</th>\n",
       "      <td>VinylSd</td>\n",
       "      <td>PConc</td>\n",
       "      <td>2Story</td>\n",
       "      <td>IR1</td>\n",
       "      <td>NoRidge</td>\n",
       "    </tr>\n",
       "    <tr>\n",
       "      <th>5</th>\n",
       "      <td>VinylSd</td>\n",
       "      <td>Wood</td>\n",
       "      <td>1.5Fin</td>\n",
       "      <td>IR1</td>\n",
       "      <td>Mitchel</td>\n",
       "    </tr>\n",
       "    <tr>\n",
       "      <th>6</th>\n",
       "      <td>VinylSd</td>\n",
       "      <td>PConc</td>\n",
       "      <td>1Story</td>\n",
       "      <td>Reg</td>\n",
       "      <td>Somerst</td>\n",
       "    </tr>\n",
       "    <tr>\n",
       "      <th>7</th>\n",
       "      <td>HdBoard</td>\n",
       "      <td>CBlock</td>\n",
       "      <td>2Story</td>\n",
       "      <td>IR1</td>\n",
       "      <td>NWAmes</td>\n",
       "    </tr>\n",
       "    <tr>\n",
       "      <th>8</th>\n",
       "      <td>BrkFace</td>\n",
       "      <td>BrkTil</td>\n",
       "      <td>1.5Fin</td>\n",
       "      <td>Reg</td>\n",
       "      <td>OldTown</td>\n",
       "    </tr>\n",
       "    <tr>\n",
       "      <th>9</th>\n",
       "      <td>MetalSd</td>\n",
       "      <td>BrkTil</td>\n",
       "      <td>1.5Unf</td>\n",
       "      <td>Reg</td>\n",
       "      <td>BrkSide</td>\n",
       "    </tr>\n",
       "    <tr>\n",
       "      <th>10</th>\n",
       "      <td>HdBoard</td>\n",
       "      <td>CBlock</td>\n",
       "      <td>1Story</td>\n",
       "      <td>Reg</td>\n",
       "      <td>Sawyer</td>\n",
       "    </tr>\n",
       "    <tr>\n",
       "      <th>11</th>\n",
       "      <td>WdShing</td>\n",
       "      <td>PConc</td>\n",
       "      <td>2Story</td>\n",
       "      <td>IR1</td>\n",
       "      <td>NridgHt</td>\n",
       "    </tr>\n",
       "    <tr>\n",
       "      <th>12</th>\n",
       "      <td>HdBoard</td>\n",
       "      <td>CBlock</td>\n",
       "      <td>1Story</td>\n",
       "      <td>IR2</td>\n",
       "      <td>Sawyer</td>\n",
       "    </tr>\n",
       "    <tr>\n",
       "      <th>13</th>\n",
       "      <td>VinylSd</td>\n",
       "      <td>PConc</td>\n",
       "      <td>1Story</td>\n",
       "      <td>IR1</td>\n",
       "      <td>CollgCr</td>\n",
       "    </tr>\n",
       "    <tr>\n",
       "      <th>14</th>\n",
       "      <td>MetalSd</td>\n",
       "      <td>CBlock</td>\n",
       "      <td>1Story</td>\n",
       "      <td>IR1</td>\n",
       "      <td>NAmes</td>\n",
       "    </tr>\n",
       "    <tr>\n",
       "      <th>15</th>\n",
       "      <td>Wd Sdng</td>\n",
       "      <td>BrkTil</td>\n",
       "      <td>1.5Unf</td>\n",
       "      <td>Reg</td>\n",
       "      <td>BrkSide</td>\n",
       "    </tr>\n",
       "    <tr>\n",
       "      <th>16</th>\n",
       "      <td>Wd Sdng</td>\n",
       "      <td>CBlock</td>\n",
       "      <td>1Story</td>\n",
       "      <td>IR1</td>\n",
       "      <td>NAmes</td>\n",
       "    </tr>\n",
       "    <tr>\n",
       "      <th>17</th>\n",
       "      <td>MetalSd</td>\n",
       "      <td>Slab</td>\n",
       "      <td>1Story</td>\n",
       "      <td>Reg</td>\n",
       "      <td>Sawyer</td>\n",
       "    </tr>\n",
       "    <tr>\n",
       "      <th>18</th>\n",
       "      <td>VinylSd</td>\n",
       "      <td>PConc</td>\n",
       "      <td>1Story</td>\n",
       "      <td>Reg</td>\n",
       "      <td>SawyerW</td>\n",
       "    </tr>\n",
       "    <tr>\n",
       "      <th>19</th>\n",
       "      <td>BrkFace</td>\n",
       "      <td>CBlock</td>\n",
       "      <td>1Story</td>\n",
       "      <td>Reg</td>\n",
       "      <td>NAmes</td>\n",
       "    </tr>\n",
       "    <tr>\n",
       "      <th>20</th>\n",
       "      <td>VinylSd</td>\n",
       "      <td>PConc</td>\n",
       "      <td>2Story</td>\n",
       "      <td>IR1</td>\n",
       "      <td>NridgHt</td>\n",
       "    </tr>\n",
       "    <tr>\n",
       "      <th>21</th>\n",
       "      <td>Wd Sdng</td>\n",
       "      <td>PConc</td>\n",
       "      <td>1.5Unf</td>\n",
       "      <td>Reg</td>\n",
       "      <td>IDOTRR</td>\n",
       "    </tr>\n",
       "    <tr>\n",
       "      <th>22</th>\n",
       "      <td>VinylSd</td>\n",
       "      <td>PConc</td>\n",
       "      <td>1Story</td>\n",
       "      <td>Reg</td>\n",
       "      <td>CollgCr</td>\n",
       "    </tr>\n",
       "    <tr>\n",
       "      <th>23</th>\n",
       "      <td>CemntBd</td>\n",
       "      <td>PConc</td>\n",
       "      <td>1Story</td>\n",
       "      <td>Reg</td>\n",
       "      <td>MeadowV</td>\n",
       "    </tr>\n",
       "    <tr>\n",
       "      <th>24</th>\n",
       "      <td>Plywood</td>\n",
       "      <td>CBlock</td>\n",
       "      <td>1Story</td>\n",
       "      <td>IR1</td>\n",
       "      <td>Sawyer</td>\n",
       "    </tr>\n",
       "    <tr>\n",
       "      <th>25</th>\n",
       "      <td>VinylSd</td>\n",
       "      <td>PConc</td>\n",
       "      <td>1Story</td>\n",
       "      <td>Reg</td>\n",
       "      <td>NridgHt</td>\n",
       "    </tr>\n",
       "    <tr>\n",
       "      <th>26</th>\n",
       "      <td>Wd Sdng</td>\n",
       "      <td>CBlock</td>\n",
       "      <td>1Story</td>\n",
       "      <td>Reg</td>\n",
       "      <td>NAmes</td>\n",
       "    </tr>\n",
       "    <tr>\n",
       "      <th>27</th>\n",
       "      <td>VinylSd</td>\n",
       "      <td>PConc</td>\n",
       "      <td>1Story</td>\n",
       "      <td>Reg</td>\n",
       "      <td>NridgHt</td>\n",
       "    </tr>\n",
       "    <tr>\n",
       "      <th>28</th>\n",
       "      <td>MetalSd</td>\n",
       "      <td>CBlock</td>\n",
       "      <td>1Story</td>\n",
       "      <td>IR1</td>\n",
       "      <td>NAmes</td>\n",
       "    </tr>\n",
       "    <tr>\n",
       "      <th>29</th>\n",
       "      <td>MetalSd</td>\n",
       "      <td>BrkTil</td>\n",
       "      <td>1Story</td>\n",
       "      <td>IR1</td>\n",
       "      <td>BrkSide</td>\n",
       "    </tr>\n",
       "    <tr>\n",
       "      <th>...</th>\n",
       "      <td>...</td>\n",
       "      <td>...</td>\n",
       "      <td>...</td>\n",
       "      <td>...</td>\n",
       "      <td>...</td>\n",
       "    </tr>\n",
       "    <tr>\n",
       "      <th>1418</th>\n",
       "      <td>Plywood</td>\n",
       "      <td>CBlock</td>\n",
       "      <td>1Story</td>\n",
       "      <td>IR1</td>\n",
       "      <td>NPkVill</td>\n",
       "    </tr>\n",
       "    <tr>\n",
       "      <th>1419</th>\n",
       "      <td>Wd Sdng</td>\n",
       "      <td>BrkTil</td>\n",
       "      <td>1Story</td>\n",
       "      <td>Reg</td>\n",
       "      <td>OldTown</td>\n",
       "    </tr>\n",
       "    <tr>\n",
       "      <th>1420</th>\n",
       "      <td>VinylSd</td>\n",
       "      <td>PConc</td>\n",
       "      <td>2Story</td>\n",
       "      <td>IR1</td>\n",
       "      <td>Gilbert</td>\n",
       "    </tr>\n",
       "    <tr>\n",
       "      <th>1421</th>\n",
       "      <td>BrkFace</td>\n",
       "      <td>CBlock</td>\n",
       "      <td>1Story</td>\n",
       "      <td>Reg</td>\n",
       "      <td>Mitchel</td>\n",
       "    </tr>\n",
       "    <tr>\n",
       "      <th>1422</th>\n",
       "      <td>Wd Sdng</td>\n",
       "      <td>CBlock</td>\n",
       "      <td>1Story</td>\n",
       "      <td>Reg</td>\n",
       "      <td>NAmes</td>\n",
       "    </tr>\n",
       "    <tr>\n",
       "      <th>1423</th>\n",
       "      <td>HdBoard</td>\n",
       "      <td>PConc</td>\n",
       "      <td>1Story</td>\n",
       "      <td>Reg</td>\n",
       "      <td>NAmes</td>\n",
       "    </tr>\n",
       "    <tr>\n",
       "      <th>1424</th>\n",
       "      <td>VinylSd</td>\n",
       "      <td>PConc</td>\n",
       "      <td>1Story</td>\n",
       "      <td>Reg</td>\n",
       "      <td>NridgHt</td>\n",
       "    </tr>\n",
       "    <tr>\n",
       "      <th>1425</th>\n",
       "      <td>MetalSd</td>\n",
       "      <td>CBlock</td>\n",
       "      <td>1Story</td>\n",
       "      <td>Reg</td>\n",
       "      <td>OldTown</td>\n",
       "    </tr>\n",
       "    <tr>\n",
       "      <th>1426</th>\n",
       "      <td>HdBoard</td>\n",
       "      <td>CBlock</td>\n",
       "      <td>SLvl</td>\n",
       "      <td>Reg</td>\n",
       "      <td>NWAmes</td>\n",
       "    </tr>\n",
       "    <tr>\n",
       "      <th>1427</th>\n",
       "      <td>MetalSd</td>\n",
       "      <td>BrkTil</td>\n",
       "      <td>2.5Fin</td>\n",
       "      <td>IR1</td>\n",
       "      <td>Crawfor</td>\n",
       "    </tr>\n",
       "    <tr>\n",
       "      <th>1428</th>\n",
       "      <td>VinylSd</td>\n",
       "      <td>PConc</td>\n",
       "      <td>1Story</td>\n",
       "      <td>Reg</td>\n",
       "      <td>CollgCr</td>\n",
       "    </tr>\n",
       "    <tr>\n",
       "      <th>1429</th>\n",
       "      <td>VinylSd</td>\n",
       "      <td>PConc</td>\n",
       "      <td>2Story</td>\n",
       "      <td>Reg</td>\n",
       "      <td>Somerst</td>\n",
       "    </tr>\n",
       "    <tr>\n",
       "      <th>1430</th>\n",
       "      <td>Wd Sdng</td>\n",
       "      <td>BrkTil</td>\n",
       "      <td>1.5Unf</td>\n",
       "      <td>Reg</td>\n",
       "      <td>BrkSide</td>\n",
       "    </tr>\n",
       "    <tr>\n",
       "      <th>1431</th>\n",
       "      <td>VinylSd</td>\n",
       "      <td>PConc</td>\n",
       "      <td>1Story</td>\n",
       "      <td>Reg</td>\n",
       "      <td>CollgCr</td>\n",
       "    </tr>\n",
       "    <tr>\n",
       "      <th>1432</th>\n",
       "      <td>VinylSd</td>\n",
       "      <td>CBlock</td>\n",
       "      <td>SFoyer</td>\n",
       "      <td>Reg</td>\n",
       "      <td>Sawyer</td>\n",
       "    </tr>\n",
       "    <tr>\n",
       "      <th>1433</th>\n",
       "      <td>HdBoard</td>\n",
       "      <td>CBlock</td>\n",
       "      <td>1Story</td>\n",
       "      <td>IR1</td>\n",
       "      <td>Mitchel</td>\n",
       "    </tr>\n",
       "    <tr>\n",
       "      <th>1434</th>\n",
       "      <td>VinylSd</td>\n",
       "      <td>PConc</td>\n",
       "      <td>2Story</td>\n",
       "      <td>Reg</td>\n",
       "      <td>CollgCr</td>\n",
       "    </tr>\n",
       "    <tr>\n",
       "      <th>1435</th>\n",
       "      <td>MetalSd</td>\n",
       "      <td>CBlock</td>\n",
       "      <td>2Story</td>\n",
       "      <td>Reg</td>\n",
       "      <td>Edwards</td>\n",
       "    </tr>\n",
       "    <tr>\n",
       "      <th>1436</th>\n",
       "      <td>CemntBd</td>\n",
       "      <td>CBlock</td>\n",
       "      <td>SFoyer</td>\n",
       "      <td>Reg</td>\n",
       "      <td>MeadowV</td>\n",
       "    </tr>\n",
       "    <tr>\n",
       "      <th>1437</th>\n",
       "      <td>VinylSd</td>\n",
       "      <td>CBlock</td>\n",
       "      <td>2Story</td>\n",
       "      <td>Reg</td>\n",
       "      <td>NAmes</td>\n",
       "    </tr>\n",
       "    <tr>\n",
       "      <th>1438</th>\n",
       "      <td>CemntBd</td>\n",
       "      <td>PConc</td>\n",
       "      <td>1Story</td>\n",
       "      <td>Reg</td>\n",
       "      <td>Somerst</td>\n",
       "    </tr>\n",
       "    <tr>\n",
       "      <th>1439</th>\n",
       "      <td>VinylSd</td>\n",
       "      <td>PConc</td>\n",
       "      <td>SLvl</td>\n",
       "      <td>Reg</td>\n",
       "      <td>Edwards</td>\n",
       "    </tr>\n",
       "    <tr>\n",
       "      <th>1440</th>\n",
       "      <td>VinylSd</td>\n",
       "      <td>PConc</td>\n",
       "      <td>1Story</td>\n",
       "      <td>Reg</td>\n",
       "      <td>Mitchel</td>\n",
       "    </tr>\n",
       "    <tr>\n",
       "      <th>1441</th>\n",
       "      <td>VinylSd</td>\n",
       "      <td>PConc</td>\n",
       "      <td>1Story</td>\n",
       "      <td>Reg</td>\n",
       "      <td>Somerst</td>\n",
       "    </tr>\n",
       "    <tr>\n",
       "      <th>1442</th>\n",
       "      <td>VinylSd</td>\n",
       "      <td>PConc</td>\n",
       "      <td>2Story</td>\n",
       "      <td>Reg</td>\n",
       "      <td>Gilbert</td>\n",
       "    </tr>\n",
       "    <tr>\n",
       "      <th>1443</th>\n",
       "      <td>Plywood</td>\n",
       "      <td>CBlock</td>\n",
       "      <td>1Story</td>\n",
       "      <td>Reg</td>\n",
       "      <td>NWAmes</td>\n",
       "    </tr>\n",
       "    <tr>\n",
       "      <th>1444</th>\n",
       "      <td>CemntBd</td>\n",
       "      <td>Stone</td>\n",
       "      <td>2Story</td>\n",
       "      <td>Reg</td>\n",
       "      <td>Crawfor</td>\n",
       "    </tr>\n",
       "    <tr>\n",
       "      <th>1445</th>\n",
       "      <td>MetalSd</td>\n",
       "      <td>CBlock</td>\n",
       "      <td>1Story</td>\n",
       "      <td>Reg</td>\n",
       "      <td>NAmes</td>\n",
       "    </tr>\n",
       "    <tr>\n",
       "      <th>1446</th>\n",
       "      <td>HdBoard</td>\n",
       "      <td>CBlock</td>\n",
       "      <td>1Story</td>\n",
       "      <td>Reg</td>\n",
       "      <td>Edwards</td>\n",
       "    </tr>\n",
       "    <tr>\n",
       "      <th>1447</th>\n",
       "      <td>VinylSd</td>\n",
       "      <td>CBlock</td>\n",
       "      <td>1Story</td>\n",
       "      <td>Reg</td>\n",
       "      <td>NAmes</td>\n",
       "    </tr>\n",
       "  </tbody>\n",
       "</table>\n",
       "<p>1448 rows × 5 columns</p>\n",
       "</div>"
      ],
      "text/plain": [
       "     Exterior1st Foundation HouseStyle LotShape Neighborhood\n",
       "0        VinylSd      PConc     2Story      Reg      CollgCr\n",
       "1        MetalSd     CBlock     1Story      Reg      Veenker\n",
       "2        VinylSd      PConc     2Story      IR1      CollgCr\n",
       "3        Wd Sdng     BrkTil     2Story      IR1      Crawfor\n",
       "4        VinylSd      PConc     2Story      IR1      NoRidge\n",
       "5        VinylSd       Wood     1.5Fin      IR1      Mitchel\n",
       "6        VinylSd      PConc     1Story      Reg      Somerst\n",
       "7        HdBoard     CBlock     2Story      IR1       NWAmes\n",
       "8        BrkFace     BrkTil     1.5Fin      Reg      OldTown\n",
       "9        MetalSd     BrkTil     1.5Unf      Reg      BrkSide\n",
       "10       HdBoard     CBlock     1Story      Reg       Sawyer\n",
       "11       WdShing      PConc     2Story      IR1      NridgHt\n",
       "12       HdBoard     CBlock     1Story      IR2       Sawyer\n",
       "13       VinylSd      PConc     1Story      IR1      CollgCr\n",
       "14       MetalSd     CBlock     1Story      IR1        NAmes\n",
       "15       Wd Sdng     BrkTil     1.5Unf      Reg      BrkSide\n",
       "16       Wd Sdng     CBlock     1Story      IR1        NAmes\n",
       "17       MetalSd       Slab     1Story      Reg       Sawyer\n",
       "18       VinylSd      PConc     1Story      Reg      SawyerW\n",
       "19       BrkFace     CBlock     1Story      Reg        NAmes\n",
       "20       VinylSd      PConc     2Story      IR1      NridgHt\n",
       "21       Wd Sdng      PConc     1.5Unf      Reg       IDOTRR\n",
       "22       VinylSd      PConc     1Story      Reg      CollgCr\n",
       "23       CemntBd      PConc     1Story      Reg      MeadowV\n",
       "24       Plywood     CBlock     1Story      IR1       Sawyer\n",
       "25       VinylSd      PConc     1Story      Reg      NridgHt\n",
       "26       Wd Sdng     CBlock     1Story      Reg        NAmes\n",
       "27       VinylSd      PConc     1Story      Reg      NridgHt\n",
       "28       MetalSd     CBlock     1Story      IR1        NAmes\n",
       "29       MetalSd     BrkTil     1Story      IR1      BrkSide\n",
       "...          ...        ...        ...      ...          ...\n",
       "1418     Plywood     CBlock     1Story      IR1      NPkVill\n",
       "1419     Wd Sdng     BrkTil     1Story      Reg      OldTown\n",
       "1420     VinylSd      PConc     2Story      IR1      Gilbert\n",
       "1421     BrkFace     CBlock     1Story      Reg      Mitchel\n",
       "1422     Wd Sdng     CBlock     1Story      Reg        NAmes\n",
       "1423     HdBoard      PConc     1Story      Reg        NAmes\n",
       "1424     VinylSd      PConc     1Story      Reg      NridgHt\n",
       "1425     MetalSd     CBlock     1Story      Reg      OldTown\n",
       "1426     HdBoard     CBlock       SLvl      Reg       NWAmes\n",
       "1427     MetalSd     BrkTil     2.5Fin      IR1      Crawfor\n",
       "1428     VinylSd      PConc     1Story      Reg      CollgCr\n",
       "1429     VinylSd      PConc     2Story      Reg      Somerst\n",
       "1430     Wd Sdng     BrkTil     1.5Unf      Reg      BrkSide\n",
       "1431     VinylSd      PConc     1Story      Reg      CollgCr\n",
       "1432     VinylSd     CBlock     SFoyer      Reg       Sawyer\n",
       "1433     HdBoard     CBlock     1Story      IR1      Mitchel\n",
       "1434     VinylSd      PConc     2Story      Reg      CollgCr\n",
       "1435     MetalSd     CBlock     2Story      Reg      Edwards\n",
       "1436     CemntBd     CBlock     SFoyer      Reg      MeadowV\n",
       "1437     VinylSd     CBlock     2Story      Reg        NAmes\n",
       "1438     CemntBd      PConc     1Story      Reg      Somerst\n",
       "1439     VinylSd      PConc       SLvl      Reg      Edwards\n",
       "1440     VinylSd      PConc     1Story      Reg      Mitchel\n",
       "1441     VinylSd      PConc     1Story      Reg      Somerst\n",
       "1442     VinylSd      PConc     2Story      Reg      Gilbert\n",
       "1443     Plywood     CBlock     1Story      Reg       NWAmes\n",
       "1444     CemntBd      Stone     2Story      Reg      Crawfor\n",
       "1445     MetalSd     CBlock     1Story      Reg        NAmes\n",
       "1446     HdBoard     CBlock     1Story      Reg      Edwards\n",
       "1447     VinylSd     CBlock     1Story      Reg        NAmes\n",
       "\n",
       "[1448 rows x 5 columns]"
      ]
     },
     "execution_count": 167,
     "metadata": {},
     "output_type": "execute_result"
    }
   ],
   "source": [
    "#drop first column, and determine which columns are nominal categorical \n",
    "\n",
    "x_nd = x_nd.drop('Unnamed: 0', axis = 1)\n",
    "x_nd.select_dtypes(['object']) "
   ]
  },
  {
   "cell_type": "code",
   "execution_count": 168,
   "metadata": {},
   "outputs": [],
   "source": [
    "from sklearn.preprocessing import LabelEncoder"
   ]
  },
  {
   "cell_type": "code",
   "execution_count": null,
   "metadata": {},
   "outputs": [],
   "source": [
    "HouseSF', 0.2725794204816994),\n",
    " ('OverallQual', 0.18367601255210747),\n",
    " ('KitchenQual', 0.12356260364685952),\n",
    " ('YearRemodAgg', 0.09478348853681917),\n",
    " ('HouseStyle', 0.07907912271330644),\n",
    " ('Neighborhood', 0.05854045717122344),\n",
    " ('Num_Bathrooms', 0.05841803302668867)"
   ]
  },
  {
   "cell_type": "code",
   "execution_count": 169,
   "metadata": {},
   "outputs": [],
   "source": [
    "#use LabelEncode to encode categorical vars \n",
    "\n",
    "lencoder = LabelEncoder()\n",
    "\n",
    "exterior1st_labels  =lencoder.fit_transform(x_nd.Exterior1st).reshape((-1,1))\n",
    "#foundation_labels = lencoder.fit_transform(x_nd.Foundation).reshape((-1,1))  \n",
    "housestyle_labels    = lencoder.fit_transform(x_nd.HouseStyle).reshape((-1,1))\n",
    "#lotshape_labels   = lencoder.fit_transform(x_nd.LotShape).reshape((-1,1))\n",
    "neighborhood_labels= lencoder.fit_transform(x_nd.Neighborhood).reshape((-1,1))  "
   ]
  },
  {
   "cell_type": "code",
   "execution_count": 227,
   "metadata": {},
   "outputs": [],
   "source": [
    "#create list numerical + encoded nominal categorical features \n",
    "\n",
    "num_cols = ['KitchenQual','OverallQual', 'Num_Bathrooms', 'HouseSF', 'YearRemodAgg']\n",
    "x_nd_le = [neighborhood_labels]\n",
    "for col in num_cols: \n",
    "    x_nd_le.append(x_nd[col].reshape((-1, 1))) \n",
    "    "
   ]
  },
  {
   "cell_type": "code",
   "execution_count": 228,
   "metadata": {},
   "outputs": [],
   "source": [
    "#concatenate features (including encoded nominal categorical variables)-> new dataframe \n",
    "\n",
    "x_nd_le = np.concatenate(x_nd_le, axis = 1)\n",
    "x_nd_le = pd.DataFrame(x_nd_le)  \n",
    "x_nd_le.columns = ['neighborhood', 'kitchenqual', 'overallqual', 'num_bathrooms', 'housesf', 'year_remod_agg'] "
   ]
  },
  {
   "cell_type": "code",
   "execution_count": 229,
   "metadata": {},
   "outputs": [
    {
     "data": {
      "text/html": [
       "<div>\n",
       "<style scoped>\n",
       "    .dataframe tbody tr th:only-of-type {\n",
       "        vertical-align: middle;\n",
       "    }\n",
       "\n",
       "    .dataframe tbody tr th {\n",
       "        vertical-align: top;\n",
       "    }\n",
       "\n",
       "    .dataframe thead th {\n",
       "        text-align: right;\n",
       "    }\n",
       "</style>\n",
       "<table border=\"1\" class=\"dataframe\">\n",
       "  <thead>\n",
       "    <tr style=\"text-align: right;\">\n",
       "      <th></th>\n",
       "      <th>neighborhood</th>\n",
       "      <th>kitchenqual</th>\n",
       "      <th>overallqual</th>\n",
       "      <th>num_bathrooms</th>\n",
       "      <th>housesf</th>\n",
       "      <th>year_remod_agg</th>\n",
       "    </tr>\n",
       "  </thead>\n",
       "  <tbody>\n",
       "    <tr>\n",
       "      <th>0</th>\n",
       "      <td>5.000</td>\n",
       "      <td>3.000</td>\n",
       "      <td>7.000</td>\n",
       "      <td>4.000</td>\n",
       "      <td>3114.000</td>\n",
       "      <td>2003.000</td>\n",
       "    </tr>\n",
       "    <tr>\n",
       "      <th>1</th>\n",
       "      <td>24.000</td>\n",
       "      <td>2.000</td>\n",
       "      <td>6.000</td>\n",
       "      <td>3.000</td>\n",
       "      <td>2984.000</td>\n",
       "      <td>1976.000</td>\n",
       "    </tr>\n",
       "    <tr>\n",
       "      <th>2</th>\n",
       "      <td>5.000</td>\n",
       "      <td>3.000</td>\n",
       "      <td>7.000</td>\n",
       "      <td>4.000</td>\n",
       "      <td>3314.000</td>\n",
       "      <td>2001.500</td>\n",
       "    </tr>\n",
       "    <tr>\n",
       "      <th>3</th>\n",
       "      <td>6.000</td>\n",
       "      <td>3.000</td>\n",
       "      <td>7.000</td>\n",
       "      <td>2.000</td>\n",
       "      <td>3115.000</td>\n",
       "      <td>1942.500</td>\n",
       "    </tr>\n",
       "    <tr>\n",
       "      <th>4</th>\n",
       "      <td>15.000</td>\n",
       "      <td>3.000</td>\n",
       "      <td>8.000</td>\n",
       "      <td>4.000</td>\n",
       "      <td>4179.000</td>\n",
       "      <td>2000.000</td>\n",
       "    </tr>\n",
       "  </tbody>\n",
       "</table>\n",
       "</div>"
      ],
      "text/plain": [
       "   neighborhood  kitchenqual  overallqual  num_bathrooms  housesf  year_remod_agg\n",
       "0         5.000        3.000        7.000          4.000 3114.000        2003.000\n",
       "1        24.000        2.000        6.000          3.000 2984.000        1976.000\n",
       "2         5.000        3.000        7.000          4.000 3314.000        2001.500\n",
       "3         6.000        3.000        7.000          2.000 3115.000        1942.500\n",
       "4        15.000        3.000        8.000          4.000 4179.000        2000.000"
      ]
     },
     "execution_count": 229,
     "metadata": {},
     "output_type": "execute_result"
    }
   ],
   "source": [
    "x_nd_le.head()"
   ]
  },
  {
   "cell_type": "code",
   "execution_count": 230,
   "metadata": {},
   "outputs": [],
   "source": [
    "#train_test split of non-dummified dataframe \n",
    "\n",
    "x_nd_train, x_nd_test, y_nd_train, y_nd_test = train_test_split(x_nd_le, targets_log, test_size = 0.2, random_state = 42)  \n"
   ]
  },
  {
   "cell_type": "markdown",
   "metadata": {},
   "source": [
    "### 3. Random Forest "
   ]
  },
  {
   "cell_type": "code",
   "execution_count": 301,
   "metadata": {},
   "outputs": [
    {
     "name": "stdout",
     "output_type": "stream",
     "text": [
      "The training error is: 0.04859\n",
      "The test     error is: 0.28646\n"
     ]
    }
   ],
   "source": [
    "\n",
    "#test random forest regressor with default parameters: \n",
    "\n",
    "randomForest = RandomForestRegressor()\n",
    "\n",
    "# fit RF model on training set\n",
    "randomForest.set_params(random_state=42)\n",
    "\n",
    "randomForest.fit(x_nd_train, y_nd_train)  \n",
    "\n",
    "print(\"The training error is: %.5f\" % (1- randomForest.score(x_nd_train, y_nd_train))) \n",
    "print(\"The test     error is: %.5f\" % (1 - randomForest.score(x_nd_test, y_nd_test)))   "
   ]
  },
  {
   "cell_type": "code",
   "execution_count": 295,
   "metadata": {},
   "outputs": [],
   "source": [
    "grid_para_forest = {\n",
    "    'n_estimators': range(80, 200, 10),\n",
    "    'max_depth': range(3,12),\n",
    "    'max_features': ['sqrt', 'auto']\n",
    "}  "
   ]
  },
  {
   "cell_type": "code",
   "execution_count": 296,
   "metadata": {},
   "outputs": [],
   "source": [
    "gs = GridSearchCV(estimator = RandomForestRegressor(\\\n",
    "                                    min_samples_split=5,\\\n",
    "                                    #max_depth = 10,\\\n",
    "                                    min_samples_leaf=1,\\\n",
    "                                    random_state=42,\\\n",
    "                                    n_jobs=-1),\\\n",
    "                  param_grid = grid_para_forest, n_jobs=-1, cv=5)   "
   ]
  },
  {
   "cell_type": "code",
   "execution_count": 297,
   "metadata": {},
   "outputs": [
    {
     "data": {
      "text/plain": [
       "GridSearchCV(cv=5, error_score='raise-deprecating',\n",
       "             estimator=RandomForestRegressor(bootstrap=True, criterion='mse',\n",
       "                                             max_depth=None,\n",
       "                                             max_features='auto',\n",
       "                                             max_leaf_nodes=None,\n",
       "                                             min_impurity_decrease=0.0,\n",
       "                                             min_impurity_split=None,\n",
       "                                             min_samples_leaf=1,\n",
       "                                             min_samples_split=5,\n",
       "                                             min_weight_fraction_leaf=0.0,\n",
       "                                             n_estimators='warn', n_jobs=-1,\n",
       "                                             oob_score=False, random_state=42,\n",
       "                                             verbose=0, warm_start=False),\n",
       "             iid='warn', n_jobs=-1,\n",
       "             param_grid={'max_depth': range(3, 12),\n",
       "                         'max_features': ['sqrt', 'auto'],\n",
       "                         'n_estimators': range(80, 200, 10)},\n",
       "             pre_dispatch='2*n_jobs', refit=True, return_train_score=False,\n",
       "             scoring=None, verbose=0)"
      ]
     },
     "execution_count": 297,
     "metadata": {},
     "output_type": "execute_result"
    }
   ],
   "source": [
    "gs.fit(x_nd_train, y_nd_train)  "
   ]
  },
  {
   "cell_type": "code",
   "execution_count": 298,
   "metadata": {},
   "outputs": [
    {
     "name": "stdout",
     "output_type": "stream",
     "text": [
      "Best params: {'max_depth': 8, 'max_features': 'sqrt', 'n_estimators': 90}\n",
      "Best score : 0.7694308012689799\n"
     ]
    }
   ],
   "source": [
    "print('Best params: {}'.format(gs.best_params_))\n",
    "print('Best score : {}'.format(gs.best_score_))   "
   ]
  },
  {
   "cell_type": "code",
   "execution_count": 299,
   "metadata": {},
   "outputs": [
    {
     "name": "stdout",
     "output_type": "stream",
     "text": [
      "RMSE train: 0.13707762030026752\n",
      "RMSE test : 0.19620686829323813\n"
     ]
    }
   ],
   "source": [
    "forest_final = gs.best_estimator_\n",
    "print(\"RMSE train: {}\".format(rmse(y_d_train, forest_final.predict(x_nd_train)))) #0.1044\n",
    "print(\"RMSE test : {}\".format(rmse(y_d_test,  forest_final.predict(x_nd_test)))) #0.1962  "
   ]
  },
  {
   "cell_type": "code",
   "execution_count": 300,
   "metadata": {},
   "outputs": [
    {
     "data": {
      "text/plain": [
       "[('housesf', 0.4007116462865751),\n",
       " ('overallqual', 0.2153847488979508),\n",
       " ('year_remod_agg', 0.14127826204855218),\n",
       " ('kitchenqual', 0.11586024082597046),\n",
       " ('num_bathrooms', 0.08905445677203017),\n",
       " ('neighborhood', 0.03771064516892126)]"
      ]
     },
     "execution_count": 300,
     "metadata": {},
     "output_type": "execute_result"
    }
   ],
   "source": [
    "\n",
    "forest_feature_importance = forest_final.feature_importances_\n",
    "\n",
    "forest_sorted_features = sorted(list(zip(x_nd_le.columns, forest_feature_importance)), key = lambda kv: kv[1], reverse = True) \n",
    "\n",
    "forest_sorted_features "
   ]
  },
  {
   "cell_type": "code",
   "execution_count": 182,
   "metadata": {},
   "outputs": [
    {
     "data": {
      "text/plain": [
       "Text(0.5,1,'Feature Importance: Random Forest')"
      ]
     },
     "execution_count": 182,
     "metadata": {},
     "output_type": "execute_result"
    },
    {
     "data": {
      "image/png": "[encoded data removed]",
      "text/plain": [
       "<matplotlib.figure.Figure at 0x11c32c898>"
      ]
     },
     "metadata": {},
     "output_type": "display_data"
    }
   ],
   "source": [
    "#graph feature importances of top 25 features \n",
    "\n",
    "a, b = zip(*forest_sorted_features)\n",
    "importance_score = pd.DataFrame({'feature':a, 'score':b})\n",
    "importance_score.plot.barh(x='feature', y='score', legend=None)\n",
    "plt.title('Feature Importance: Random Forest')"
   ]
  },
  {
   "cell_type": "markdown",
   "metadata": {},
   "source": [
    "### 4. GBM"
   ]
  },
  {
   "cell_type": "code",
   "execution_count": 200,
   "metadata": {},
   "outputs": [],
   "source": [
    "gbm = GradientBoostingRegressor()  "
   ]
  },
  {
   "cell_type": "code",
   "execution_count": 231,
   "metadata": {
    "scrolled": true
   },
   "outputs": [
    {
     "name": "stdout",
     "output_type": "stream",
     "text": [
      "The training error is: 0.14129\n",
      "The test     error is: 0.26298\n"
     ]
    }
   ],
   "source": [
    "gbm_1 = gbm.fit(x_nd_train, y_nd_train) \n",
    "\n",
    "print(\"The training error is: %.5f\" % (1- gbm.score(x_nd_train, y_nd_train))) \n",
    "print(\"The test     error is: %.5f\" % (1 - gbm.score(x_nd_test, y_nd_test)))   "
   ]
  },
  {
   "cell_type": "code",
   "execution_count": 221,
   "metadata": {},
   "outputs": [
    {
     "ename": "KeyboardInterrupt",
     "evalue": "",
     "output_type": "error",
     "traceback": [
      "\u001b[0;31m---------------------------------------------------------------------------\u001b[0m",
      "\u001b[0;31mKeyboardInterrupt\u001b[0m                         Traceback (most recent call last)",
      "\u001b[0;32m<ipython-input-221-8c99927d0b55>\u001b[0m in \u001b[0;36m<module>\u001b[0;34m()\u001b[0m\n\u001b[1;32m      4\u001b[0m \u001b[0;34m\u001b[0m\u001b[0m\n\u001b[1;32m      5\u001b[0m \u001b[0mgbm\u001b[0m\u001b[0;34m.\u001b[0m\u001b[0mset_params\u001b[0m\u001b[0;34m(\u001b[0m\u001b[0mlearning_rate\u001b[0m \u001b[0;34m=\u001b[0m \u001b[0;36m1\u001b[0m\u001b[0;34m,\u001b[0m \u001b[0mn_estimators\u001b[0m\u001b[0;34m=\u001b[0m\u001b[0mn_estimators\u001b[0m\u001b[0;34m,\u001b[0m \u001b[0mmax_depth\u001b[0m\u001b[0;34m=\u001b[0m\u001b[0;36m3\u001b[0m\u001b[0;34m)\u001b[0m\u001b[0;34m\u001b[0m\u001b[0m\n\u001b[0;32m----> 6\u001b[0;31m \u001b[0mgbm\u001b[0m\u001b[0;34m.\u001b[0m\u001b[0mfit\u001b[0m\u001b[0;34m(\u001b[0m\u001b[0mx_nd_train\u001b[0m\u001b[0;34m,\u001b[0m \u001b[0my_nd_train\u001b[0m\u001b[0;34m)\u001b[0m\u001b[0;34m\u001b[0m\u001b[0m\n\u001b[0m\u001b[1;32m      7\u001b[0m \u001b[0mgen\u001b[0m \u001b[0;34m=\u001b[0m \u001b[0mgbm\u001b[0m\u001b[0;34m.\u001b[0m\u001b[0mstaged_predict\u001b[0m\u001b[0;34m(\u001b[0m\u001b[0mx_nd_train\u001b[0m\u001b[0;34m)\u001b[0m\u001b[0;34m\u001b[0m\u001b[0m\n\u001b[1;32m      8\u001b[0m \u001b[0mr2_rate1\u001b[0m \u001b[0;34m=\u001b[0m \u001b[0;34m[\u001b[0m\u001b[0;34m]\u001b[0m\u001b[0;34m\u001b[0m\u001b[0m\n",
      "\u001b[0;32m/Library/Frameworks/Python.framework/Versions/3.6/lib/python3.6/site-packages/sklearn/ensemble/gradient_boosting.py\u001b[0m in \u001b[0;36mfit\u001b[0;34m(self, X, y, sample_weight, monitor)\u001b[0m\n\u001b[1;32m   1544\u001b[0m         n_stages = self._fit_stages(\n\u001b[1;32m   1545\u001b[0m             \u001b[0mX\u001b[0m\u001b[0;34m,\u001b[0m \u001b[0my\u001b[0m\u001b[0;34m,\u001b[0m \u001b[0mraw_predictions\u001b[0m\u001b[0;34m,\u001b[0m \u001b[0msample_weight\u001b[0m\u001b[0;34m,\u001b[0m \u001b[0mself\u001b[0m\u001b[0;34m.\u001b[0m\u001b[0m_rng\u001b[0m\u001b[0;34m,\u001b[0m \u001b[0mX_val\u001b[0m\u001b[0;34m,\u001b[0m \u001b[0my_val\u001b[0m\u001b[0;34m,\u001b[0m\u001b[0;34m\u001b[0m\u001b[0m\n\u001b[0;32m-> 1546\u001b[0;31m             sample_weight_val, begin_at_stage, monitor, X_idx_sorted)\n\u001b[0m\u001b[1;32m   1547\u001b[0m \u001b[0;34m\u001b[0m\u001b[0m\n\u001b[1;32m   1548\u001b[0m         \u001b[0;31m# change shape of arrays after fit (early-stopping or additional ests)\u001b[0m\u001b[0;34m\u001b[0m\u001b[0;34m\u001b[0m\u001b[0m\n",
      "\u001b[0;32m/Library/Frameworks/Python.framework/Versions/3.6/lib/python3.6/site-packages/sklearn/ensemble/gradient_boosting.py\u001b[0m in \u001b[0;36m_fit_stages\u001b[0;34m(self, X, y, raw_predictions, sample_weight, random_state, X_val, y_val, sample_weight_val, begin_at_stage, monitor, X_idx_sorted)\u001b[0m\n\u001b[1;32m   1599\u001b[0m             \u001b[0;32mif\u001b[0m \u001b[0mdo_oob\u001b[0m\u001b[0;34m:\u001b[0m\u001b[0;34m\u001b[0m\u001b[0m\n\u001b[1;32m   1600\u001b[0m                 sample_mask = _random_sample_mask(n_samples, n_inbag,\n\u001b[0;32m-> 1601\u001b[0;31m                                                   random_state)\n\u001b[0m\u001b[1;32m   1602\u001b[0m                 \u001b[0;31m# OOB score before adding this stage\u001b[0m\u001b[0;34m\u001b[0m\u001b[0;34m\u001b[0m\u001b[0m\n\u001b[1;32m   1603\u001b[0m                 old_oob_score = loss_(y[~sample_mask],\n",
      "\u001b[0;31mKeyboardInterrupt\u001b[0m: "
     ]
    }
   ],
   "source": [
    "from sklearn.metrics import r2_score \n",
    "n_estimators = 50100\n",
    "steps = range(100, 50100, 1000)\n",
    "\n",
    "gbm.set_params(learning_rate = 1, n_estimators=n_estimators, max_depth=3)\n",
    "gbm.fit(x_nd_train, y_nd_train)\n",
    "gen = gbm.staged_predict(x_nd_train)\n",
    "r2_rate1 = []\n",
    "for n in range(n_estimators):\n",
    "           predicted_targets = next(gen)\n",
    "           if n not in steps: continue\n",
    "           r2_rate1.append(r2_score(predicted_targets, y_nd_train))    "
   ]
  },
  {
   "cell_type": "code",
   "execution_count": 186,
   "metadata": {},
   "outputs": [],
   "source": [
    "from sklearn.metrics import r2_score \n",
    "n_estimators = 50100\n",
    "steps = range(100, 50100, 1000)\n",
    "\n",
    "gbm.set_params(learning_rate = 0.1, n_estimators=n_estimators, max_depth=3)\n",
    "gbm.fit(x_nd_train, y_nd_train)\n",
    "gen = gbm.staged_predict(x_nd_train)\n",
    "r2_rate01 = []\n",
    "for n in range(n_estimators):\n",
    "           predicted_targets = next(gen)\n",
    "           if n not in steps: continue\n",
    "           r2_rate01.append(r2_score(predicted_targets, y_nd_train))    "
   ]
  },
  {
   "cell_type": "code",
   "execution_count": 211,
   "metadata": {},
   "outputs": [
    {
     "ename": "KeyboardInterrupt",
     "evalue": "",
     "output_type": "error",
     "traceback": [
      "\u001b[0;31m---------------------------------------------------------------------------\u001b[0m",
      "\u001b[0;31mKeyboardInterrupt\u001b[0m                         Traceback (most recent call last)",
      "\u001b[0;32m<ipython-input-211-bd713d62234c>\u001b[0m in \u001b[0;36m<module>\u001b[0;34m()\u001b[0m\n\u001b[1;32m      4\u001b[0m \u001b[0;34m\u001b[0m\u001b[0m\n\u001b[1;32m      5\u001b[0m \u001b[0mgbm\u001b[0m\u001b[0;34m.\u001b[0m\u001b[0mset_params\u001b[0m\u001b[0;34m(\u001b[0m\u001b[0mlearning_rate\u001b[0m \u001b[0;34m=\u001b[0m \u001b[0;36m0.01\u001b[0m\u001b[0;34m,\u001b[0m \u001b[0mn_estimators\u001b[0m\u001b[0;34m=\u001b[0m\u001b[0mn_estimators\u001b[0m\u001b[0;34m,\u001b[0m \u001b[0mmax_depth\u001b[0m\u001b[0;34m=\u001b[0m\u001b[0;36m3\u001b[0m\u001b[0;34m)\u001b[0m\u001b[0;34m\u001b[0m\u001b[0m\n\u001b[0;32m----> 6\u001b[0;31m \u001b[0mgbm\u001b[0m\u001b[0;34m.\u001b[0m\u001b[0mfit\u001b[0m\u001b[0;34m(\u001b[0m\u001b[0mx_nd_train\u001b[0m\u001b[0;34m,\u001b[0m \u001b[0my_nd_train\u001b[0m\u001b[0;34m)\u001b[0m\u001b[0;34m\u001b[0m\u001b[0m\n\u001b[0m\u001b[1;32m      7\u001b[0m \u001b[0mgen\u001b[0m \u001b[0;34m=\u001b[0m \u001b[0mgbm\u001b[0m\u001b[0;34m.\u001b[0m\u001b[0mstaged_predict\u001b[0m\u001b[0;34m(\u001b[0m\u001b[0mx_nd_train\u001b[0m\u001b[0;34m)\u001b[0m\u001b[0;34m\u001b[0m\u001b[0m\n\u001b[1;32m      8\u001b[0m \u001b[0mr2_rate001\u001b[0m \u001b[0;34m=\u001b[0m \u001b[0;34m[\u001b[0m\u001b[0;34m]\u001b[0m\u001b[0;34m\u001b[0m\u001b[0m\n",
      "\u001b[0;32m/Library/Frameworks/Python.framework/Versions/3.6/lib/python3.6/site-packages/sklearn/ensemble/gradient_boosting.py\u001b[0m in \u001b[0;36mfit\u001b[0;34m(self, X, y, sample_weight, monitor)\u001b[0m\n\u001b[1;32m   1544\u001b[0m         n_stages = self._fit_stages(\n\u001b[1;32m   1545\u001b[0m             \u001b[0mX\u001b[0m\u001b[0;34m,\u001b[0m \u001b[0my\u001b[0m\u001b[0;34m,\u001b[0m \u001b[0mraw_predictions\u001b[0m\u001b[0;34m,\u001b[0m \u001b[0msample_weight\u001b[0m\u001b[0;34m,\u001b[0m \u001b[0mself\u001b[0m\u001b[0;34m.\u001b[0m\u001b[0m_rng\u001b[0m\u001b[0;34m,\u001b[0m \u001b[0mX_val\u001b[0m\u001b[0;34m,\u001b[0m \u001b[0my_val\u001b[0m\u001b[0;34m,\u001b[0m\u001b[0;34m\u001b[0m\u001b[0m\n\u001b[0;32m-> 1546\u001b[0;31m             sample_weight_val, begin_at_stage, monitor, X_idx_sorted)\n\u001b[0m\u001b[1;32m   1547\u001b[0m \u001b[0;34m\u001b[0m\u001b[0m\n\u001b[1;32m   1548\u001b[0m         \u001b[0;31m# change shape of arrays after fit (early-stopping or additional ests)\u001b[0m\u001b[0;34m\u001b[0m\u001b[0;34m\u001b[0m\u001b[0m\n",
      "\u001b[0;32m/Library/Frameworks/Python.framework/Versions/3.6/lib/python3.6/site-packages/sklearn/ensemble/gradient_boosting.py\u001b[0m in \u001b[0;36m_fit_stages\u001b[0;34m(self, X, y, raw_predictions, sample_weight, random_state, X_val, y_val, sample_weight_val, begin_at_stage, monitor, X_idx_sorted)\u001b[0m\n\u001b[1;32m   1608\u001b[0m             raw_predictions = self._fit_stage(\n\u001b[1;32m   1609\u001b[0m                 \u001b[0mi\u001b[0m\u001b[0;34m,\u001b[0m \u001b[0mX\u001b[0m\u001b[0;34m,\u001b[0m \u001b[0my\u001b[0m\u001b[0;34m,\u001b[0m \u001b[0mraw_predictions\u001b[0m\u001b[0;34m,\u001b[0m \u001b[0msample_weight\u001b[0m\u001b[0;34m,\u001b[0m \u001b[0msample_mask\u001b[0m\u001b[0;34m,\u001b[0m\u001b[0;34m\u001b[0m\u001b[0m\n\u001b[0;32m-> 1610\u001b[0;31m                 random_state, X_idx_sorted, X_csc, X_csr)\n\u001b[0m\u001b[1;32m   1611\u001b[0m \u001b[0;34m\u001b[0m\u001b[0m\n\u001b[1;32m   1612\u001b[0m             \u001b[0;31m# track deviance (= loss)\u001b[0m\u001b[0;34m\u001b[0m\u001b[0;34m\u001b[0m\u001b[0m\n",
      "\u001b[0;32m/Library/Frameworks/Python.framework/Versions/3.6/lib/python3.6/site-packages/sklearn/ensemble/gradient_boosting.py\u001b[0m in \u001b[0;36m_fit_stage\u001b[0;34m(self, i, X, y, raw_predictions, sample_weight, sample_mask, random_state, X_idx_sorted, X_csc, X_csr)\u001b[0m\n\u001b[1;32m   1242\u001b[0m             \u001b[0mX\u001b[0m \u001b[0;34m=\u001b[0m \u001b[0mX_csr\u001b[0m \u001b[0;32mif\u001b[0m \u001b[0mX_csr\u001b[0m \u001b[0;32mis\u001b[0m \u001b[0;32mnot\u001b[0m \u001b[0;32mNone\u001b[0m \u001b[0;32melse\u001b[0m \u001b[0mX\u001b[0m\u001b[0;34m\u001b[0m\u001b[0m\n\u001b[1;32m   1243\u001b[0m             tree.fit(X, residual, sample_weight=sample_weight,\n\u001b[0;32m-> 1244\u001b[0;31m                      check_input=False, X_idx_sorted=X_idx_sorted)\n\u001b[0m\u001b[1;32m   1245\u001b[0m \u001b[0;34m\u001b[0m\u001b[0m\n\u001b[1;32m   1246\u001b[0m             \u001b[0;31m# update tree leaves\u001b[0m\u001b[0;34m\u001b[0m\u001b[0;34m\u001b[0m\u001b[0m\n",
      "\u001b[0;32m/Library/Frameworks/Python.framework/Versions/3.6/lib/python3.6/site-packages/sklearn/tree/tree.py\u001b[0m in \u001b[0;36mfit\u001b[0;34m(self, X, y, sample_weight, check_input, X_idx_sorted)\u001b[0m\n\u001b[1;32m   1155\u001b[0m             \u001b[0msample_weight\u001b[0m\u001b[0;34m=\u001b[0m\u001b[0msample_weight\u001b[0m\u001b[0;34m,\u001b[0m\u001b[0;34m\u001b[0m\u001b[0m\n\u001b[1;32m   1156\u001b[0m             \u001b[0mcheck_input\u001b[0m\u001b[0;34m=\u001b[0m\u001b[0mcheck_input\u001b[0m\u001b[0;34m,\u001b[0m\u001b[0;34m\u001b[0m\u001b[0m\n\u001b[0;32m-> 1157\u001b[0;31m             X_idx_sorted=X_idx_sorted)\n\u001b[0m\u001b[1;32m   1158\u001b[0m         \u001b[0;32mreturn\u001b[0m \u001b[0mself\u001b[0m\u001b[0;34m\u001b[0m\u001b[0m\n\u001b[1;32m   1159\u001b[0m \u001b[0;34m\u001b[0m\u001b[0m\n",
      "\u001b[0;32m/Library/Frameworks/Python.framework/Versions/3.6/lib/python3.6/site-packages/sklearn/tree/tree.py\u001b[0m in \u001b[0;36mfit\u001b[0;34m(self, X, y, sample_weight, check_input, X_idx_sorted)\u001b[0m\n\u001b[1;32m    378\u001b[0m                                            min_impurity_split)\n\u001b[1;32m    379\u001b[0m \u001b[0;34m\u001b[0m\u001b[0m\n\u001b[0;32m--> 380\u001b[0;31m         \u001b[0mbuilder\u001b[0m\u001b[0;34m.\u001b[0m\u001b[0mbuild\u001b[0m\u001b[0;34m(\u001b[0m\u001b[0mself\u001b[0m\u001b[0;34m.\u001b[0m\u001b[0mtree_\u001b[0m\u001b[0;34m,\u001b[0m \u001b[0mX\u001b[0m\u001b[0;34m,\u001b[0m \u001b[0my\u001b[0m\u001b[0;34m,\u001b[0m \u001b[0msample_weight\u001b[0m\u001b[0;34m,\u001b[0m \u001b[0mX_idx_sorted\u001b[0m\u001b[0;34m)\u001b[0m\u001b[0;34m\u001b[0m\u001b[0m\n\u001b[0m\u001b[1;32m    381\u001b[0m \u001b[0;34m\u001b[0m\u001b[0m\n\u001b[1;32m    382\u001b[0m         \u001b[0;32mif\u001b[0m \u001b[0mself\u001b[0m\u001b[0;34m.\u001b[0m\u001b[0mn_outputs_\u001b[0m \u001b[0;34m==\u001b[0m \u001b[0;36m1\u001b[0m\u001b[0;34m:\u001b[0m\u001b[0;34m\u001b[0m\u001b[0m\n",
      "\u001b[0;31mKeyboardInterrupt\u001b[0m: "
     ]
    }
   ],
   "source": [
    "from sklearn.metrics import r2_score \n",
    "n_estimators = 50100\n",
    "steps = range(100, 50100, 1000)\n",
    "\n",
    "gbm.set_params(learning_rate = 0.01, n_estimators=n_estimators, max_depth=3)\n",
    "gbm.fit(x_nd_train, y_nd_train)\n",
    "gen = gbm.staged_predict(x_nd_train)\n",
    "r2_rate001 = []\n",
    "for n in range(n_estimators):\n",
    "           predicted_targets = next(gen)\n",
    "           if n not in steps: continue\n",
    "           r2_rate001.append(r2_score(predicted_targets, y_nd_train))    "
   ]
  },
  {
   "cell_type": "code",
   "execution_count": 188,
   "metadata": {},
   "outputs": [
    {
     "data": {
      "text/plain": [
       "<matplotlib.legend.Legend at 0x11f015630>"
      ]
     },
     "execution_count": 188,
     "metadata": {},
     "output_type": "execute_result"
    },
    {
     "data": {
      "image/png": "[encoded data removed]",
      "text/plain": [
       "<matplotlib.figure.Figure at 0x11adb1d68>"
      ]
     },
     "metadata": {},
     "output_type": "display_data"
    }
   ],
   "source": [
    "plt.plot(steps, r2_rate1,  label=r'R^2 curve for learning_rate = 1')\n",
    "plt.plot(steps, r2_rate01, label=r'R^2 curve for learning_rate = 0.1')\n",
    "plt.plot(steps, r2_rate001, label=r'R^2 curve for learning_rate = 0.01')\n",
    "plt.legend(loc=4) "
   ]
  },
  {
   "cell_type": "code",
   "execution_count": 289,
   "metadata": {},
   "outputs": [],
   "source": [
    "n_estimators = 3000\n",
    "gbm.set_params(learning_rate=0.005, max_depth=5, max_features = 'sqrt', subsample = 0.9,  n_estimators=n_estimators, min_samples_split=7,\n",
    "min_samples_leaf=10)\n",
    "\n",
    "train_r2 = []\n",
    "test_r2  = []\n",
    "steps = range(100, 3000, 100)\n",
    "\n",
    "gbm.fit(x_nd_train,y_nd_train)\n",
    "gen_train = gbm.staged_predict(x_nd_train) #generators \n",
    "gen_test  = gbm.staged_predict(x_nd_test)\n",
    "\n",
    "for n in range(n_estimators):\n",
    "           predicted_train = next(gen_train)\n",
    "           predicted_test  = next(gen_test)\n",
    "           if n not in steps: continue\n",
    "           train_r2.append(r2_score(predicted_train, y_nd_train))\n",
    "           test_r2.append(r2_score(predicted_test, y_nd_test))        "
   ]
  },
  {
   "cell_type": "code",
   "execution_count": 290,
   "metadata": {},
   "outputs": [
    {
     "data": {
      "text/plain": [
       "<matplotlib.legend.Legend at 0x1223dbb38>"
      ]
     },
     "execution_count": 290,
     "metadata": {},
     "output_type": "execute_result"
    },
    {
     "data": {
      "image/png": "[encoded data removed]",
      "text/plain": [
       "<matplotlib.figure.Figure at 0x12239ccf8>"
      ]
     },
     "metadata": {},
     "output_type": "display_data"
    }
   ],
   "source": [
    "plt.plot(steps, train_r2, label='train set $R^2$')\n",
    "plt.plot(steps, test_r2, label='test set $R^2$')\n",
    "plt.legend(loc=7) "
   ]
  },
  {
   "cell_type": "code",
   "execution_count": 302,
   "metadata": {},
   "outputs": [
    {
     "data": {
      "text/plain": [
       "0.8635334859829155"
      ]
     },
     "execution_count": 302,
     "metadata": {},
     "output_type": "execute_result"
    }
   ],
   "source": [
    "max(train_r2)"
   ]
  },
  {
   "cell_type": "code",
   "execution_count": 292,
   "metadata": {},
   "outputs": [
    {
     "name": "stdout",
     "output_type": "stream",
     "text": [
      "RMSE train: 0.12971378419327143\n",
      "RMSE test : 0.193305512794613\n"
     ]
    }
   ],
   "source": [
    "print(\"RMSE train: {}\".format(rmse(y_nd_train, gbm.predict(x_nd_train))))\n",
    "print(\"RMSE test : {}\".format(rmse(y_nd_test,  gbm.predict(x_nd_test)))) "
   ]
  },
  {
   "cell_type": "code",
   "execution_count": 293,
   "metadata": {},
   "outputs": [
    {
     "data": {
      "text/plain": [
       "[('housesf', 0.3997754496291378),\n",
       " ('overallqual', 0.24452923889272618),\n",
       " ('year_remod_agg', 0.14314877171759016),\n",
       " ('kitchenqual', 0.08674165118042029),\n",
       " ('num_bathrooms', 0.08266537505836453),\n",
       " ('neighborhood', 0.04313951352176089)]"
      ]
     },
     "execution_count": 293,
     "metadata": {},
     "output_type": "execute_result"
    }
   ],
   "source": [
    "gbm_feature_importance = gbm.feature_importances_\n",
    "\n",
    "gbm_sorted_features = sorted(list(zip(x_nd_le.columns, gbm_feature_importance)), key = lambda kv: kv[1], reverse = True) \n",
    "\n",
    "gbm_sorted_features "
   ]
  },
  {
   "cell_type": "code",
   "execution_count": 237,
   "metadata": {},
   "outputs": [],
   "source": [
    "grid_para_gbm = {\n",
    "    'max_depth': range(3,12),\n",
    "    'max_features': ['sqrt', 'auto'], \n",
    "    'min_samples_split':range(3,21,3), \n",
    "    'min_samples_leaf':np.arange(1,10,1),\n",
    "    'subsample':[0.6,0.7,0.75,0.8,0.85,0.9], \n",
    "    'learning_rate': [0.005, 0.008, 0.01, 0.03, 0.05, 0.08, 0.1]   \n",
    "}  "
   ]
  },
  {
   "cell_type": "code",
   "execution_count": 238,
   "metadata": {},
   "outputs": [],
   "source": [
    "gs = GridSearchCV(estimator = GradientBoostingRegressor(n_estimators = 500), param_grid = grid_para_gbm, n_jobs = -1, cv = 5)   "
   ]
  },
  {
   "cell_type": "code",
   "execution_count": 239,
   "metadata": {},
   "outputs": [
    {
     "ename": "KeyboardInterrupt",
     "evalue": "",
     "output_type": "error",
     "traceback": [
      "\u001b[0;31m---------------------------------------------------------------------------\u001b[0m",
      "\u001b[0;31mKeyboardInterrupt\u001b[0m                         Traceback (most recent call last)",
      "\u001b[0;32m<ipython-input-239-01f918571eae>\u001b[0m in \u001b[0;36m<module>\u001b[0;34m()\u001b[0m\n\u001b[0;32m----> 1\u001b[0;31m \u001b[0mgs\u001b[0m\u001b[0;34m.\u001b[0m\u001b[0mfit\u001b[0m\u001b[0;34m(\u001b[0m\u001b[0mx_nd_train\u001b[0m\u001b[0;34m,\u001b[0m \u001b[0my_nd_train\u001b[0m\u001b[0;34m)\u001b[0m\u001b[0;34m\u001b[0m\u001b[0m\n\u001b[0m",
      "\u001b[0;32m/Library/Frameworks/Python.framework/Versions/3.6/lib/python3.6/site-packages/sklearn/model_selection/_search.py\u001b[0m in \u001b[0;36mfit\u001b[0;34m(self, X, y, groups, **fit_params)\u001b[0m\n\u001b[1;32m    685\u001b[0m                 \u001b[0;32mreturn\u001b[0m \u001b[0mresults\u001b[0m\u001b[0;34m\u001b[0m\u001b[0m\n\u001b[1;32m    686\u001b[0m \u001b[0;34m\u001b[0m\u001b[0m\n\u001b[0;32m--> 687\u001b[0;31m             \u001b[0mself\u001b[0m\u001b[0;34m.\u001b[0m\u001b[0m_run_search\u001b[0m\u001b[0;34m(\u001b[0m\u001b[0mevaluate_candidates\u001b[0m\u001b[0;34m)\u001b[0m\u001b[0;34m\u001b[0m\u001b[0m\n\u001b[0m\u001b[1;32m    688\u001b[0m \u001b[0;34m\u001b[0m\u001b[0m\n\u001b[1;32m    689\u001b[0m         \u001b[0;31m# For multi-metric evaluation, store the best_index_, best_params_ and\u001b[0m\u001b[0;34m\u001b[0m\u001b[0;34m\u001b[0m\u001b[0m\n",
      "\u001b[0;32m/Library/Frameworks/Python.framework/Versions/3.6/lib/python3.6/site-packages/sklearn/model_selection/_search.py\u001b[0m in \u001b[0;36m_run_search\u001b[0;34m(self, evaluate_candidates)\u001b[0m\n\u001b[1;32m   1146\u001b[0m     \u001b[0;32mdef\u001b[0m \u001b[0m_run_search\u001b[0m\u001b[0;34m(\u001b[0m\u001b[0mself\u001b[0m\u001b[0;34m,\u001b[0m \u001b[0mevaluate_candidates\u001b[0m\u001b[0;34m)\u001b[0m\u001b[0;34m:\u001b[0m\u001b[0;34m\u001b[0m\u001b[0m\n\u001b[1;32m   1147\u001b[0m         \u001b[0;34m\"\"\"Search all candidates in param_grid\"\"\"\u001b[0m\u001b[0;34m\u001b[0m\u001b[0m\n\u001b[0;32m-> 1148\u001b[0;31m         \u001b[0mevaluate_candidates\u001b[0m\u001b[0;34m(\u001b[0m\u001b[0mParameterGrid\u001b[0m\u001b[0;34m(\u001b[0m\u001b[0mself\u001b[0m\u001b[0;34m.\u001b[0m\u001b[0mparam_grid\u001b[0m\u001b[0;34m)\u001b[0m\u001b[0;34m)\u001b[0m\u001b[0;34m\u001b[0m\u001b[0m\n\u001b[0m\u001b[1;32m   1149\u001b[0m \u001b[0;34m\u001b[0m\u001b[0m\n\u001b[1;32m   1150\u001b[0m \u001b[0;34m\u001b[0m\u001b[0m\n",
      "\u001b[0;32m/Library/Frameworks/Python.framework/Versions/3.6/lib/python3.6/site-packages/sklearn/model_selection/_search.py\u001b[0m in \u001b[0;36mevaluate_candidates\u001b[0;34m(candidate_params)\u001b[0m\n\u001b[1;32m    664\u001b[0m                                \u001b[0;32mfor\u001b[0m \u001b[0mparameters\u001b[0m\u001b[0;34m,\u001b[0m \u001b[0;34m(\u001b[0m\u001b[0mtrain\u001b[0m\u001b[0;34m,\u001b[0m \u001b[0mtest\u001b[0m\u001b[0;34m)\u001b[0m\u001b[0;34m\u001b[0m\u001b[0m\n\u001b[1;32m    665\u001b[0m                                in product(candidate_params,\n\u001b[0;32m--> 666\u001b[0;31m                                           cv.split(X, y, groups)))\n\u001b[0m\u001b[1;32m    667\u001b[0m \u001b[0;34m\u001b[0m\u001b[0m\n\u001b[1;32m    668\u001b[0m                 \u001b[0;32mif\u001b[0m \u001b[0mlen\u001b[0m\u001b[0;34m(\u001b[0m\u001b[0mout\u001b[0m\u001b[0;34m)\u001b[0m \u001b[0;34m<\u001b[0m \u001b[0;36m1\u001b[0m\u001b[0;34m:\u001b[0m\u001b[0;34m\u001b[0m\u001b[0m\n",
      "\u001b[0;32m/Library/Frameworks/Python.framework/Versions/3.6/lib/python3.6/site-packages/joblib/parallel.py\u001b[0m in \u001b[0;36m__call__\u001b[0;34m(self, iterable)\u001b[0m\n\u001b[1;32m    787\u001b[0m                 \u001b[0;31m# consumption.\u001b[0m\u001b[0;34m\u001b[0m\u001b[0;34m\u001b[0m\u001b[0m\n\u001b[1;32m    788\u001b[0m                 \u001b[0mself\u001b[0m\u001b[0;34m.\u001b[0m\u001b[0m_iterating\u001b[0m \u001b[0;34m=\u001b[0m \u001b[0;32mFalse\u001b[0m\u001b[0;34m\u001b[0m\u001b[0m\n\u001b[0;32m--> 789\u001b[0;31m             \u001b[0mself\u001b[0m\u001b[0;34m.\u001b[0m\u001b[0mretrieve\u001b[0m\u001b[0;34m(\u001b[0m\u001b[0;34m)\u001b[0m\u001b[0;34m\u001b[0m\u001b[0m\n\u001b[0m\u001b[1;32m    790\u001b[0m             \u001b[0;31m# Make sure that we get a last message telling us we are done\u001b[0m\u001b[0;34m\u001b[0m\u001b[0;34m\u001b[0m\u001b[0m\n\u001b[1;32m    791\u001b[0m             \u001b[0melapsed_time\u001b[0m \u001b[0;34m=\u001b[0m \u001b[0mtime\u001b[0m\u001b[0;34m.\u001b[0m\u001b[0mtime\u001b[0m\u001b[0;34m(\u001b[0m\u001b[0;34m)\u001b[0m \u001b[0;34m-\u001b[0m \u001b[0mself\u001b[0m\u001b[0;34m.\u001b[0m\u001b[0m_start_time\u001b[0m\u001b[0;34m\u001b[0m\u001b[0m\n",
      "\u001b[0;32m/Library/Frameworks/Python.framework/Versions/3.6/lib/python3.6/site-packages/joblib/parallel.py\u001b[0m in \u001b[0;36mretrieve\u001b[0;34m(self)\u001b[0m\n\u001b[1;32m    697\u001b[0m             \u001b[0;32mtry\u001b[0m\u001b[0;34m:\u001b[0m\u001b[0;34m\u001b[0m\u001b[0m\n\u001b[1;32m    698\u001b[0m                 \u001b[0;32mif\u001b[0m \u001b[0mgetattr\u001b[0m\u001b[0;34m(\u001b[0m\u001b[0mself\u001b[0m\u001b[0;34m.\u001b[0m\u001b[0m_backend\u001b[0m\u001b[0;34m,\u001b[0m \u001b[0;34m'supports_timeout'\u001b[0m\u001b[0;34m,\u001b[0m \u001b[0;32mFalse\u001b[0m\u001b[0;34m)\u001b[0m\u001b[0;34m:\u001b[0m\u001b[0;34m\u001b[0m\u001b[0m\n\u001b[0;32m--> 699\u001b[0;31m                     \u001b[0mself\u001b[0m\u001b[0;34m.\u001b[0m\u001b[0m_output\u001b[0m\u001b[0;34m.\u001b[0m\u001b[0mextend\u001b[0m\u001b[0;34m(\u001b[0m\u001b[0mjob\u001b[0m\u001b[0;34m.\u001b[0m\u001b[0mget\u001b[0m\u001b[0;34m(\u001b[0m\u001b[0mtimeout\u001b[0m\u001b[0;34m=\u001b[0m\u001b[0mself\u001b[0m\u001b[0;34m.\u001b[0m\u001b[0mtimeout\u001b[0m\u001b[0;34m)\u001b[0m\u001b[0;34m)\u001b[0m\u001b[0;34m\u001b[0m\u001b[0m\n\u001b[0m\u001b[1;32m    700\u001b[0m                 \u001b[0;32melse\u001b[0m\u001b[0;34m:\u001b[0m\u001b[0;34m\u001b[0m\u001b[0m\n\u001b[1;32m    701\u001b[0m                     \u001b[0mself\u001b[0m\u001b[0;34m.\u001b[0m\u001b[0m_output\u001b[0m\u001b[0;34m.\u001b[0m\u001b[0mextend\u001b[0m\u001b[0;34m(\u001b[0m\u001b[0mjob\u001b[0m\u001b[0;34m.\u001b[0m\u001b[0mget\u001b[0m\u001b[0;34m(\u001b[0m\u001b[0;34m)\u001b[0m\u001b[0;34m)\u001b[0m\u001b[0;34m\u001b[0m\u001b[0m\n",
      "\u001b[0;32m/Library/Frameworks/Python.framework/Versions/3.6/lib/python3.6/multiprocessing/pool.py\u001b[0m in \u001b[0;36mget\u001b[0;34m(self, timeout)\u001b[0m\n\u001b[1;32m    636\u001b[0m \u001b[0;34m\u001b[0m\u001b[0m\n\u001b[1;32m    637\u001b[0m     \u001b[0;32mdef\u001b[0m \u001b[0mget\u001b[0m\u001b[0;34m(\u001b[0m\u001b[0mself\u001b[0m\u001b[0;34m,\u001b[0m \u001b[0mtimeout\u001b[0m\u001b[0;34m=\u001b[0m\u001b[0;32mNone\u001b[0m\u001b[0;34m)\u001b[0m\u001b[0;34m:\u001b[0m\u001b[0;34m\u001b[0m\u001b[0m\n\u001b[0;32m--> 638\u001b[0;31m         \u001b[0mself\u001b[0m\u001b[0;34m.\u001b[0m\u001b[0mwait\u001b[0m\u001b[0;34m(\u001b[0m\u001b[0mtimeout\u001b[0m\u001b[0;34m)\u001b[0m\u001b[0;34m\u001b[0m\u001b[0m\n\u001b[0m\u001b[1;32m    639\u001b[0m         \u001b[0;32mif\u001b[0m \u001b[0;32mnot\u001b[0m \u001b[0mself\u001b[0m\u001b[0;34m.\u001b[0m\u001b[0mready\u001b[0m\u001b[0;34m(\u001b[0m\u001b[0;34m)\u001b[0m\u001b[0;34m:\u001b[0m\u001b[0;34m\u001b[0m\u001b[0m\n\u001b[1;32m    640\u001b[0m             \u001b[0;32mraise\u001b[0m \u001b[0mTimeoutError\u001b[0m\u001b[0;34m\u001b[0m\u001b[0m\n",
      "\u001b[0;32m/Library/Frameworks/Python.framework/Versions/3.6/lib/python3.6/multiprocessing/pool.py\u001b[0m in \u001b[0;36mwait\u001b[0;34m(self, timeout)\u001b[0m\n\u001b[1;32m    633\u001b[0m \u001b[0;34m\u001b[0m\u001b[0m\n\u001b[1;32m    634\u001b[0m     \u001b[0;32mdef\u001b[0m \u001b[0mwait\u001b[0m\u001b[0;34m(\u001b[0m\u001b[0mself\u001b[0m\u001b[0;34m,\u001b[0m \u001b[0mtimeout\u001b[0m\u001b[0;34m=\u001b[0m\u001b[0;32mNone\u001b[0m\u001b[0;34m)\u001b[0m\u001b[0;34m:\u001b[0m\u001b[0;34m\u001b[0m\u001b[0m\n\u001b[0;32m--> 635\u001b[0;31m         \u001b[0mself\u001b[0m\u001b[0;34m.\u001b[0m\u001b[0m_event\u001b[0m\u001b[0;34m.\u001b[0m\u001b[0mwait\u001b[0m\u001b[0;34m(\u001b[0m\u001b[0mtimeout\u001b[0m\u001b[0;34m)\u001b[0m\u001b[0;34m\u001b[0m\u001b[0m\n\u001b[0m\u001b[1;32m    636\u001b[0m \u001b[0;34m\u001b[0m\u001b[0m\n\u001b[1;32m    637\u001b[0m     \u001b[0;32mdef\u001b[0m \u001b[0mget\u001b[0m\u001b[0;34m(\u001b[0m\u001b[0mself\u001b[0m\u001b[0;34m,\u001b[0m \u001b[0mtimeout\u001b[0m\u001b[0;34m=\u001b[0m\u001b[0;32mNone\u001b[0m\u001b[0;34m)\u001b[0m\u001b[0;34m:\u001b[0m\u001b[0;34m\u001b[0m\u001b[0m\n",
      "\u001b[0;32m/Library/Frameworks/Python.framework/Versions/3.6/lib/python3.6/threading.py\u001b[0m in \u001b[0;36mwait\u001b[0;34m(self, timeout)\u001b[0m\n\u001b[1;32m    549\u001b[0m             \u001b[0msignaled\u001b[0m \u001b[0;34m=\u001b[0m \u001b[0mself\u001b[0m\u001b[0;34m.\u001b[0m\u001b[0m_flag\u001b[0m\u001b[0;34m\u001b[0m\u001b[0m\n\u001b[1;32m    550\u001b[0m             \u001b[0;32mif\u001b[0m \u001b[0;32mnot\u001b[0m \u001b[0msignaled\u001b[0m\u001b[0;34m:\u001b[0m\u001b[0;34m\u001b[0m\u001b[0m\n\u001b[0;32m--> 551\u001b[0;31m                 \u001b[0msignaled\u001b[0m \u001b[0;34m=\u001b[0m \u001b[0mself\u001b[0m\u001b[0;34m.\u001b[0m\u001b[0m_cond\u001b[0m\u001b[0;34m.\u001b[0m\u001b[0mwait\u001b[0m\u001b[0;34m(\u001b[0m\u001b[0mtimeout\u001b[0m\u001b[0;34m)\u001b[0m\u001b[0;34m\u001b[0m\u001b[0m\n\u001b[0m\u001b[1;32m    552\u001b[0m             \u001b[0;32mreturn\u001b[0m \u001b[0msignaled\u001b[0m\u001b[0;34m\u001b[0m\u001b[0m\n\u001b[1;32m    553\u001b[0m \u001b[0;34m\u001b[0m\u001b[0m\n",
      "\u001b[0;32m/Library/Frameworks/Python.framework/Versions/3.6/lib/python3.6/threading.py\u001b[0m in \u001b[0;36mwait\u001b[0;34m(self, timeout)\u001b[0m\n\u001b[1;32m    293\u001b[0m         \u001b[0;32mtry\u001b[0m\u001b[0;34m:\u001b[0m    \u001b[0;31m# restore state no matter what (e.g., KeyboardInterrupt)\u001b[0m\u001b[0;34m\u001b[0m\u001b[0m\n\u001b[1;32m    294\u001b[0m             \u001b[0;32mif\u001b[0m \u001b[0mtimeout\u001b[0m \u001b[0;32mis\u001b[0m \u001b[0;32mNone\u001b[0m\u001b[0;34m:\u001b[0m\u001b[0;34m\u001b[0m\u001b[0m\n\u001b[0;32m--> 295\u001b[0;31m                 \u001b[0mwaiter\u001b[0m\u001b[0;34m.\u001b[0m\u001b[0macquire\u001b[0m\u001b[0;34m(\u001b[0m\u001b[0;34m)\u001b[0m\u001b[0;34m\u001b[0m\u001b[0m\n\u001b[0m\u001b[1;32m    296\u001b[0m                 \u001b[0mgotit\u001b[0m \u001b[0;34m=\u001b[0m \u001b[0;32mTrue\u001b[0m\u001b[0;34m\u001b[0m\u001b[0m\n\u001b[1;32m    297\u001b[0m             \u001b[0;32melse\u001b[0m\u001b[0;34m:\u001b[0m\u001b[0;34m\u001b[0m\u001b[0m\n",
      "\u001b[0;31mKeyboardInterrupt\u001b[0m: "
     ]
    }
   ],
   "source": [
    "gs.fit(x_nd_train, y_nd_train) "
   ]
  },
  {
   "cell_type": "code",
   "execution_count": null,
   "metadata": {},
   "outputs": [],
   "source": [
    "print('Best params: {}'.format(gs.best_params_))\n",
    "print('Best score : {}'.format(gs.best_score_))\n",
    "print('')\n",
    "model = gs.best_estimator_\n",
    "print(\"RMSE train: {}\".format(rmse(y_nd_train, model.predict(x_nd_train))))\n",
    "print(\"RMSE test : {}\".format(rmse(y_nd_test,  model.predict(x_nd_test))))"
   ]
  }
 ],
 "metadata": {
  "kernelspec": {
   "display_name": "Python 3",
   "language": "python",
   "name": "python3"
  },
  "language_info": {
   "codemirror_mode": {
    "name": "ipython",
    "version": 3
   },
   "file_extension": ".py",
   "mimetype": "text/x-python",
   "name": "python",
   "nbconvert_exporter": "python",
   "pygments_lexer": "ipython3",
   "version": "3.6.4"
  }
 },
 "nbformat": 4,
 "nbformat_minor": 2
}
