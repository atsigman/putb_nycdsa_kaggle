{
 "cells": [
  {
   "cell_type": "code",
   "execution_count": 24,
   "metadata": {},
   "outputs": [],
   "source": [
    "# Initializing\n",
    "\n",
    "# data processing. pandas as alias pd\n",
    "import pandas as pd \n",
    "# linear algebra. numpy as alias np\n",
    "import numpy as np \n",
    "\n",
    "# If you're working with a notebook, don't forget to use Matplotlib magic! \n",
    "%matplotlib inline\n",
    "# matlab-style plotting\n",
    "import matplotlib.pyplot as plt \n",
    "import seaborn as sns\n",
    "color = sns.color_palette()\n",
    "# Set the Seaborn theme if desired\n",
    "sns.set_style(\"darkgrid\")\n",
    "\n",
    "# ignore sklearn & seaborn warnings\n",
    "import warnings\n",
    "def ignore_warn(*args, **kwargs):\n",
    "    pass\n",
    "warnings.warn = ignore_warn \n",
    "\n",
    "#for some statistics\n",
    "from scipy import stats\n",
    "from scipy.stats import norm, skew  #ex. sns(fit = norm)\n",
    "\n",
    "\n",
    "# Format scientific notation from pandas aggregation\n",
    "pd.set_option('display.float_format', lambda x: '%.3f' % x)\n",
    "pd.set_option('display.max_columns', 500)\n",
    "pd.set_option('display.width', 1000) "
   ]
  },
  {
   "cell_type": "code",
   "execution_count": 25,
   "metadata": {},
   "outputs": [],
   "source": [
    "df_dummies = pd.read_csv('data/all_data.csv')\n",
    "df_no_dummies = pd.read_csv('data/all_data_no_dummies.csv') "
   ]
  },
  {
   "cell_type": "code",
   "execution_count": 26,
   "metadata": {},
   "outputs": [],
   "source": [
    "targets = pd.read_csv('data/y_train.csv') "
   ]
  },
  {
   "cell_type": "code",
   "execution_count": 48,
   "metadata": {},
   "outputs": [],
   "source": [
    "from sklearn.model_selection import GridSearchCV, train_test_split \n",
    "\n",
    "from sklearn import linear_model as lm \n",
    "from sklearn.ensemble import GradientBoostingRegressor as gbr, RandomForestRegressor as rfr\n",
    "\n",
    "from sklearn.metrics import mean_squared_error  \n",
    "\n",
    "#rmse error: \n",
    "def rmse(y, y_pred):\n",
    "    return np.sqrt(mean_squared_error(y, y_pred))"
   ]
  },
  {
   "cell_type": "markdown",
   "metadata": {},
   "source": [
    "### Split all_data into train and test: "
   ]
  },
  {
   "cell_type": "code",
   "execution_count": 52,
   "metadata": {},
   "outputs": [],
   "source": [
    "ntrain = targets.shape[0] \n",
    "x_d = df_dummies[:ntrain] \n",
    "x_nd = df_no_dummies[:ntrain] \n",
    "targets_log = targets.apply(np.log)\n"
   ]
  },
  {
   "cell_type": "code",
   "execution_count": 44,
   "metadata": {},
   "outputs": [],
   "source": [
    "from sklearn.preprocessing import StandardScaler \n",
    "\n",
    "scaler = StandardScaler()\n",
    "scaler.fit(x_d)\n",
    "x_d_std = scaler.transform(x_d)\n"
   ]
  },
  {
   "cell_type": "markdown",
   "metadata": {},
   "source": [
    "### Split x_ and x_nd + targets into train and test using train_test_split: "
   ]
  },
  {
   "cell_type": "code",
   "execution_count": 58,
   "metadata": {},
   "outputs": [],
   "source": [
    "x_d_train, x_d_test, y_d_train, y_d_test = train_test_split(x_d_std, targets_log, test_size = 0.2, random_state = 42) \n",
    "x_nd_train, x_nd_test, y_nd_train, y_nd_test = train_test_split(x_nd, targets_log, test_size = 0.2, random_state = 42)  \n"
   ]
  },
  {
   "cell_type": "markdown",
   "metadata": {},
   "source": [
    "## MODELLING"
   ]
  },
  {
   "cell_type": "code",
   "execution_count": 102,
   "metadata": {},
   "outputs": [],
   "source": [
    "from sklearn.ensemble import GradientBoostingRegressor, RandomForestRegressor"
   ]
  },
  {
   "cell_type": "markdown",
   "metadata": {},
   "source": [
    "### 1. Multiple Linear Regression: "
   ]
  },
  {
   "cell_type": "code",
   "execution_count": 59,
   "metadata": {},
   "outputs": [
    {
     "name": "stdout",
     "output_type": "stream",
     "text": [
      "RMSE train: 0.17318243900299812\n",
      "RMSE test : 15562705841228.213\n",
      "R^2 score: 0.8014776983376941\n"
     ]
    }
   ],
   "source": [
    "lm_model =lm.LinearRegression()\n",
    "lm_model.fit(x_d_train, y_d_train)\n",
    "\n",
    "#RMS error \n",
    "print(\"RMSE train: {}\".format(rmse(y_d_train, lm_model.predict(x_d_train)))) \n",
    "print(\"RMSE test : {}\".format(rmse(y_d_test,  lm_model.predict(x_d_test)))) \n",
    "print('R^2 score: {}'.format(lm_model.score(x_d_train, y_d_train)))\n",
    "\n",
    "\n"
   ]
  },
  {
   "cell_type": "markdown",
   "metadata": {},
   "source": [
    "### 2. Ridge/Lasso/Elastic Net : Penalised LR "
   ]
  },
  {
   "cell_type": "code",
   "execution_count": 70,
   "metadata": {},
   "outputs": [
    {
     "name": "stdout",
     "output_type": "stream",
     "text": [
      "Best params: {'alpha': 20.0}\n",
      "Best score : 0.7480641187701964\n",
      "RMSE train: 0.17316473428517343\n",
      "RMSE test : 0.18610748181507164\n",
      "R^2 score: 0.8015182867679322\n"
     ]
    }
   ],
   "source": [
    "#1. ridge: \n",
    "\n",
    "grid_param = [{'alpha': np.linspace(1e-3,20,20)}]\n",
    "\n",
    "gs = GridSearchCV(estimator=lm.Ridge(random_state=42), param_grid=grid_param, cv=5)\n",
    "\n",
    "gs.fit(x_d_std, targets_log)\n",
    "\n",
    "#cv_results_, grid_scores_ (to obsolete), best_estimator_, best_params_, best_score_\n",
    "print('Best params: {}'.format(gs.best_params_))\n",
    "print('Best score : {}'.format(gs.best_score_))\n",
    "#print('')\n",
    "model = gs.best_estimator_\n",
    "print(\"RMSE train: {}\".format(rmse(y_d_train, model.predict(x_d_train))))\n",
    "print(\"RMSE test : {}\".format(rmse(y_d_test,  model.predict(x_d_test))))\n",
    "print('R^2 score: {}'.format(model.score(x_d_train, y_d_train))) "
   ]
  },
  {
   "cell_type": "code",
   "execution_count": 73,
   "metadata": {},
   "outputs": [
    {
     "name": "stdout",
     "output_type": "stream",
     "text": [
      "Best params: {'alpha': 0.001}\n",
      "Best score : 0.7493747517752001\n",
      "RMSE train: 0.17342910634294778\n",
      "RMSE test : 0.18603750059370833\n"
     ]
    }
   ],
   "source": [
    "#2. Lasso: \n",
    "\n",
    "grid_param = [{'alpha': np.linspace(1e-3,20,20)}] \n",
    "\n",
    "gs = GridSearchCV(estimator=lm.Lasso(random_state= 42, normalize=False), param_grid=grid_param, cv=5)\n",
    "\n",
    "gs.fit(x_d_std, targets_log)\n",
    "\n",
    "#cv_results_, grid_scores_ (to obsolete), best_estimator_, best_params_, best_score_\n",
    "print('Best params: {}'.format(gs.best_params_))\n",
    "print('Best score : {}'.format(gs.best_score_))\n",
    "#print('')\n",
    "model = gs.best_estimator_\n",
    "print(\"RMSE train: {}\".format(rmse(y_d_train, model.predict(x_d_train))))\n",
    "print(\"RMSE test : {}\".format(rmse(y_d_test,  model.predict(x_d_test)))) \n"
   ]
  },
  {
   "cell_type": "code",
   "execution_count": 75,
   "metadata": {},
   "outputs": [
    {
     "name": "stdout",
     "output_type": "stream",
     "text": [
      "The intercept is 5.6668\n",
      "The slopes are \n",
      "ExterQual              -0.000\n",
      "Fireplaces              0.041\n",
      "GarageArea              0.000\n",
      "GrLivArea               0.000\n",
      "HeatingQC               0.014\n",
      "KitchenQual             0.036\n",
      "OverallQual             0.063\n",
      "TotRmsAbvGrd            0.000\n",
      "Num_Bathrooms           0.034\n",
      "HouseSF                 0.000\n",
      "YearRemodAgg            0.003\n",
      "Exterior1st_AsbShng    -0.016\n",
      "Exterior1st_AsphShn    -0.000\n",
      "Exterior1st_BrkComm    -0.000\n",
      "Exterior1st_BrkFace     0.027\n",
      "Exterior1st_CBlock     -0.000\n",
      "Exterior1st_CemntBd    -0.000\n",
      "Exterior1st_HdBoard     0.008\n",
      "Exterior1st_ImStucc     0.000\n",
      "Exterior1st_MetalSd     0.003\n",
      "Exterior1st_Plywood    -0.005\n",
      "Exterior1st_Stone       0.000\n",
      "Exterior1st_Stucco      0.007\n",
      "Exterior1st_VinylSd    -0.011\n",
      "Exterior1st_Wd Sdng     0.000\n",
      "Exterior1st_WdShing    -0.000\n",
      "Foundation_BrkTil      -0.000\n",
      "Foundation_CBlock       0.000\n",
      "Foundation_PConc        0.000\n",
      "Foundation_Slab        -0.000\n",
      "                        ...  \n",
      "HouseStyle_SLvl         0.000\n",
      "LotShape_IR1           -0.000\n",
      "LotShape_IR2            0.045\n",
      "LotShape_IR3            0.000\n",
      "LotShape_Reg           -0.005\n",
      "Neighborhood_Blmngtn   -0.000\n",
      "Neighborhood_Blueste   -0.000\n",
      "Neighborhood_BrDale    -0.100\n",
      "Neighborhood_BrkSide    0.023\n",
      "Neighborhood_ClearCr    0.060\n",
      "Neighborhood_CollgCr    0.000\n",
      "Neighborhood_Crawfor    0.088\n",
      "Neighborhood_Edwards   -0.008\n",
      "Neighborhood_Gilbert   -0.000\n",
      "Neighborhood_IDOTRR    -0.136\n",
      "Neighborhood_MeadowV   -0.094\n",
      "Neighborhood_Mitchel    0.000\n",
      "Neighborhood_NAmes      0.018\n",
      "Neighborhood_NPkVill    0.000\n",
      "Neighborhood_NWAmes    -0.009\n",
      "Neighborhood_NoRidge    0.000\n",
      "Neighborhood_NridgHt    0.032\n",
      "Neighborhood_OldTown   -0.038\n",
      "Neighborhood_SWISU     -0.000\n",
      "Neighborhood_Sawyer     0.000\n",
      "Neighborhood_SawyerW   -0.009\n",
      "Neighborhood_Somerst   -0.000\n",
      "Neighborhood_StoneBr    0.024\n",
      "Neighborhood_Timber     0.022\n",
      "Neighborhood_Veenker    0.000\n",
      "Length: 69, dtype: float64\n"
     ]
    }
   ],
   "source": [
    "model.fit(x_d, targets_log)\n",
    "print('The intercept is %.4f' %(model.intercept_))\n",
    "lassoCoef = pd.Series(model.coef_, index=x_d.columns)\n",
    "print('The slopes are \\n%s' %(lassoCoef))  "
   ]
  },
  {
   "cell_type": "code",
   "execution_count": 76,
   "metadata": {},
   "outputs": [
    {
     "name": "stdout",
     "output_type": "stream",
     "text": [
      "Best params: {'alpha': 0.001, 'l1_ratio': 1.0}\n",
      "Best score : 0.7493747517752001\n",
      "RMSE train: 0.17342910634294778\n",
      "RMSE test : 0.18603750059370833\n"
     ]
    }
   ],
   "source": [
    "#3: Elastic Net \n",
    "\n",
    "grid_param = [{'alpha': np.linspace(1e-3,20,20), 'l1_ratio': np.linspace(0.015, 1, 20)}]\n",
    "\n",
    "# Confirmed that setting scoring='neg_mean_squared_error' is the same result as using the default \"R2\" score.\n",
    "gs = GridSearchCV(estimator=lm.ElasticNet(random_state=42), param_grid=grid_param, cv=5)\n",
    "\n",
    "gs.fit(x_d_std, targets_log) \n",
    "\n",
    "#cv_results_, grid_scores_ (to obsolete), best_estimator_, best_params_, best_score_\n",
    "print('Best params: {}'.format(gs.best_params_))\n",
    "print('Best score : {}'.format(gs.best_score_)) \n",
    "#print('')\n",
    "model = gs.best_estimator_\n",
    "print(\"RMSE train: {}\".format(rmse(y_d_train, model.predict(x_d_train))))\n",
    "print(\"RMSE test : {}\".format(rmse(y_d_test, model.predict(x_d_test))))  "
   ]
  },
  {
   "cell_type": "code",
   "execution_count": 77,
   "metadata": {},
   "outputs": [
    {
     "data": {
      "text/plain": [
       "0.4782608695652174"
      ]
     },
     "execution_count": 77,
     "metadata": {},
     "output_type": "execute_result"
    }
   ],
   "source": [
    "#proportion of coeffs > 1e-6 out of all coeffs \n",
    "\n",
    "sum(model.coef_ > 1e-6) / model.coef_.shape[0] "
   ]
  },
  {
   "cell_type": "code",
   "execution_count": 130,
   "metadata": {},
   "outputs": [
    {
     "name": "stdout",
     "output_type": "stream",
     "text": [
      "The training error is: 0.04521\n",
      "The test     error is: 0.33463\n"
     ]
    }
   ],
   "source": [
    "\n",
    "#test random forest regressor with default parameters: \n",
    "\n",
    "randomForest = ensemble.RandomForestRegressor()\n",
    "\n",
    "# fit RF model on training set\n",
    "randomForest.set_params(random_state=42)\n",
    "\n",
    "randomForest.fit(x_d_train, y_d_train)  \n",
    "\n",
    "print(\"The training error is: %.5f\" % (1- randomForest.score(x_d_train, y_d_train))) \n",
    "print(\"The test     error is: %.5f\" % (1 - randomForest.score(x_d_test, y_d_test)))   "
   ]
  },
  {
   "cell_type": "code",
   "execution_count": 154,
   "metadata": {},
   "outputs": [],
   "source": [
    "grid_para_forest = {\n",
    "    'n_estimators': range(80, 200, 10), \n",
    "    'max_features': ['sqrt', 'auto']\n",
    "} "
   ]
  },
  {
   "cell_type": "code",
   "execution_count": 155,
   "metadata": {},
   "outputs": [],
   "source": [
    "gs = GridSearchCV(estimator = RandomForestRegressor(\\\n",
    "                                    min_samples_split=5,\\\n",
    "                                    max_depth = 10,\\\n",
    "                                    min_samples_leaf=1,\\\n",
    "                                    random_state=42,\\\n",
    "                                    n_jobs=-1),\\\n",
    "                  param_grid = grid_para_forest, n_jobs=-1, cv=5)   "
   ]
  },
  {
   "cell_type": "code",
   "execution_count": 156,
   "metadata": {},
   "outputs": [
    {
     "data": {
      "text/plain": [
       "GridSearchCV(cv=5, error_score='raise',\n",
       "       estimator=RandomForestRegressor(bootstrap=True, criterion='mse', max_depth=10,\n",
       "           max_features='auto', max_leaf_nodes=None,\n",
       "           min_impurity_decrease=0.0, min_impurity_split=None,\n",
       "           min_samples_leaf=1, min_samples_split=5,\n",
       "           min_weight_fraction_leaf=0.0, n_estimators=10, n_jobs=-1,\n",
       "           oob_score=False, random_state=42, verbose=0, warm_start=False),\n",
       "       fit_params=None, iid=True, n_jobs=-1,\n",
       "       param_grid={'n_estimators': range(80, 200, 10), 'max_features': ['sqrt', 'auto']},\n",
       "       pre_dispatch='2*n_jobs', refit=True, return_train_score='warn',\n",
       "       scoring=None, verbose=0)"
      ]
     },
     "execution_count": 156,
     "metadata": {},
     "output_type": "execute_result"
    }
   ],
   "source": [
    "gs.fit(x_d_train, y_d_train)  "
   ]
  },
  {
   "cell_type": "code",
   "execution_count": 157,
   "metadata": {},
   "outputs": [
    {
     "name": "stdout",
     "output_type": "stream",
     "text": [
      "Best params: {'max_features': 'sqrt', 'n_estimators': 160}\n",
      "Best score : 0.764677787370153\n"
     ]
    }
   ],
   "source": [
    "print('Best params: {}'.format(gs.best_params_))\n",
    "print('Best score : {}'.format(gs.best_score_)) "
   ]
  },
  {
   "cell_type": "code",
   "execution_count": 158,
   "metadata": {},
   "outputs": [
    {
     "name": "stdout",
     "output_type": "stream",
     "text": [
      "RMSE train: 0.13034901054513245\n",
      "RMSE test : 0.1996985958782946\n"
     ]
    }
   ],
   "source": [
    "forest_final = gs.best_estimator_\n",
    "print(\"RMSE train: {}\".format(rmse(y_d_train, forest_final.predict(x_d_train)))) #0.1305\n",
    "print(\"RMSE test : {}\".format(rmse(y_d_test,  forest_final.predict(x_d_test)))) #0.1996"
   ]
  },
  {
   "cell_type": "code",
   "execution_count": 166,
   "metadata": {},
   "outputs": [
    {
     "data": {
      "text/plain": [
       "[('HouseSF', 0.1957805728715159),\n",
       " ('OverallQual', 0.11524353111401342),\n",
       " ('GrLivArea', 0.11318324858920066),\n",
       " ('YearRemodAgg', 0.0863273945490596),\n",
       " ('GarageArea', 0.0754268326421905),\n",
       " ('ExterQual', 0.0631267699654737),\n",
       " ('KitchenQual', 0.05701338811945293),\n",
       " ('Num_Bathrooms', 0.05291583533658713),\n",
       " ('Fireplaces', 0.04631053874420838),\n",
       " ('TotRmsAbvGrd', 0.029066905402628636),\n",
       " ('Foundation_PConc', 0.0272024047643721),\n",
       " ('HeatingQC', 0.01705453958977323),\n",
       " ('Foundation_CBlock', 0.009982056142071268),\n",
       " ('Neighborhood_NridgHt', 0.0084840666357218),\n",
       " ('Exterior1st_VinylSd', 0.007072095516051824),\n",
       " ('Neighborhood_OldTown', 0.0053175803548562925),\n",
       " ('Neighborhood_IDOTRR', 0.0051996861274895),\n",
       " ('HouseStyle_2Story', 0.0045782049445904464),\n",
       " ('HouseStyle_1Story', 0.00434797774142646),\n",
       " ('LotShape_Reg', 0.00427390561308247),\n",
       " ('Neighborhood_NAmes', 0.004145804289911111),\n",
       " ('Neighborhood_Crawfor', 0.0037701678207107056),\n",
       " ('Neighborhood_NoRidge', 0.0037021365648128245),\n",
       " ('Exterior1st_AsbShng', 0.0034747943282364864),\n",
       " ('Neighborhood_Edwards', 0.003402857655631803),\n",
       " ('Foundation_BrkTil', 0.0032674237321710445),\n",
       " ('Exterior1st_Wd Sdng', 0.0030437340685044987),\n",
       " ('Exterior1st_BrkFace', 0.002664282130697435),\n",
       " ('LotShape_IR1', 0.0025767582522243657),\n",
       " ('Neighborhood_Timber', 0.0022910259197699086),\n",
       " ('Neighborhood_MeadowV', 0.002273286724687264),\n",
       " ('Exterior1st_MetalSd', 0.002259441596836974),\n",
       " ('Neighborhood_ClearCr', 0.002228627127752136),\n",
       " ('HouseStyle_1.5Fin', 0.002165984884078501),\n",
       " ('Neighborhood_BrkSide', 0.002131993999168862),\n",
       " ('Neighborhood_SawyerW', 0.002045904541366373),\n",
       " ('Exterior1st_CemntBd', 0.0019517280688107676),\n",
       " ('Neighborhood_NWAmes', 0.0019123416016559227),\n",
       " ('Exterior1st_Plywood', 0.0017703914657499812),\n",
       " ('Exterior1st_BrkComm', 0.0015817030352019898),\n",
       " ('Neighborhood_Somerst', 0.0015682996115102862),\n",
       " ('Exterior1st_HdBoard', 0.001550449928884649),\n",
       " ('Neighborhood_CollgCr', 0.0015199620197560656),\n",
       " ('LotShape_IR2', 0.0013734802104519122),\n",
       " ('Foundation_Slab', 0.0013588165171060525),\n",
       " ('HouseStyle_SLvl', 0.0012915930378549852),\n",
       " ('Exterior1st_Stucco', 0.0012080310473726427),\n",
       " ('Neighborhood_BrDale', 0.0011285341372868401),\n",
       " ('HouseStyle_SFoyer', 0.0010977337583400854),\n",
       " ('Neighborhood_Gilbert', 0.0008664344470871532),\n",
       " ('LotShape_IR3', 0.0008639105400125354),\n",
       " ('Neighborhood_StoneBr', 0.0008604257011713724),\n",
       " ('Neighborhood_Sawyer', 0.000853606254432893),\n",
       " ('HouseStyle_2.5Fin', 0.0008461751744433728),\n",
       " ('Neighborhood_SWISU', 0.0006116298295131699),\n",
       " ('Exterior1st_WdShing', 0.0005112243572047437),\n",
       " ('Neighborhood_Mitchel', 0.00041014698302470137),\n",
       " ('Neighborhood_Veenker', 0.0003862431862596314),\n",
       " ('HouseStyle_1.5Unf', 0.0003119156574210878),\n",
       " ('HouseStyle_2.5Unf', 0.0002592924345107825),\n",
       " ('Neighborhood_Blmngtn', 0.00019531394269267782),\n",
       " ('Neighborhood_NPkVill', 0.0001338645893050006),\n",
       " ('Foundation_Stone', 0.00012981358043411185),\n",
       " ('Foundation_Wood', 7.01952226989252e-05),\n",
       " ('Exterior1st_Stone', 1.8940941320830614e-05),\n",
       " ('Neighborhood_Blueste', 3.877542002735948e-06),\n",
       " ('Exterior1st_ImStucc', 2.166776155661319e-06),\n",
       " ('Exterior1st_AsphShn', 0.0),\n",
       " ('Exterior1st_CBlock', 0.0)]"
      ]
     },
     "execution_count": 166,
     "metadata": {},
     "output_type": "execute_result"
    }
   ],
   "source": [
    "\n",
    "forest_feature_importance = forest_final.feature_importances_\n",
    "\n",
    "forest_sorted_features = sorted(list(zip(x_d.columns, forest_feature_importance)), key = lambda kv: kv[1], reverse = True) \n",
    "\n",
    "forest_sorted_features "
   ]
  },
  {
   "cell_type": "code",
   "execution_count": null,
   "metadata": {},
   "outputs": [],
   "source": [
    "#graph feature importances "
   ]
  }
 ],
 "metadata": {
  "kernelspec": {
   "display_name": "Python 3",
   "language": "python",
   "name": "python3"
  },
  "language_info": {
   "codemirror_mode": {
    "name": "ipython",
    "version": 3
   },
   "file_extension": ".py",
   "mimetype": "text/x-python",
   "name": "python",
   "nbconvert_exporter": "python",
   "pygments_lexer": "ipython3",
   "version": "3.6.4"
  }
 },
 "nbformat": 4,
 "nbformat_minor": 2
}
